{
 "cells": [
  {
   "cell_type": "markdown",
   "id": "liberal-retirement",
   "metadata": {
    "id": "wPnX9Dz4RILE",
    "papermill": {
     "duration": 0.059312,
     "end_time": "2021-04-28T14:30:39.251312",
     "exception": false,
     "start_time": "2021-04-28T14:30:39.192000",
     "status": "completed"
    },
    "tags": []
   },
   "source": [
    "# Determination of patterns that form the success of the game"
   ]
  },
  {
   "cell_type": "markdown",
   "id": "transsexual-iraqi",
   "metadata": {
    "id": "cWkH_VssRILE",
    "papermill": {
     "duration": 0.056462,
     "end_time": "2021-04-28T14:30:39.364804",
     "exception": false,
     "start_time": "2021-04-28T14:30:39.308342",
     "status": "completed"
    },
    "tags": []
   },
   "source": [
    "![](https://i.ibb.co/h2wfnr3/Games-2000x1125.jpg)\n",
    "\n",
    "Historical data on game sales, user and expert ratings, genres and platforms (for example, **Xbox** or **PlayStation**) are available from open sources. We need to identify the patterns that determine the success of the game. \n"
   ]
  },
  {
   "cell_type": "markdown",
   "id": "reported-beijing",
   "metadata": {
    "id": "p7nvwzaVRILF",
    "papermill": {
     "duration": 0.056571,
     "end_time": "2021-04-28T14:30:39.477752",
     "exception": false,
     "start_time": "2021-04-28T14:30:39.421181",
     "status": "completed"
    },
    "tags": []
   },
   "source": [
    "## General information about data in operation"
   ]
  },
  {
   "cell_type": "markdown",
   "id": "banner-shopping",
   "metadata": {
    "id": "ANcbMEusRILF",
    "papermill": {
     "duration": 0.05704,
     "end_time": "2021-04-28T14:30:39.591362",
     "exception": false,
     "start_time": "2021-04-28T14:30:39.534322",
     "status": "completed"
    },
    "tags": []
   },
   "source": [
    "### Loading and previewing data"
   ]
  },
  {
   "cell_type": "code",
   "execution_count": 1,
   "id": "assured-japan",
   "metadata": {
    "execution": {
     "iopub.execute_input": "2021-04-28T14:30:39.722429Z",
     "iopub.status.busy": "2021-04-28T14:30:39.721441Z",
     "iopub.status.idle": "2021-04-28T14:30:40.592454Z",
     "shell.execute_reply": "2021-04-28T14:30:40.591752Z"
    },
    "id": "jfSzITK2RILF",
    "papermill": {
     "duration": 0.9442,
     "end_time": "2021-04-28T14:30:40.592631",
     "exception": false,
     "start_time": "2021-04-28T14:30:39.648431",
     "status": "completed"
    },
    "tags": []
   },
   "outputs": [],
   "source": [
    "import pandas as pd\n",
    "import numpy as np\n",
    "%matplotlib inline\n",
    "import matplotlib.pyplot as plt\n",
    "from tqdm.notebook import tqdm\n",
    "import seaborn as sns\n",
    "from scipy import stats as st\n",
    "sns.set_style(\"darkgrid\")\n",
    "import warnings\n",
    "warnings.filterwarnings(\"ignore\")\n"
   ]
  },
  {
   "cell_type": "code",
   "execution_count": 2,
   "id": "announced-literature",
   "metadata": {
    "execution": {
     "iopub.execute_input": "2021-04-28T14:30:40.714718Z",
     "iopub.status.busy": "2021-04-28T14:30:40.713930Z",
     "iopub.status.idle": "2021-04-28T14:30:40.818225Z",
     "shell.execute_reply": "2021-04-28T14:30:40.818730Z"
    },
    "id": "SsPv5YRcRILG",
    "outputId": "f7824718-3205-4952-fbde-5bda1fd9641a",
    "papermill": {
     "duration": 0.166926,
     "end_time": "2021-04-28T14:30:40.818896",
     "exception": false,
     "start_time": "2021-04-28T14:30:40.651970",
     "status": "completed"
    },
    "tags": []
   },
   "outputs": [
    {
     "data": {
      "text/html": [
       "<div>\n",
       "<style scoped>\n",
       "    .dataframe tbody tr th:only-of-type {\n",
       "        vertical-align: middle;\n",
       "    }\n",
       "\n",
       "    .dataframe tbody tr th {\n",
       "        vertical-align: top;\n",
       "    }\n",
       "\n",
       "    .dataframe thead th {\n",
       "        text-align: right;\n",
       "    }\n",
       "</style>\n",
       "<table border=\"1\" class=\"dataframe\">\n",
       "  <thead>\n",
       "    <tr style=\"text-align: right;\">\n",
       "      <th></th>\n",
       "      <th>Rank</th>\n",
       "      <th>Name</th>\n",
       "      <th>Platform</th>\n",
       "      <th>Year</th>\n",
       "      <th>Genre</th>\n",
       "      <th>Publisher</th>\n",
       "      <th>NA_Sales</th>\n",
       "      <th>EU_Sales</th>\n",
       "      <th>JP_Sales</th>\n",
       "      <th>Other_Sales</th>\n",
       "      <th>Global_Sales</th>\n",
       "    </tr>\n",
       "  </thead>\n",
       "  <tbody>\n",
       "    <tr>\n",
       "      <th>0</th>\n",
       "      <td>1</td>\n",
       "      <td>Wii Sports</td>\n",
       "      <td>Wii</td>\n",
       "      <td>2006.0</td>\n",
       "      <td>Sports</td>\n",
       "      <td>Nintendo</td>\n",
       "      <td>41.49</td>\n",
       "      <td>29.02</td>\n",
       "      <td>3.77</td>\n",
       "      <td>8.46</td>\n",
       "      <td>82.74</td>\n",
       "    </tr>\n",
       "    <tr>\n",
       "      <th>1</th>\n",
       "      <td>2</td>\n",
       "      <td>Super Mario Bros.</td>\n",
       "      <td>NES</td>\n",
       "      <td>1985.0</td>\n",
       "      <td>Platform</td>\n",
       "      <td>Nintendo</td>\n",
       "      <td>29.08</td>\n",
       "      <td>3.58</td>\n",
       "      <td>6.81</td>\n",
       "      <td>0.77</td>\n",
       "      <td>40.24</td>\n",
       "    </tr>\n",
       "    <tr>\n",
       "      <th>2</th>\n",
       "      <td>3</td>\n",
       "      <td>Mario Kart Wii</td>\n",
       "      <td>Wii</td>\n",
       "      <td>2008.0</td>\n",
       "      <td>Racing</td>\n",
       "      <td>Nintendo</td>\n",
       "      <td>15.85</td>\n",
       "      <td>12.88</td>\n",
       "      <td>3.79</td>\n",
       "      <td>3.31</td>\n",
       "      <td>35.82</td>\n",
       "    </tr>\n",
       "    <tr>\n",
       "      <th>3</th>\n",
       "      <td>4</td>\n",
       "      <td>Wii Sports Resort</td>\n",
       "      <td>Wii</td>\n",
       "      <td>2009.0</td>\n",
       "      <td>Sports</td>\n",
       "      <td>Nintendo</td>\n",
       "      <td>15.75</td>\n",
       "      <td>11.01</td>\n",
       "      <td>3.28</td>\n",
       "      <td>2.96</td>\n",
       "      <td>33.00</td>\n",
       "    </tr>\n",
       "    <tr>\n",
       "      <th>4</th>\n",
       "      <td>5</td>\n",
       "      <td>Pokemon Red/Pokemon Blue</td>\n",
       "      <td>GB</td>\n",
       "      <td>1996.0</td>\n",
       "      <td>Role-Playing</td>\n",
       "      <td>Nintendo</td>\n",
       "      <td>11.27</td>\n",
       "      <td>8.89</td>\n",
       "      <td>10.22</td>\n",
       "      <td>1.00</td>\n",
       "      <td>31.37</td>\n",
       "    </tr>\n",
       "  </tbody>\n",
       "</table>\n",
       "</div>"
      ],
      "text/plain": [
       "   Rank                      Name Platform    Year         Genre Publisher  \\\n",
       "0     1                Wii Sports      Wii  2006.0        Sports  Nintendo   \n",
       "1     2         Super Mario Bros.      NES  1985.0      Platform  Nintendo   \n",
       "2     3            Mario Kart Wii      Wii  2008.0        Racing  Nintendo   \n",
       "3     4         Wii Sports Resort      Wii  2009.0        Sports  Nintendo   \n",
       "4     5  Pokemon Red/Pokemon Blue       GB  1996.0  Role-Playing  Nintendo   \n",
       "\n",
       "   NA_Sales  EU_Sales  JP_Sales  Other_Sales  Global_Sales  \n",
       "0     41.49     29.02      3.77         8.46         82.74  \n",
       "1     29.08      3.58      6.81         0.77         40.24  \n",
       "2     15.85     12.88      3.79         3.31         35.82  \n",
       "3     15.75     11.01      3.28         2.96         33.00  \n",
       "4     11.27      8.89     10.22         1.00         31.37  "
      ]
     },
     "execution_count": 2,
     "metadata": {},
     "output_type": "execute_result"
    }
   ],
   "source": [
    "game_df = pd.read_csv('../input/videogamesales/vgsales.csv')\n",
    "game_df.head()"
   ]
  },
  {
   "cell_type": "code",
   "execution_count": 3,
   "id": "indonesian-specific",
   "metadata": {
    "execution": {
     "iopub.execute_input": "2021-04-28T14:30:40.947522Z",
     "iopub.status.busy": "2021-04-28T14:30:40.939979Z",
     "iopub.status.idle": "2021-04-28T14:30:40.966599Z",
     "shell.execute_reply": "2021-04-28T14:30:40.966078Z"
    },
    "id": "C-2_J6mKRILH",
    "outputId": "4ff1682d-483e-4176-b8d1-3b6a8a3640e6",
    "papermill": {
     "duration": 0.089371,
     "end_time": "2021-04-28T14:30:40.966743",
     "exception": false,
     "start_time": "2021-04-28T14:30:40.877372",
     "status": "completed"
    },
    "tags": []
   },
   "outputs": [
    {
     "name": "stdout",
     "output_type": "stream",
     "text": [
      "<class 'pandas.core.frame.DataFrame'>\n",
      "RangeIndex: 16598 entries, 0 to 16597\n",
      "Data columns (total 11 columns):\n",
      " #   Column        Non-Null Count  Dtype  \n",
      "---  ------        --------------  -----  \n",
      " 0   Rank          16598 non-null  int64  \n",
      " 1   Name          16598 non-null  object \n",
      " 2   Platform      16598 non-null  object \n",
      " 3   Year          16327 non-null  float64\n",
      " 4   Genre         16598 non-null  object \n",
      " 5   Publisher     16540 non-null  object \n",
      " 6   NA_Sales      16598 non-null  float64\n",
      " 7   EU_Sales      16598 non-null  float64\n",
      " 8   JP_Sales      16598 non-null  float64\n",
      " 9   Other_Sales   16598 non-null  float64\n",
      " 10  Global_Sales  16598 non-null  float64\n",
      "dtypes: float64(6), int64(1), object(4)\n",
      "memory usage: 1.4+ MB\n"
     ]
    }
   ],
   "source": [
    "game_df.info()"
   ]
  },
  {
   "cell_type": "code",
   "execution_count": 4,
   "id": "cloudy-medline",
   "metadata": {
    "execution": {
     "iopub.execute_input": "2021-04-28T14:30:41.092374Z",
     "iopub.status.busy": "2021-04-28T14:30:41.091426Z",
     "iopub.status.idle": "2021-04-28T14:30:41.130343Z",
     "shell.execute_reply": "2021-04-28T14:30:41.129810Z"
    },
    "id": "ekAYjNChRILH",
    "outputId": "26bf5ece-62cb-4a89-84f9-3c0b2a5da5fa",
    "papermill": {
     "duration": 0.105983,
     "end_time": "2021-04-28T14:30:41.130483",
     "exception": false,
     "start_time": "2021-04-28T14:30:41.024500",
     "status": "completed"
    },
    "tags": []
   },
   "outputs": [
    {
     "data": {
      "text/html": [
       "<div>\n",
       "<style scoped>\n",
       "    .dataframe tbody tr th:only-of-type {\n",
       "        vertical-align: middle;\n",
       "    }\n",
       "\n",
       "    .dataframe tbody tr th {\n",
       "        vertical-align: top;\n",
       "    }\n",
       "\n",
       "    .dataframe thead th {\n",
       "        text-align: right;\n",
       "    }\n",
       "</style>\n",
       "<table border=\"1\" class=\"dataframe\">\n",
       "  <thead>\n",
       "    <tr style=\"text-align: right;\">\n",
       "      <th></th>\n",
       "      <th>count</th>\n",
       "      <th>mean</th>\n",
       "      <th>std</th>\n",
       "      <th>min</th>\n",
       "      <th>25%</th>\n",
       "      <th>50%</th>\n",
       "      <th>75%</th>\n",
       "      <th>max</th>\n",
       "    </tr>\n",
       "  </thead>\n",
       "  <tbody>\n",
       "    <tr>\n",
       "      <th>Rank</th>\n",
       "      <td>16598.0</td>\n",
       "      <td>8300.605254</td>\n",
       "      <td>4791.853933</td>\n",
       "      <td>1.00</td>\n",
       "      <td>4151.25</td>\n",
       "      <td>8300.50</td>\n",
       "      <td>12449.75</td>\n",
       "      <td>16600.00</td>\n",
       "    </tr>\n",
       "    <tr>\n",
       "      <th>Year</th>\n",
       "      <td>16327.0</td>\n",
       "      <td>2006.406443</td>\n",
       "      <td>5.828981</td>\n",
       "      <td>1980.00</td>\n",
       "      <td>2003.00</td>\n",
       "      <td>2007.00</td>\n",
       "      <td>2010.00</td>\n",
       "      <td>2020.00</td>\n",
       "    </tr>\n",
       "    <tr>\n",
       "      <th>NA_Sales</th>\n",
       "      <td>16598.0</td>\n",
       "      <td>0.264667</td>\n",
       "      <td>0.816683</td>\n",
       "      <td>0.00</td>\n",
       "      <td>0.00</td>\n",
       "      <td>0.08</td>\n",
       "      <td>0.24</td>\n",
       "      <td>41.49</td>\n",
       "    </tr>\n",
       "    <tr>\n",
       "      <th>EU_Sales</th>\n",
       "      <td>16598.0</td>\n",
       "      <td>0.146652</td>\n",
       "      <td>0.505351</td>\n",
       "      <td>0.00</td>\n",
       "      <td>0.00</td>\n",
       "      <td>0.02</td>\n",
       "      <td>0.11</td>\n",
       "      <td>29.02</td>\n",
       "    </tr>\n",
       "    <tr>\n",
       "      <th>JP_Sales</th>\n",
       "      <td>16598.0</td>\n",
       "      <td>0.077782</td>\n",
       "      <td>0.309291</td>\n",
       "      <td>0.00</td>\n",
       "      <td>0.00</td>\n",
       "      <td>0.00</td>\n",
       "      <td>0.04</td>\n",
       "      <td>10.22</td>\n",
       "    </tr>\n",
       "    <tr>\n",
       "      <th>Other_Sales</th>\n",
       "      <td>16598.0</td>\n",
       "      <td>0.048063</td>\n",
       "      <td>0.188588</td>\n",
       "      <td>0.00</td>\n",
       "      <td>0.00</td>\n",
       "      <td>0.01</td>\n",
       "      <td>0.04</td>\n",
       "      <td>10.57</td>\n",
       "    </tr>\n",
       "    <tr>\n",
       "      <th>Global_Sales</th>\n",
       "      <td>16598.0</td>\n",
       "      <td>0.537441</td>\n",
       "      <td>1.555028</td>\n",
       "      <td>0.01</td>\n",
       "      <td>0.06</td>\n",
       "      <td>0.17</td>\n",
       "      <td>0.47</td>\n",
       "      <td>82.74</td>\n",
       "    </tr>\n",
       "  </tbody>\n",
       "</table>\n",
       "</div>"
      ],
      "text/plain": [
       "                count         mean          std      min      25%      50%  \\\n",
       "Rank          16598.0  8300.605254  4791.853933     1.00  4151.25  8300.50   \n",
       "Year          16327.0  2006.406443     5.828981  1980.00  2003.00  2007.00   \n",
       "NA_Sales      16598.0     0.264667     0.816683     0.00     0.00     0.08   \n",
       "EU_Sales      16598.0     0.146652     0.505351     0.00     0.00     0.02   \n",
       "JP_Sales      16598.0     0.077782     0.309291     0.00     0.00     0.00   \n",
       "Other_Sales   16598.0     0.048063     0.188588     0.00     0.00     0.01   \n",
       "Global_Sales  16598.0     0.537441     1.555028     0.01     0.06     0.17   \n",
       "\n",
       "                   75%       max  \n",
       "Rank          12449.75  16600.00  \n",
       "Year           2010.00   2020.00  \n",
       "NA_Sales          0.24     41.49  \n",
       "EU_Sales          0.11     29.02  \n",
       "JP_Sales          0.04     10.22  \n",
       "Other_Sales       0.04     10.57  \n",
       "Global_Sales      0.47     82.74  "
      ]
     },
     "execution_count": 4,
     "metadata": {},
     "output_type": "execute_result"
    }
   ],
   "source": [
    "game_df.describe().T"
   ]
  },
  {
   "cell_type": "markdown",
   "id": "expressed-republican",
   "metadata": {
    "id": "gEvbrg3ARILI",
    "papermill": {
     "duration": 0.060322,
     "end_time": "2021-04-28T14:30:41.250993",
     "exception": false,
     "start_time": "2021-04-28T14:30:41.190671",
     "status": "completed"
    },
    "tags": []
   },
   "source": [
    "We observe NaN in the `Year`,`Publisher` The most critical gaps in the rating and rating columns, which are needed for analysis. The date set contains information about games released since 1980"
   ]
  },
  {
   "cell_type": "markdown",
   "id": "ignored-swing",
   "metadata": {
    "id": "3nRxDMmmRILI",
    "papermill": {
     "duration": 0.058798,
     "end_time": "2021-04-28T14:30:41.368613",
     "exception": false,
     "start_time": "2021-04-28T14:30:41.309815",
     "status": "completed"
    },
    "tags": []
   },
   "source": [
    "### data describing:\n",
    "- `Rank` - Ranking of overall sales\n",
    "\n",
    "- `Name` - The games name\n",
    "\n",
    "- `Platform` - Platform of the games release (i.e. PC,PS4, etc.)\n",
    "\n",
    "- `Year` - Year of the game's release\n",
    "\n",
    "- `Genre` - Genre of the game\n",
    "\n",
    "- `Publisher` - Publisher of the game\n",
    "\n",
    "- `NA_Sales` - Sales in North America (in millions)\n",
    "\n",
    "- `EU_Sales` - Sales in Europe (in millions)\n",
    "\n",
    "- `JP_Sales` - Sales in Japan (in millions)\n",
    "\n",
    "- `Other_Sales` - Sales in the rest of the world (in millions)\n",
    "\n",
    "- `Global_Sales` - Total worldwide sales.\n"
   ]
  },
  {
   "cell_type": "markdown",
   "id": "copyrighted-scroll",
   "metadata": {
    "id": "lBVFRzB-RILI",
    "papermill": {
     "duration": 0.058926,
     "end_time": "2021-04-28T14:30:41.488351",
     "exception": false,
     "start_time": "2021-04-28T14:30:41.429425",
     "status": "completed"
    },
    "tags": []
   },
   "source": [
    "## Summary\n",
    "\n",
    "- at first glance, no anomalies were found\n",
    "- in the columns `Year`,` Publisher` - We will study the passes and decide what to do with them.\n",
    "- it is necessary to replace the data in the `Year` column -` float` with `int`. `datetime` does not need to be entered\n",
    "- for the rest of the columns, additional study is no needed - good types of data"
   ]
  },
  {
   "cell_type": "markdown",
   "id": "blond-entrance",
   "metadata": {
    "id": "2XhRzqyHRILJ",
    "papermill": {
     "duration": 0.059106,
     "end_time": "2021-04-28T14:30:41.606620",
     "exception": false,
     "start_time": "2021-04-28T14:30:41.547514",
     "status": "completed"
    },
    "tags": []
   },
   "source": [
    "## Data preprocessing"
   ]
  },
  {
   "cell_type": "markdown",
   "id": "unexpected-serum",
   "metadata": {
    "id": "Ng3HtXllRILJ",
    "papermill": {
     "duration": 0.058684,
     "end_time": "2021-04-28T14:30:41.724442",
     "exception": false,
     "start_time": "2021-04-28T14:30:41.665758",
     "status": "completed"
    },
    "tags": []
   },
   "source": [
    "### Replacing column names."
   ]
  },
  {
   "cell_type": "code",
   "execution_count": 5,
   "id": "statewide-speed",
   "metadata": {
    "execution": {
     "iopub.execute_input": "2021-04-28T14:30:41.848750Z",
     "iopub.status.busy": "2021-04-28T14:30:41.848072Z",
     "iopub.status.idle": "2021-04-28T14:30:41.850635Z",
     "shell.execute_reply": "2021-04-28T14:30:41.851234Z"
    },
    "id": "q488ulSpRILJ",
    "outputId": "e73e0f21-5ba8-4b8d-c41f-5a9f4cc915e8",
    "papermill": {
     "duration": 0.067968,
     "end_time": "2021-04-28T14:30:41.851429",
     "exception": false,
     "start_time": "2021-04-28T14:30:41.783461",
     "status": "completed"
    },
    "tags": []
   },
   "outputs": [
    {
     "data": {
      "text/plain": [
       "Index(['Rank', 'Name', 'Platform', 'Year', 'Genre', 'Publisher', 'NA_Sales',\n",
       "       'EU_Sales', 'JP_Sales', 'Other_Sales', 'Global_Sales'],\n",
       "      dtype='object')"
      ]
     },
     "execution_count": 5,
     "metadata": {},
     "output_type": "execute_result"
    }
   ],
   "source": [
    "game_df.columns"
   ]
  },
  {
   "cell_type": "markdown",
   "id": "average-worship",
   "metadata": {
    "id": "CydLfFNcRILK",
    "papermill": {
     "duration": 0.059511,
     "end_time": "2021-04-28T14:30:41.971618",
     "exception": false,
     "start_time": "2021-04-28T14:30:41.912107",
     "status": "completed"
    },
    "tags": []
   },
   "source": [
    "Let's convert the column names to lowercase for ease of use"
   ]
  },
  {
   "cell_type": "code",
   "execution_count": 6,
   "id": "present-blast",
   "metadata": {
    "execution": {
     "iopub.execute_input": "2021-04-28T14:30:42.093478Z",
     "iopub.status.busy": "2021-04-28T14:30:42.092802Z",
     "iopub.status.idle": "2021-04-28T14:30:42.099986Z",
     "shell.execute_reply": "2021-04-28T14:30:42.099465Z"
    },
    "id": "SgK1YskoRILK",
    "outputId": "9b7b40aa-062e-4cdb-96e8-2843c483ad2f",
    "papermill": {
     "duration": 0.068932,
     "end_time": "2021-04-28T14:30:42.100118",
     "exception": false,
     "start_time": "2021-04-28T14:30:42.031186",
     "status": "completed"
    },
    "tags": []
   },
   "outputs": [
    {
     "data": {
      "text/plain": [
       "Index(['rank', 'name', 'platform', 'year', 'genre', 'publisher', 'na_sales',\n",
       "       'eu_sales', 'jp_sales', 'other_sales', 'global_sales'],\n",
       "      dtype='object')"
      ]
     },
     "execution_count": 6,
     "metadata": {},
     "output_type": "execute_result"
    }
   ],
   "source": [
    "game_df.columns = game_df.columns.str.lower()\n",
    "game_df.columns"
   ]
  },
  {
   "cell_type": "markdown",
   "id": "jewish-quantum",
   "metadata": {
    "id": "oxFYVO6wRILL",
    "papermill": {
     "duration": 0.059012,
     "end_time": "2021-04-28T14:30:42.219078",
     "exception": false,
     "start_time": "2021-04-28T14:30:42.160066",
     "status": "completed"
    },
    "tags": []
   },
   "source": [
    "### The presence of duplicates in the data\n"
   ]
  },
  {
   "cell_type": "code",
   "execution_count": 7,
   "id": "boolean-toilet",
   "metadata": {
    "execution": {
     "iopub.execute_input": "2021-04-28T14:30:42.345243Z",
     "iopub.status.busy": "2021-04-28T14:30:42.344631Z",
     "iopub.status.idle": "2021-04-28T14:30:42.364327Z",
     "shell.execute_reply": "2021-04-28T14:30:42.363772Z"
    },
    "id": "fShdbxIJRILL",
    "outputId": "7d663f34-bc8a-4380-d09a-9ad872310e7a",
    "papermill": {
     "duration": 0.085914,
     "end_time": "2021-04-28T14:30:42.364484",
     "exception": false,
     "start_time": "2021-04-28T14:30:42.278570",
     "status": "completed"
    },
    "tags": []
   },
   "outputs": [
    {
     "data": {
      "text/plain": [
       "0"
      ]
     },
     "execution_count": 7,
     "metadata": {},
     "output_type": "execute_result"
    }
   ],
   "source": [
    "game_df.duplicated().sum()"
   ]
  },
  {
   "cell_type": "markdown",
   "id": "certain-guinea",
   "metadata": {
    "id": "fvrLy7xxRILL",
    "papermill": {
     "duration": 0.060175,
     "end_time": "2021-04-28T14:30:42.485746",
     "exception": false,
     "start_time": "2021-04-28T14:30:42.425571",
     "status": "completed"
    },
    "tags": []
   },
   "source": [
    "No duplicates were found. You need to go to passes and their processing"
   ]
  },
  {
   "cell_type": "markdown",
   "id": "promotional-exhaust",
   "metadata": {
    "id": "NNPEKuzFRILL",
    "papermill": {
     "duration": 0.060206,
     "end_time": "2021-04-28T14:30:42.606449",
     "exception": false,
     "start_time": "2021-04-28T14:30:42.546243",
     "status": "completed"
    },
    "tags": []
   },
   "source": [
    "### Counting and Handling NaNs"
   ]
  },
  {
   "cell_type": "code",
   "execution_count": 8,
   "id": "commercial-external",
   "metadata": {
    "execution": {
     "iopub.execute_input": "2021-04-28T14:30:42.741323Z",
     "iopub.status.busy": "2021-04-28T14:30:42.740676Z",
     "iopub.status.idle": "2021-04-28T14:30:42.746985Z",
     "shell.execute_reply": "2021-04-28T14:30:42.747453Z"
    },
    "id": "JZwZG2ARRILL",
    "outputId": "707f008d-112f-498a-9ba5-4187c903614a",
    "papermill": {
     "duration": 0.080554,
     "end_time": "2021-04-28T14:30:42.747638",
     "exception": false,
     "start_time": "2021-04-28T14:30:42.667084",
     "status": "completed"
    },
    "tags": []
   },
   "outputs": [
    {
     "data": {
      "text/plain": [
       "year            0.016327\n",
       "publisher       0.003494\n",
       "rank            0.000000\n",
       "name            0.000000\n",
       "platform        0.000000\n",
       "genre           0.000000\n",
       "na_sales        0.000000\n",
       "eu_sales        0.000000\n",
       "jp_sales        0.000000\n",
       "other_sales     0.000000\n",
       "global_sales    0.000000\n",
       "dtype: float64"
      ]
     },
     "execution_count": 8,
     "metadata": {},
     "output_type": "execute_result"
    }
   ],
   "source": [
    "game_df.isna().mean().sort_values(ascending=False)"
   ]
  },
  {
   "cell_type": "code",
   "execution_count": 9,
   "id": "synthetic-conversation",
   "metadata": {
    "execution": {
     "iopub.execute_input": "2021-04-28T14:30:42.872183Z",
     "iopub.status.busy": "2021-04-28T14:30:42.871586Z",
     "iopub.status.idle": "2021-04-28T14:30:43.195526Z",
     "shell.execute_reply": "2021-04-28T14:30:43.194817Z"
    },
    "id": "Gf6dXoyXRILM",
    "outputId": "a8284e2e-9771-4b1b-f403-16a4bd7e9c92",
    "papermill": {
     "duration": 0.387347,
     "end_time": "2021-04-28T14:30:43.195677",
     "exception": false,
     "start_time": "2021-04-28T14:30:42.808330",
     "status": "completed"
    },
    "tags": []
   },
   "outputs": [
    {
     "data": {
      "image/png": "[encoded data removed]",
      "text/plain": [
       "<Figure size 1080x360 with 1 Axes>"
      ]
     },
     "metadata": {},
     "output_type": "display_data"
    }
   ],
   "source": [
    "game_df.isna().mean().sort_values(ascending=False).plot(\n",
    "                                                  kind='bar', figsize=(15,5), \n",
    "                                                  grid=True, color='steelblue', \n",
    "                                                  edgecolor='black', linewidth=2\n",
    "                                                  )\n",
    "plt.title('Visualisation of NaNs')\n",
    "plt.xlabel('Name of features')\n",
    "plt.ylabel('Share of NaN')\n",
    "plt.show()"
   ]
  },
  {
   "cell_type": "code",
   "execution_count": 10,
   "id": "resistant-liberal",
   "metadata": {
    "execution": {
     "iopub.execute_input": "2021-04-28T14:30:43.359053Z",
     "iopub.status.busy": "2021-04-28T14:30:43.357940Z",
     "iopub.status.idle": "2021-04-28T14:30:43.546044Z",
     "shell.execute_reply": "2021-04-28T14:30:43.545481Z"
    },
    "id": "KJ6iAGOsRILM",
    "outputId": "13eba269-e1b5-4579-d75b-f7b9a6d6193f",
    "papermill": {
     "duration": 0.287572,
     "end_time": "2021-04-28T14:30:43.546191",
     "exception": false,
     "start_time": "2021-04-28T14:30:43.258619",
     "status": "completed"
    },
    "tags": []
   },
   "outputs": [
    {
     "data": {
      "image/png": "[encoded data removed]",
      "text/plain": [
       "<Figure size 1080x360 with 1 Axes>"
      ]
     },
     "metadata": {},
     "output_type": "display_data"
    }
   ],
   "source": [
    "plt.figure(figsize=(15, 5))\n",
    "plt.hist(game_df.loc[game_df['publisher'].isna(), 'year'], \n",
    "         color='steelblue', edgecolor='black', linewidth=2\n",
    "        )\n",
    "plt.title('Distribution of Nan by Year')\n",
    "plt.xlabel('')\n",
    "plt.show()"
   ]
  },
  {
   "cell_type": "markdown",
   "id": "intelligent-mount",
   "metadata": {
    "id": "xDaH4_RRRILN",
    "papermill": {
     "duration": 0.062984,
     "end_time": "2021-04-28T14:30:43.672320",
     "exception": false,
     "start_time": "2021-04-28T14:30:43.609336",
     "status": "completed"
    },
    "tags": []
   },
   "source": [
    "Unfortunately, most of the gaps have been observed since 2000. This cannot be attributed to the absence of internet of other issues."
   ]
  },
  {
   "cell_type": "markdown",
   "id": "confident-seventh",
   "metadata": {
    "id": "aP4G7X-YRILR",
    "papermill": {
     "duration": 0.062104,
     "end_time": "2021-04-28T14:30:43.797526",
     "exception": false,
     "start_time": "2021-04-28T14:30:43.735422",
     "status": "completed"
    },
    "tags": []
   },
   "source": [
    "#### Feature `year`"
   ]
  },
  {
   "cell_type": "markdown",
   "id": "deluxe-oxide",
   "metadata": {
    "id": "KtknKWzZRILR",
    "papermill": {
     "duration": 0.063353,
     "end_time": "2021-04-28T14:30:43.923710",
     "exception": false,
     "start_time": "2021-04-28T14:30:43.860357",
     "status": "completed"
    },
    "tags": []
   },
   "source": [
    "Let's see the number of Nan of the `year` column:"
   ]
  },
  {
   "cell_type": "code",
   "execution_count": 11,
   "id": "loving-graph",
   "metadata": {
    "execution": {
     "iopub.execute_input": "2021-04-28T14:30:44.055907Z",
     "iopub.status.busy": "2021-04-28T14:30:44.055221Z",
     "iopub.status.idle": "2021-04-28T14:30:44.057878Z",
     "shell.execute_reply": "2021-04-28T14:30:44.058416Z"
    },
    "id": "9mqIgKEiRILR",
    "outputId": "c428b377-9c09-4b8e-87bb-ca23bb587209",
    "papermill": {
     "duration": 0.072028,
     "end_time": "2021-04-28T14:30:44.058589",
     "exception": false,
     "start_time": "2021-04-28T14:30:43.986561",
     "status": "completed"
    },
    "tags": []
   },
   "outputs": [
    {
     "data": {
      "text/plain": [
       "271"
      ]
     },
     "execution_count": 11,
     "metadata": {},
     "output_type": "execute_result"
    }
   ],
   "source": [
    "len(game_df[game_df['year'].isna()])"
   ]
  },
  {
   "cell_type": "code",
   "execution_count": 12,
   "id": "manual-stroke",
   "metadata": {
    "execution": {
     "iopub.execute_input": "2021-04-28T14:30:44.193263Z",
     "iopub.status.busy": "2021-04-28T14:30:44.191383Z",
     "iopub.status.idle": "2021-04-28T14:30:44.197499Z",
     "shell.execute_reply": "2021-04-28T14:30:44.196811Z"
    },
    "id": "-ySjtrdzRILR",
    "outputId": "6872d8ef-4578-4bfa-f7eb-76673192712f",
    "papermill": {
     "duration": 0.075182,
     "end_time": "2021-04-28T14:30:44.197636",
     "exception": false,
     "start_time": "2021-04-28T14:30:44.122454",
     "status": "completed"
    },
    "tags": []
   },
   "outputs": [
    {
     "data": {
      "text/plain": [
       "array([2006., 1985., 2008., 2009., 1996., 1989., 1984., 2005., 1999.,\n",
       "       2007., 2010., 2013., 2004., 1990., 1988., 2002., 2001., 2011.,\n",
       "       1998., 2015., 2012., 2014., 1992., 1997., 1993., 1994., 1982.,\n",
       "       2003., 1986., 2000.,   nan, 1995., 2016., 1991., 1981., 1987.,\n",
       "       1980., 1983., 2020., 2017.])"
      ]
     },
     "execution_count": 12,
     "metadata": {},
     "output_type": "execute_result"
    }
   ],
   "source": [
    "game_df['year'].unique()"
   ]
  },
  {
   "cell_type": "markdown",
   "id": "reduced-repair",
   "metadata": {
    "id": "AfM0inkbRILR",
    "papermill": {
     "duration": 0.064706,
     "end_time": "2021-04-28T14:30:44.326069",
     "exception": false,
     "start_time": "2021-04-28T14:30:44.261363",
     "status": "completed"
    },
    "tags": []
   },
   "source": [
    "271 NaNs in the year column. We could do some research and restore the gaps, but that's 271 lines. Replace with `0`, after processing, create a new dataframe, excluding these lines"
   ]
  },
  {
   "cell_type": "code",
   "execution_count": 13,
   "id": "german-bradford",
   "metadata": {
    "execution": {
     "iopub.execute_input": "2021-04-28T14:30:44.459188Z",
     "iopub.status.busy": "2021-04-28T14:30:44.458584Z",
     "iopub.status.idle": "2021-04-28T14:30:44.461765Z",
     "shell.execute_reply": "2021-04-28T14:30:44.462299Z"
    },
    "id": "nQwHsa1dRILR",
    "outputId": "b007cfee-1c03-4cae-f38b-df4883a2e3e1",
    "papermill": {
     "duration": 0.072633,
     "end_time": "2021-04-28T14:30:44.462463",
     "exception": false,
     "start_time": "2021-04-28T14:30:44.389830",
     "status": "completed"
    },
    "tags": []
   },
   "outputs": [
    {
     "name": "stdout",
     "output_type": "stream",
     "text": [
      "NaNs in year - 0\n"
     ]
    }
   ],
   "source": [
    "game_df['year'] = game_df['year'].fillna(0)\n",
    "print('NaNs in year - {}'.format(\n",
    "                                                   game_df['year'].isna().sum())\n",
    "                                                   )"
   ]
  },
  {
   "cell_type": "markdown",
   "id": "plain-stroke",
   "metadata": {
    "id": "JNO2gjdNRILS",
    "papermill": {
     "duration": 0.063412,
     "end_time": "2021-04-28T14:30:44.589811",
     "exception": false,
     "start_time": "2021-04-28T14:30:44.526399",
     "status": "completed"
    },
    "tags": []
   },
   "source": [
    "#### Feature `publisher`"
   ]
  },
  {
   "cell_type": "code",
   "execution_count": 14,
   "id": "chicken-pioneer",
   "metadata": {
    "execution": {
     "iopub.execute_input": "2021-04-28T14:30:44.720639Z",
     "iopub.status.busy": "2021-04-28T14:30:44.719939Z",
     "iopub.status.idle": "2021-04-28T14:30:44.728411Z",
     "shell.execute_reply": "2021-04-28T14:30:44.728907Z"
    },
    "id": "R69N8hqERILS",
    "outputId": "ecc92a9c-d43b-4ae4-9563-1a2d21225304",
    "papermill": {
     "duration": 0.07542,
     "end_time": "2021-04-28T14:30:44.729090",
     "exception": false,
     "start_time": "2021-04-28T14:30:44.653670",
     "status": "completed"
    },
    "tags": []
   },
   "outputs": [
    {
     "name": "stdout",
     "output_type": "stream",
     "text": [
      "Nan in publisher 58\n"
     ]
    }
   ],
   "source": [
    "print('Nan in publisher', len(game_df[game_df['publisher'].isna()]))\n"
   ]
  },
  {
   "cell_type": "code",
   "execution_count": 15,
   "id": "thermal-europe",
   "metadata": {
    "execution": {
     "iopub.execute_input": "2021-04-28T14:30:44.862892Z",
     "iopub.status.busy": "2021-04-28T14:30:44.862284Z",
     "iopub.status.idle": "2021-04-28T14:30:44.883740Z",
     "shell.execute_reply": "2021-04-28T14:30:44.884295Z"
    },
    "id": "OcA-yAktRILS",
    "outputId": "26a32775-d3f5-45c0-e11f-1940d653e52e",
    "papermill": {
     "duration": 0.090625,
     "end_time": "2021-04-28T14:30:44.884464",
     "exception": false,
     "start_time": "2021-04-28T14:30:44.793839",
     "status": "completed"
    },
    "tags": []
   },
   "outputs": [
    {
     "data": {
      "text/html": [
       "<div>\n",
       "<style scoped>\n",
       "    .dataframe tbody tr th:only-of-type {\n",
       "        vertical-align: middle;\n",
       "    }\n",
       "\n",
       "    .dataframe tbody tr th {\n",
       "        vertical-align: top;\n",
       "    }\n",
       "\n",
       "    .dataframe thead th {\n",
       "        text-align: right;\n",
       "    }\n",
       "</style>\n",
       "<table border=\"1\" class=\"dataframe\">\n",
       "  <thead>\n",
       "    <tr style=\"text-align: right;\">\n",
       "      <th></th>\n",
       "      <th>rank</th>\n",
       "      <th>name</th>\n",
       "      <th>platform</th>\n",
       "      <th>year</th>\n",
       "      <th>genre</th>\n",
       "      <th>publisher</th>\n",
       "      <th>na_sales</th>\n",
       "      <th>eu_sales</th>\n",
       "      <th>jp_sales</th>\n",
       "      <th>other_sales</th>\n",
       "      <th>global_sales</th>\n",
       "    </tr>\n",
       "  </thead>\n",
       "  <tbody>\n",
       "    <tr>\n",
       "      <th>470</th>\n",
       "      <td>471</td>\n",
       "      <td>wwe Smackdown vs. Raw 2006</td>\n",
       "      <td>PS2</td>\n",
       "      <td>0.0</td>\n",
       "      <td>Fighting</td>\n",
       "      <td>NaN</td>\n",
       "      <td>1.57</td>\n",
       "      <td>1.02</td>\n",
       "      <td>0.0</td>\n",
       "      <td>0.41</td>\n",
       "      <td>3.00</td>\n",
       "    </tr>\n",
       "    <tr>\n",
       "      <th>1303</th>\n",
       "      <td>1305</td>\n",
       "      <td>Triple Play 99</td>\n",
       "      <td>PS</td>\n",
       "      <td>0.0</td>\n",
       "      <td>Sports</td>\n",
       "      <td>NaN</td>\n",
       "      <td>0.81</td>\n",
       "      <td>0.55</td>\n",
       "      <td>0.0</td>\n",
       "      <td>0.10</td>\n",
       "      <td>1.46</td>\n",
       "    </tr>\n",
       "    <tr>\n",
       "      <th>1662</th>\n",
       "      <td>1664</td>\n",
       "      <td>Shrek / Shrek 2 2-in-1 Gameboy Advance Video</td>\n",
       "      <td>GBA</td>\n",
       "      <td>2007.0</td>\n",
       "      <td>Misc</td>\n",
       "      <td>NaN</td>\n",
       "      <td>0.87</td>\n",
       "      <td>0.32</td>\n",
       "      <td>0.0</td>\n",
       "      <td>0.02</td>\n",
       "      <td>1.21</td>\n",
       "    </tr>\n",
       "    <tr>\n",
       "      <th>2222</th>\n",
       "      <td>2224</td>\n",
       "      <td>Bentley's Hackpack</td>\n",
       "      <td>GBA</td>\n",
       "      <td>2005.0</td>\n",
       "      <td>Misc</td>\n",
       "      <td>NaN</td>\n",
       "      <td>0.67</td>\n",
       "      <td>0.25</td>\n",
       "      <td>0.0</td>\n",
       "      <td>0.02</td>\n",
       "      <td>0.93</td>\n",
       "    </tr>\n",
       "    <tr>\n",
       "      <th>3159</th>\n",
       "      <td>3161</td>\n",
       "      <td>Nicktoons Collection: Game Boy Advance Video V...</td>\n",
       "      <td>GBA</td>\n",
       "      <td>2004.0</td>\n",
       "      <td>Misc</td>\n",
       "      <td>NaN</td>\n",
       "      <td>0.46</td>\n",
       "      <td>0.17</td>\n",
       "      <td>0.0</td>\n",
       "      <td>0.01</td>\n",
       "      <td>0.64</td>\n",
       "    </tr>\n",
       "  </tbody>\n",
       "</table>\n",
       "</div>"
      ],
      "text/plain": [
       "      rank                                               name platform  \\\n",
       "470    471                         wwe Smackdown vs. Raw 2006      PS2   \n",
       "1303  1305                                     Triple Play 99       PS   \n",
       "1662  1664       Shrek / Shrek 2 2-in-1 Gameboy Advance Video      GBA   \n",
       "2222  2224                                 Bentley's Hackpack      GBA   \n",
       "3159  3161  Nicktoons Collection: Game Boy Advance Video V...      GBA   \n",
       "\n",
       "        year     genre publisher  na_sales  eu_sales  jp_sales  other_sales  \\\n",
       "470      0.0  Fighting       NaN      1.57      1.02       0.0         0.41   \n",
       "1303     0.0    Sports       NaN      0.81      0.55       0.0         0.10   \n",
       "1662  2007.0      Misc       NaN      0.87      0.32       0.0         0.02   \n",
       "2222  2005.0      Misc       NaN      0.67      0.25       0.0         0.02   \n",
       "3159  2004.0      Misc       NaN      0.46      0.17       0.0         0.01   \n",
       "\n",
       "      global_sales  \n",
       "470           3.00  \n",
       "1303          1.46  \n",
       "1662          1.21  \n",
       "2222          0.93  \n",
       "3159          0.64  "
      ]
     },
     "execution_count": 15,
     "metadata": {},
     "output_type": "execute_result"
    }
   ],
   "source": [
    "game_df[game_df['publisher'].isna()].head()"
   ]
  },
  {
   "cell_type": "markdown",
   "id": "rising-footage",
   "metadata": {
    "id": "-p-la1EBs66-",
    "papermill": {
     "duration": 0.065687,
     "end_time": "2021-04-28T14:30:45.015890",
     "exception": false,
     "start_time": "2021-04-28T14:30:44.950203",
     "status": "completed"
    },
    "tags": []
   },
   "source": [
    "I don not like Nan. Let us change it to `Unknown`"
   ]
  },
  {
   "cell_type": "code",
   "execution_count": 16,
   "id": "banner-freeware",
   "metadata": {
    "execution": {
     "iopub.execute_input": "2021-04-28T14:30:45.154849Z",
     "iopub.status.busy": "2021-04-28T14:30:45.154100Z",
     "iopub.status.idle": "2021-04-28T14:30:45.156815Z",
     "shell.execute_reply": "2021-04-28T14:30:45.157432Z"
    },
    "id": "RasQmq5_s0-U",
    "papermill": {
     "duration": 0.076847,
     "end_time": "2021-04-28T14:30:45.157603",
     "exception": false,
     "start_time": "2021-04-28T14:30:45.080756",
     "status": "completed"
    },
    "tags": []
   },
   "outputs": [],
   "source": [
    "game_df['publisher'] = game_df['publisher'].fillna('unknown')"
   ]
  },
  {
   "cell_type": "markdown",
   "id": "wooden-creek",
   "metadata": {
    "id": "xwYTLmiNRILS",
    "papermill": {
     "duration": 0.064999,
     "end_time": "2021-04-28T14:30:45.287761",
     "exception": false,
     "start_time": "2021-04-28T14:30:45.222762",
     "status": "completed"
    },
    "tags": []
   },
   "source": [
    "We will not delete lines. Exclude from analysis via `query ()`"
   ]
  },
  {
   "cell_type": "markdown",
   "id": "korean-fifth",
   "metadata": {
    "id": "DgZTVCqxRILT",
    "papermill": {
     "duration": 0.065244,
     "end_time": "2021-04-28T14:30:45.419077",
     "exception": false,
     "start_time": "2021-04-28T14:30:45.353833",
     "status": "completed"
    },
    "tags": []
   },
   "source": [
    "\n",
    "#### Converting data to other types"
   ]
  },
  {
   "cell_type": "code",
   "execution_count": 17,
   "id": "respected-temperature",
   "metadata": {
    "execution": {
     "iopub.execute_input": "2021-04-28T14:30:45.553975Z",
     "iopub.status.busy": "2021-04-28T14:30:45.553013Z",
     "iopub.status.idle": "2021-04-28T14:30:45.574887Z",
     "shell.execute_reply": "2021-04-28T14:30:45.574402Z"
    },
    "id": "Sq8rhKUARILT",
    "outputId": "87766b71-0ca1-4d5a-e98a-006cdebc9406",
    "papermill": {
     "duration": 0.090436,
     "end_time": "2021-04-28T14:30:45.575032",
     "exception": false,
     "start_time": "2021-04-28T14:30:45.484596",
     "status": "completed"
    },
    "tags": []
   },
   "outputs": [
    {
     "name": "stdout",
     "output_type": "stream",
     "text": [
      "<class 'pandas.core.frame.DataFrame'>\n",
      "RangeIndex: 16598 entries, 0 to 16597\n",
      "Data columns (total 11 columns):\n",
      " #   Column        Non-Null Count  Dtype  \n",
      "---  ------        --------------  -----  \n",
      " 0   rank          16598 non-null  int64  \n",
      " 1   name          16598 non-null  object \n",
      " 2   platform      16598 non-null  object \n",
      " 3   year          16598 non-null  float64\n",
      " 4   genre         16598 non-null  object \n",
      " 5   publisher     16598 non-null  object \n",
      " 6   na_sales      16598 non-null  float64\n",
      " 7   eu_sales      16598 non-null  float64\n",
      " 8   jp_sales      16598 non-null  float64\n",
      " 9   other_sales   16598 non-null  float64\n",
      " 10  global_sales  16598 non-null  float64\n",
      "dtypes: float64(6), int64(1), object(4)\n",
      "memory usage: 1.4+ MB\n"
     ]
    }
   ],
   "source": [
    "game_df.info()"
   ]
  },
  {
   "cell_type": "markdown",
   "id": "lightweight-probe",
   "metadata": {
    "id": "rUfydu6TRILU",
    "papermill": {
     "duration": 0.065377,
     "end_time": "2021-04-28T14:30:45.706008",
     "exception": false,
     "start_time": "2021-04-28T14:30:45.640631",
     "status": "completed"
    },
    "tags": []
   },
   "source": [
    "\n",
    "Let's replace the data types in the `year_of_release` columns with an integer one."
   ]
  },
  {
   "cell_type": "code",
   "execution_count": 18,
   "id": "experimental-broadcast",
   "metadata": {
    "execution": {
     "iopub.execute_input": "2021-04-28T14:30:45.841283Z",
     "iopub.status.busy": "2021-04-28T14:30:45.840661Z",
     "iopub.status.idle": "2021-04-28T14:30:45.864224Z",
     "shell.execute_reply": "2021-04-28T14:30:45.864729Z"
    },
    "id": "ADDxeARERILU",
    "outputId": "7b0e6deb-746d-460c-db47-acca378d29e6",
    "papermill": {
     "duration": 0.092875,
     "end_time": "2021-04-28T14:30:45.864894",
     "exception": false,
     "start_time": "2021-04-28T14:30:45.772019",
     "status": "completed"
    },
    "tags": []
   },
   "outputs": [
    {
     "name": "stdout",
     "output_type": "stream",
     "text": [
      "<class 'pandas.core.frame.DataFrame'>\n",
      "RangeIndex: 16598 entries, 0 to 16597\n",
      "Data columns (total 11 columns):\n",
      " #   Column        Non-Null Count  Dtype  \n",
      "---  ------        --------------  -----  \n",
      " 0   rank          16598 non-null  int64  \n",
      " 1   name          16598 non-null  object \n",
      " 2   platform      16598 non-null  object \n",
      " 3   year          16598 non-null  int64  \n",
      " 4   genre         16598 non-null  object \n",
      " 5   publisher     16598 non-null  object \n",
      " 6   na_sales      16598 non-null  float64\n",
      " 7   eu_sales      16598 non-null  float64\n",
      " 8   jp_sales      16598 non-null  float64\n",
      " 9   other_sales   16598 non-null  float64\n",
      " 10  global_sales  16598 non-null  float64\n",
      "dtypes: float64(5), int64(2), object(4)\n",
      "memory usage: 1.4+ MB\n"
     ]
    }
   ],
   "source": [
    "game_df['year'] = game_df[game_df['year'].notna()]['year'].astype('int64')\n",
    "game_df.info()"
   ]
  },
  {
   "cell_type": "markdown",
   "id": "sexual-albuquerque",
   "metadata": {
    "id": "4J2CynWqRILU",
    "papermill": {
     "duration": 0.067146,
     "end_time": "2021-04-28T14:30:45.998992",
     "exception": false,
     "start_time": "2021-04-28T14:30:45.931846",
     "status": "completed"
    },
    "tags": []
   },
   "source": [
    "#### Cumulative sales across all regions"
   ]
  },
  {
   "cell_type": "code",
   "execution_count": 19,
   "id": "suffering-draft",
   "metadata": {
    "execution": {
     "iopub.execute_input": "2021-04-28T14:30:46.135455Z",
     "iopub.status.busy": "2021-04-28T14:30:46.134810Z",
     "iopub.status.idle": "2021-04-28T14:30:46.157326Z",
     "shell.execute_reply": "2021-04-28T14:30:46.156747Z"
    },
    "id": "nPxKWbs3RILU",
    "papermill": {
     "duration": 0.091941,
     "end_time": "2021-04-28T14:30:46.157465",
     "exception": false,
     "start_time": "2021-04-28T14:30:46.065524",
     "status": "completed"
    },
    "tags": []
   },
   "outputs": [],
   "source": [
    "game_df ['total_sales'] = (\n",
    "                          game_df['na_sales'] + \n",
    "                          game_df['eu_sales'] + \n",
    "                          game_df['jp_sales'] + \n",
    "                          game_df['other_sales']\n",
    ")"
   ]
  },
  {
   "cell_type": "code",
   "execution_count": 20,
   "id": "regulation-clerk",
   "metadata": {
    "execution": {
     "iopub.execute_input": "2021-04-28T14:30:46.295132Z",
     "iopub.status.busy": "2021-04-28T14:30:46.294174Z",
     "iopub.status.idle": "2021-04-28T14:30:46.325155Z",
     "shell.execute_reply": "2021-04-28T14:30:46.324520Z"
    },
    "id": "1DJx4igTRILU",
    "outputId": "350d3f4e-9754-44f6-b45e-fc2152df3141",
    "papermill": {
     "duration": 0.100738,
     "end_time": "2021-04-28T14:30:46.325309",
     "exception": false,
     "start_time": "2021-04-28T14:30:46.224571",
     "status": "completed"
    },
    "tags": []
   },
   "outputs": [
    {
     "data": {
      "text/html": [
       "<div>\n",
       "<style scoped>\n",
       "    .dataframe tbody tr th:only-of-type {\n",
       "        vertical-align: middle;\n",
       "    }\n",
       "\n",
       "    .dataframe tbody tr th {\n",
       "        vertical-align: top;\n",
       "    }\n",
       "\n",
       "    .dataframe thead th {\n",
       "        text-align: right;\n",
       "    }\n",
       "</style>\n",
       "<table border=\"1\" class=\"dataframe\">\n",
       "  <thead>\n",
       "    <tr style=\"text-align: right;\">\n",
       "      <th></th>\n",
       "      <th>rank</th>\n",
       "      <th>name</th>\n",
       "      <th>platform</th>\n",
       "      <th>year</th>\n",
       "      <th>genre</th>\n",
       "      <th>publisher</th>\n",
       "      <th>na_sales</th>\n",
       "      <th>eu_sales</th>\n",
       "      <th>jp_sales</th>\n",
       "      <th>other_sales</th>\n",
       "      <th>global_sales</th>\n",
       "      <th>total_sales</th>\n",
       "    </tr>\n",
       "  </thead>\n",
       "  <tbody>\n",
       "    <tr>\n",
       "      <th>0</th>\n",
       "      <td>1</td>\n",
       "      <td>Wii Sports</td>\n",
       "      <td>Wii</td>\n",
       "      <td>2006</td>\n",
       "      <td>Sports</td>\n",
       "      <td>Nintendo</td>\n",
       "      <td>41.49</td>\n",
       "      <td>29.02</td>\n",
       "      <td>3.77</td>\n",
       "      <td>8.46</td>\n",
       "      <td>82.74</td>\n",
       "      <td>82.74</td>\n",
       "    </tr>\n",
       "    <tr>\n",
       "      <th>1</th>\n",
       "      <td>2</td>\n",
       "      <td>Super Mario Bros.</td>\n",
       "      <td>NES</td>\n",
       "      <td>1985</td>\n",
       "      <td>Platform</td>\n",
       "      <td>Nintendo</td>\n",
       "      <td>29.08</td>\n",
       "      <td>3.58</td>\n",
       "      <td>6.81</td>\n",
       "      <td>0.77</td>\n",
       "      <td>40.24</td>\n",
       "      <td>40.24</td>\n",
       "    </tr>\n",
       "    <tr>\n",
       "      <th>2</th>\n",
       "      <td>3</td>\n",
       "      <td>Mario Kart Wii</td>\n",
       "      <td>Wii</td>\n",
       "      <td>2008</td>\n",
       "      <td>Racing</td>\n",
       "      <td>Nintendo</td>\n",
       "      <td>15.85</td>\n",
       "      <td>12.88</td>\n",
       "      <td>3.79</td>\n",
       "      <td>3.31</td>\n",
       "      <td>35.82</td>\n",
       "      <td>35.83</td>\n",
       "    </tr>\n",
       "    <tr>\n",
       "      <th>3</th>\n",
       "      <td>4</td>\n",
       "      <td>Wii Sports Resort</td>\n",
       "      <td>Wii</td>\n",
       "      <td>2009</td>\n",
       "      <td>Sports</td>\n",
       "      <td>Nintendo</td>\n",
       "      <td>15.75</td>\n",
       "      <td>11.01</td>\n",
       "      <td>3.28</td>\n",
       "      <td>2.96</td>\n",
       "      <td>33.00</td>\n",
       "      <td>33.00</td>\n",
       "    </tr>\n",
       "    <tr>\n",
       "      <th>4</th>\n",
       "      <td>5</td>\n",
       "      <td>Pokemon Red/Pokemon Blue</td>\n",
       "      <td>GB</td>\n",
       "      <td>1996</td>\n",
       "      <td>Role-Playing</td>\n",
       "      <td>Nintendo</td>\n",
       "      <td>11.27</td>\n",
       "      <td>8.89</td>\n",
       "      <td>10.22</td>\n",
       "      <td>1.00</td>\n",
       "      <td>31.37</td>\n",
       "      <td>31.38</td>\n",
       "    </tr>\n",
       "    <tr>\n",
       "      <th>5</th>\n",
       "      <td>6</td>\n",
       "      <td>Tetris</td>\n",
       "      <td>GB</td>\n",
       "      <td>1989</td>\n",
       "      <td>Puzzle</td>\n",
       "      <td>Nintendo</td>\n",
       "      <td>23.20</td>\n",
       "      <td>2.26</td>\n",
       "      <td>4.22</td>\n",
       "      <td>0.58</td>\n",
       "      <td>30.26</td>\n",
       "      <td>30.26</td>\n",
       "    </tr>\n",
       "    <tr>\n",
       "      <th>6</th>\n",
       "      <td>7</td>\n",
       "      <td>New Super Mario Bros.</td>\n",
       "      <td>DS</td>\n",
       "      <td>2006</td>\n",
       "      <td>Platform</td>\n",
       "      <td>Nintendo</td>\n",
       "      <td>11.38</td>\n",
       "      <td>9.23</td>\n",
       "      <td>6.50</td>\n",
       "      <td>2.90</td>\n",
       "      <td>30.01</td>\n",
       "      <td>30.01</td>\n",
       "    </tr>\n",
       "    <tr>\n",
       "      <th>7</th>\n",
       "      <td>8</td>\n",
       "      <td>Wii Play</td>\n",
       "      <td>Wii</td>\n",
       "      <td>2006</td>\n",
       "      <td>Misc</td>\n",
       "      <td>Nintendo</td>\n",
       "      <td>14.03</td>\n",
       "      <td>9.20</td>\n",
       "      <td>2.93</td>\n",
       "      <td>2.85</td>\n",
       "      <td>29.02</td>\n",
       "      <td>29.01</td>\n",
       "    </tr>\n",
       "    <tr>\n",
       "      <th>8</th>\n",
       "      <td>9</td>\n",
       "      <td>New Super Mario Bros. Wii</td>\n",
       "      <td>Wii</td>\n",
       "      <td>2009</td>\n",
       "      <td>Platform</td>\n",
       "      <td>Nintendo</td>\n",
       "      <td>14.59</td>\n",
       "      <td>7.06</td>\n",
       "      <td>4.70</td>\n",
       "      <td>2.26</td>\n",
       "      <td>28.62</td>\n",
       "      <td>28.61</td>\n",
       "    </tr>\n",
       "    <tr>\n",
       "      <th>9</th>\n",
       "      <td>10</td>\n",
       "      <td>Duck Hunt</td>\n",
       "      <td>NES</td>\n",
       "      <td>1984</td>\n",
       "      <td>Shooter</td>\n",
       "      <td>Nintendo</td>\n",
       "      <td>26.93</td>\n",
       "      <td>0.63</td>\n",
       "      <td>0.28</td>\n",
       "      <td>0.47</td>\n",
       "      <td>28.31</td>\n",
       "      <td>28.31</td>\n",
       "    </tr>\n",
       "    <tr>\n",
       "      <th>10</th>\n",
       "      <td>11</td>\n",
       "      <td>Nintendogs</td>\n",
       "      <td>DS</td>\n",
       "      <td>2005</td>\n",
       "      <td>Simulation</td>\n",
       "      <td>Nintendo</td>\n",
       "      <td>9.07</td>\n",
       "      <td>11.00</td>\n",
       "      <td>1.93</td>\n",
       "      <td>2.75</td>\n",
       "      <td>24.76</td>\n",
       "      <td>24.75</td>\n",
       "    </tr>\n",
       "    <tr>\n",
       "      <th>11</th>\n",
       "      <td>12</td>\n",
       "      <td>Mario Kart DS</td>\n",
       "      <td>DS</td>\n",
       "      <td>2005</td>\n",
       "      <td>Racing</td>\n",
       "      <td>Nintendo</td>\n",
       "      <td>9.81</td>\n",
       "      <td>7.57</td>\n",
       "      <td>4.13</td>\n",
       "      <td>1.92</td>\n",
       "      <td>23.42</td>\n",
       "      <td>23.43</td>\n",
       "    </tr>\n",
       "    <tr>\n",
       "      <th>12</th>\n",
       "      <td>13</td>\n",
       "      <td>Pokemon Gold/Pokemon Silver</td>\n",
       "      <td>GB</td>\n",
       "      <td>1999</td>\n",
       "      <td>Role-Playing</td>\n",
       "      <td>Nintendo</td>\n",
       "      <td>9.00</td>\n",
       "      <td>6.18</td>\n",
       "      <td>7.20</td>\n",
       "      <td>0.71</td>\n",
       "      <td>23.10</td>\n",
       "      <td>23.09</td>\n",
       "    </tr>\n",
       "    <tr>\n",
       "      <th>13</th>\n",
       "      <td>14</td>\n",
       "      <td>Wii Fit</td>\n",
       "      <td>Wii</td>\n",
       "      <td>2007</td>\n",
       "      <td>Sports</td>\n",
       "      <td>Nintendo</td>\n",
       "      <td>8.94</td>\n",
       "      <td>8.03</td>\n",
       "      <td>3.60</td>\n",
       "      <td>2.15</td>\n",
       "      <td>22.72</td>\n",
       "      <td>22.72</td>\n",
       "    </tr>\n",
       "    <tr>\n",
       "      <th>14</th>\n",
       "      <td>15</td>\n",
       "      <td>Wii Fit Plus</td>\n",
       "      <td>Wii</td>\n",
       "      <td>2009</td>\n",
       "      <td>Sports</td>\n",
       "      <td>Nintendo</td>\n",
       "      <td>9.09</td>\n",
       "      <td>8.59</td>\n",
       "      <td>2.53</td>\n",
       "      <td>1.79</td>\n",
       "      <td>22.00</td>\n",
       "      <td>22.00</td>\n",
       "    </tr>\n",
       "  </tbody>\n",
       "</table>\n",
       "</div>"
      ],
      "text/plain": [
       "    rank                         name platform  year         genre publisher  \\\n",
       "0      1                   Wii Sports      Wii  2006        Sports  Nintendo   \n",
       "1      2            Super Mario Bros.      NES  1985      Platform  Nintendo   \n",
       "2      3               Mario Kart Wii      Wii  2008        Racing  Nintendo   \n",
       "3      4            Wii Sports Resort      Wii  2009        Sports  Nintendo   \n",
       "4      5     Pokemon Red/Pokemon Blue       GB  1996  Role-Playing  Nintendo   \n",
       "5      6                       Tetris       GB  1989        Puzzle  Nintendo   \n",
       "6      7        New Super Mario Bros.       DS  2006      Platform  Nintendo   \n",
       "7      8                     Wii Play      Wii  2006          Misc  Nintendo   \n",
       "8      9    New Super Mario Bros. Wii      Wii  2009      Platform  Nintendo   \n",
       "9     10                    Duck Hunt      NES  1984       Shooter  Nintendo   \n",
       "10    11                   Nintendogs       DS  2005    Simulation  Nintendo   \n",
       "11    12                Mario Kart DS       DS  2005        Racing  Nintendo   \n",
       "12    13  Pokemon Gold/Pokemon Silver       GB  1999  Role-Playing  Nintendo   \n",
       "13    14                      Wii Fit      Wii  2007        Sports  Nintendo   \n",
       "14    15                 Wii Fit Plus      Wii  2009        Sports  Nintendo   \n",
       "\n",
       "    na_sales  eu_sales  jp_sales  other_sales  global_sales  total_sales  \n",
       "0      41.49     29.02      3.77         8.46         82.74        82.74  \n",
       "1      29.08      3.58      6.81         0.77         40.24        40.24  \n",
       "2      15.85     12.88      3.79         3.31         35.82        35.83  \n",
       "3      15.75     11.01      3.28         2.96         33.00        33.00  \n",
       "4      11.27      8.89     10.22         1.00         31.37        31.38  \n",
       "5      23.20      2.26      4.22         0.58         30.26        30.26  \n",
       "6      11.38      9.23      6.50         2.90         30.01        30.01  \n",
       "7      14.03      9.20      2.93         2.85         29.02        29.01  \n",
       "8      14.59      7.06      4.70         2.26         28.62        28.61  \n",
       "9      26.93      0.63      0.28         0.47         28.31        28.31  \n",
       "10      9.07     11.00      1.93         2.75         24.76        24.75  \n",
       "11      9.81      7.57      4.13         1.92         23.42        23.43  \n",
       "12      9.00      6.18      7.20         0.71         23.10        23.09  \n",
       "13      8.94      8.03      3.60         2.15         22.72        22.72  \n",
       "14      9.09      8.59      2.53         1.79         22.00        22.00  "
      ]
     },
     "execution_count": 20,
     "metadata": {},
     "output_type": "execute_result"
    }
   ],
   "source": [
    "game_df_upd = game_df[game_df['year']!= 0]\n",
    "game_df_upd.head(15)"
   ]
  },
  {
   "cell_type": "code",
   "execution_count": 21,
   "id": "incomplete-place",
   "metadata": {
    "execution": {
     "iopub.execute_input": "2021-04-28T14:30:46.473941Z",
     "iopub.status.busy": "2021-04-28T14:30:46.473290Z",
     "iopub.status.idle": "2021-04-28T14:30:46.485168Z",
     "shell.execute_reply": "2021-04-28T14:30:46.485662Z"
    },
    "id": "3eOHslJ7RILU",
    "outputId": "e77a74b6-2b0f-4128-c420-a949139a6107",
    "papermill": {
     "duration": 0.092665,
     "end_time": "2021-04-28T14:30:46.485824",
     "exception": false,
     "start_time": "2021-04-28T14:30:46.393159",
     "status": "completed"
    },
    "tags": []
   },
   "outputs": [
    {
     "name": "stdout",
     "output_type": "stream",
     "text": [
      "<class 'pandas.core.frame.DataFrame'>\n",
      "Int64Index: 16327 entries, 0 to 16597\n",
      "Data columns (total 12 columns):\n",
      " #   Column        Non-Null Count  Dtype  \n",
      "---  ------        --------------  -----  \n",
      " 0   rank          16327 non-null  int64  \n",
      " 1   name          16327 non-null  object \n",
      " 2   platform      16327 non-null  object \n",
      " 3   year          16327 non-null  int64  \n",
      " 4   genre         16327 non-null  object \n",
      " 5   publisher     16327 non-null  object \n",
      " 6   na_sales      16327 non-null  float64\n",
      " 7   eu_sales      16327 non-null  float64\n",
      " 8   jp_sales      16327 non-null  float64\n",
      " 9   other_sales   16327 non-null  float64\n",
      " 10  global_sales  16327 non-null  float64\n",
      " 11  total_sales   16327 non-null  float64\n",
      "dtypes: float64(6), int64(2), object(4)\n",
      "memory usage: 1.6+ MB\n"
     ]
    }
   ],
   "source": [
    "game_df_upd.info()"
   ]
  },
  {
   "cell_type": "markdown",
   "id": "unsigned-lyric",
   "metadata": {
    "id": "4MtWxKieRILV",
    "papermill": {
     "duration": 0.067218,
     "end_time": "2021-04-28T14:30:46.620852",
     "exception": false,
     "start_time": "2021-04-28T14:30:46.553634",
     "status": "completed"
    },
    "tags": []
   },
   "source": [
    "#### Summary\n",
    "\n",
    "Prepared the data.\n",
    "\n",
    "Column names were converted to lower case, data types were replaced, and NaNs and duplicates were examined. The lines were decided not to be deleted, excluded via `query ()`. Added additional column `total_sales` to the dataframe."
   ]
  },
  {
   "cell_type": "markdown",
   "id": "effective-religion",
   "metadata": {
    "id": "c6W9ho5cRILV",
    "papermill": {
     "duration": 0.067168,
     "end_time": "2021-04-28T14:30:46.755821",
     "exception": false,
     "start_time": "2021-04-28T14:30:46.688653",
     "status": "completed"
    },
    "tags": []
   },
   "source": [
    "## Exploratory data analysis"
   ]
  },
  {
   "cell_type": "markdown",
   "id": "rational-parish",
   "metadata": {
    "id": "akkj5MrPRILV",
    "papermill": {
     "duration": 0.067305,
     "end_time": "2021-04-28T14:30:46.891028",
     "exception": false,
     "start_time": "2021-04-28T14:30:46.823723",
     "status": "completed"
    },
    "tags": []
   },
   "source": [
    "\n",
    "### Analysis of the number and sales of released games for the entire period"
   ]
  },
  {
   "cell_type": "markdown",
   "id": "buried-rugby",
   "metadata": {
    "id": "j7f34uzuRILW",
    "papermill": {
     "duration": 0.067349,
     "end_time": "2021-04-28T14:30:47.027078",
     "exception": false,
     "start_time": "2021-04-28T14:30:46.959729",
     "status": "completed"
    },
    "tags": []
   },
   "source": [
    "Let's take a look at the general information on released games for different platforms by year of release:"
   ]
  },
  {
   "cell_type": "code",
   "execution_count": 22,
   "id": "domestic-pension",
   "metadata": {
    "execution": {
     "iopub.execute_input": "2021-04-28T14:30:47.167419Z",
     "iopub.status.busy": "2021-04-28T14:30:47.166456Z",
     "iopub.status.idle": "2021-04-28T14:30:47.288276Z",
     "shell.execute_reply": "2021-04-28T14:30:47.287764Z"
    },
    "id": "ENMdI6I0RILW",
    "outputId": "ba3ffdae-fd9e-4510-eabc-2f692a9fbf6a",
    "papermill": {
     "duration": 0.19293,
     "end_time": "2021-04-28T14:30:47.288426",
     "exception": false,
     "start_time": "2021-04-28T14:30:47.095496",
     "status": "completed"
    },
    "tags": []
   },
   "outputs": [
    {
     "data": {
      "text/html": [
       "<div>\n",
       "<style scoped>\n",
       "    .dataframe tbody tr th:only-of-type {\n",
       "        vertical-align: middle;\n",
       "    }\n",
       "\n",
       "    .dataframe tbody tr th {\n",
       "        vertical-align: top;\n",
       "    }\n",
       "\n",
       "    .dataframe thead th {\n",
       "        text-align: right;\n",
       "    }\n",
       "</style>\n",
       "<table border=\"1\" class=\"dataframe\">\n",
       "  <thead>\n",
       "    <tr style=\"text-align: right;\">\n",
       "      <th>platform</th>\n",
       "      <th>2600</th>\n",
       "      <th>3DO</th>\n",
       "      <th>3DS</th>\n",
       "      <th>DC</th>\n",
       "      <th>DS</th>\n",
       "      <th>GB</th>\n",
       "      <th>GBA</th>\n",
       "      <th>GC</th>\n",
       "      <th>GEN</th>\n",
       "      <th>GG</th>\n",
       "      <th>...</th>\n",
       "      <th>SCD</th>\n",
       "      <th>SNES</th>\n",
       "      <th>TG16</th>\n",
       "      <th>WS</th>\n",
       "      <th>Wii</th>\n",
       "      <th>WiiU</th>\n",
       "      <th>X360</th>\n",
       "      <th>XB</th>\n",
       "      <th>XOne</th>\n",
       "      <th>Total</th>\n",
       "    </tr>\n",
       "    <tr>\n",
       "      <th>year</th>\n",
       "      <th></th>\n",
       "      <th></th>\n",
       "      <th></th>\n",
       "      <th></th>\n",
       "      <th></th>\n",
       "      <th></th>\n",
       "      <th></th>\n",
       "      <th></th>\n",
       "      <th></th>\n",
       "      <th></th>\n",
       "      <th></th>\n",
       "      <th></th>\n",
       "      <th></th>\n",
       "      <th></th>\n",
       "      <th></th>\n",
       "      <th></th>\n",
       "      <th></th>\n",
       "      <th></th>\n",
       "      <th></th>\n",
       "      <th></th>\n",
       "      <th></th>\n",
       "    </tr>\n",
       "  </thead>\n",
       "  <tbody>\n",
       "    <tr>\n",
       "      <th>1980</th>\n",
       "      <td>9</td>\n",
       "      <td>0</td>\n",
       "      <td>0</td>\n",
       "      <td>0</td>\n",
       "      <td>0</td>\n",
       "      <td>0</td>\n",
       "      <td>0</td>\n",
       "      <td>0</td>\n",
       "      <td>0</td>\n",
       "      <td>0</td>\n",
       "      <td>...</td>\n",
       "      <td>0</td>\n",
       "      <td>0</td>\n",
       "      <td>0</td>\n",
       "      <td>0</td>\n",
       "      <td>0</td>\n",
       "      <td>0</td>\n",
       "      <td>0</td>\n",
       "      <td>0</td>\n",
       "      <td>0</td>\n",
       "      <td>9</td>\n",
       "    </tr>\n",
       "    <tr>\n",
       "      <th>1981</th>\n",
       "      <td>46</td>\n",
       "      <td>0</td>\n",
       "      <td>0</td>\n",
       "      <td>0</td>\n",
       "      <td>0</td>\n",
       "      <td>0</td>\n",
       "      <td>0</td>\n",
       "      <td>0</td>\n",
       "      <td>0</td>\n",
       "      <td>0</td>\n",
       "      <td>...</td>\n",
       "      <td>0</td>\n",
       "      <td>0</td>\n",
       "      <td>0</td>\n",
       "      <td>0</td>\n",
       "      <td>0</td>\n",
       "      <td>0</td>\n",
       "      <td>0</td>\n",
       "      <td>0</td>\n",
       "      <td>0</td>\n",
       "      <td>46</td>\n",
       "    </tr>\n",
       "    <tr>\n",
       "      <th>1982</th>\n",
       "      <td>36</td>\n",
       "      <td>0</td>\n",
       "      <td>0</td>\n",
       "      <td>0</td>\n",
       "      <td>0</td>\n",
       "      <td>0</td>\n",
       "      <td>0</td>\n",
       "      <td>0</td>\n",
       "      <td>0</td>\n",
       "      <td>0</td>\n",
       "      <td>...</td>\n",
       "      <td>0</td>\n",
       "      <td>0</td>\n",
       "      <td>0</td>\n",
       "      <td>0</td>\n",
       "      <td>0</td>\n",
       "      <td>0</td>\n",
       "      <td>0</td>\n",
       "      <td>0</td>\n",
       "      <td>0</td>\n",
       "      <td>36</td>\n",
       "    </tr>\n",
       "    <tr>\n",
       "      <th>1983</th>\n",
       "      <td>11</td>\n",
       "      <td>0</td>\n",
       "      <td>0</td>\n",
       "      <td>0</td>\n",
       "      <td>0</td>\n",
       "      <td>0</td>\n",
       "      <td>0</td>\n",
       "      <td>0</td>\n",
       "      <td>0</td>\n",
       "      <td>0</td>\n",
       "      <td>...</td>\n",
       "      <td>0</td>\n",
       "      <td>0</td>\n",
       "      <td>0</td>\n",
       "      <td>0</td>\n",
       "      <td>0</td>\n",
       "      <td>0</td>\n",
       "      <td>0</td>\n",
       "      <td>0</td>\n",
       "      <td>0</td>\n",
       "      <td>17</td>\n",
       "    </tr>\n",
       "    <tr>\n",
       "      <th>1984</th>\n",
       "      <td>1</td>\n",
       "      <td>0</td>\n",
       "      <td>0</td>\n",
       "      <td>0</td>\n",
       "      <td>0</td>\n",
       "      <td>0</td>\n",
       "      <td>0</td>\n",
       "      <td>0</td>\n",
       "      <td>0</td>\n",
       "      <td>0</td>\n",
       "      <td>...</td>\n",
       "      <td>0</td>\n",
       "      <td>0</td>\n",
       "      <td>0</td>\n",
       "      <td>0</td>\n",
       "      <td>0</td>\n",
       "      <td>0</td>\n",
       "      <td>0</td>\n",
       "      <td>0</td>\n",
       "      <td>0</td>\n",
       "      <td>14</td>\n",
       "    </tr>\n",
       "    <tr>\n",
       "      <th>1985</th>\n",
       "      <td>1</td>\n",
       "      <td>0</td>\n",
       "      <td>0</td>\n",
       "      <td>0</td>\n",
       "      <td>1</td>\n",
       "      <td>0</td>\n",
       "      <td>0</td>\n",
       "      <td>0</td>\n",
       "      <td>0</td>\n",
       "      <td>0</td>\n",
       "      <td>...</td>\n",
       "      <td>0</td>\n",
       "      <td>0</td>\n",
       "      <td>0</td>\n",
       "      <td>0</td>\n",
       "      <td>0</td>\n",
       "      <td>0</td>\n",
       "      <td>0</td>\n",
       "      <td>0</td>\n",
       "      <td>0</td>\n",
       "      <td>14</td>\n",
       "    </tr>\n",
       "    <tr>\n",
       "      <th>1986</th>\n",
       "      <td>2</td>\n",
       "      <td>0</td>\n",
       "      <td>0</td>\n",
       "      <td>0</td>\n",
       "      <td>0</td>\n",
       "      <td>0</td>\n",
       "      <td>0</td>\n",
       "      <td>0</td>\n",
       "      <td>0</td>\n",
       "      <td>0</td>\n",
       "      <td>...</td>\n",
       "      <td>0</td>\n",
       "      <td>0</td>\n",
       "      <td>0</td>\n",
       "      <td>0</td>\n",
       "      <td>0</td>\n",
       "      <td>0</td>\n",
       "      <td>0</td>\n",
       "      <td>0</td>\n",
       "      <td>0</td>\n",
       "      <td>21</td>\n",
       "    </tr>\n",
       "    <tr>\n",
       "      <th>1987</th>\n",
       "      <td>6</td>\n",
       "      <td>0</td>\n",
       "      <td>0</td>\n",
       "      <td>0</td>\n",
       "      <td>0</td>\n",
       "      <td>0</td>\n",
       "      <td>0</td>\n",
       "      <td>0</td>\n",
       "      <td>0</td>\n",
       "      <td>0</td>\n",
       "      <td>...</td>\n",
       "      <td>0</td>\n",
       "      <td>0</td>\n",
       "      <td>0</td>\n",
       "      <td>0</td>\n",
       "      <td>0</td>\n",
       "      <td>0</td>\n",
       "      <td>0</td>\n",
       "      <td>0</td>\n",
       "      <td>0</td>\n",
       "      <td>16</td>\n",
       "    </tr>\n",
       "    <tr>\n",
       "      <th>1988</th>\n",
       "      <td>2</td>\n",
       "      <td>0</td>\n",
       "      <td>0</td>\n",
       "      <td>0</td>\n",
       "      <td>0</td>\n",
       "      <td>1</td>\n",
       "      <td>0</td>\n",
       "      <td>0</td>\n",
       "      <td>0</td>\n",
       "      <td>0</td>\n",
       "      <td>...</td>\n",
       "      <td>0</td>\n",
       "      <td>0</td>\n",
       "      <td>0</td>\n",
       "      <td>0</td>\n",
       "      <td>0</td>\n",
       "      <td>0</td>\n",
       "      <td>0</td>\n",
       "      <td>0</td>\n",
       "      <td>0</td>\n",
       "      <td>15</td>\n",
       "    </tr>\n",
       "    <tr>\n",
       "      <th>1989</th>\n",
       "      <td>2</td>\n",
       "      <td>0</td>\n",
       "      <td>0</td>\n",
       "      <td>0</td>\n",
       "      <td>0</td>\n",
       "      <td>10</td>\n",
       "      <td>0</td>\n",
       "      <td>0</td>\n",
       "      <td>0</td>\n",
       "      <td>0</td>\n",
       "      <td>...</td>\n",
       "      <td>0</td>\n",
       "      <td>0</td>\n",
       "      <td>0</td>\n",
       "      <td>0</td>\n",
       "      <td>0</td>\n",
       "      <td>0</td>\n",
       "      <td>0</td>\n",
       "      <td>0</td>\n",
       "      <td>0</td>\n",
       "      <td>17</td>\n",
       "    </tr>\n",
       "    <tr>\n",
       "      <th>1990</th>\n",
       "      <td>0</td>\n",
       "      <td>0</td>\n",
       "      <td>0</td>\n",
       "      <td>0</td>\n",
       "      <td>0</td>\n",
       "      <td>3</td>\n",
       "      <td>0</td>\n",
       "      <td>0</td>\n",
       "      <td>1</td>\n",
       "      <td>0</td>\n",
       "      <td>...</td>\n",
       "      <td>0</td>\n",
       "      <td>4</td>\n",
       "      <td>0</td>\n",
       "      <td>0</td>\n",
       "      <td>0</td>\n",
       "      <td>0</td>\n",
       "      <td>0</td>\n",
       "      <td>0</td>\n",
       "      <td>0</td>\n",
       "      <td>16</td>\n",
       "    </tr>\n",
       "    <tr>\n",
       "      <th>1991</th>\n",
       "      <td>0</td>\n",
       "      <td>0</td>\n",
       "      <td>0</td>\n",
       "      <td>0</td>\n",
       "      <td>0</td>\n",
       "      <td>9</td>\n",
       "      <td>0</td>\n",
       "      <td>0</td>\n",
       "      <td>1</td>\n",
       "      <td>0</td>\n",
       "      <td>...</td>\n",
       "      <td>0</td>\n",
       "      <td>24</td>\n",
       "      <td>0</td>\n",
       "      <td>0</td>\n",
       "      <td>0</td>\n",
       "      <td>0</td>\n",
       "      <td>0</td>\n",
       "      <td>0</td>\n",
       "      <td>0</td>\n",
       "      <td>41</td>\n",
       "    </tr>\n",
       "    <tr>\n",
       "      <th>1992</th>\n",
       "      <td>0</td>\n",
       "      <td>0</td>\n",
       "      <td>0</td>\n",
       "      <td>0</td>\n",
       "      <td>0</td>\n",
       "      <td>7</td>\n",
       "      <td>0</td>\n",
       "      <td>0</td>\n",
       "      <td>6</td>\n",
       "      <td>1</td>\n",
       "      <td>...</td>\n",
       "      <td>0</td>\n",
       "      <td>21</td>\n",
       "      <td>0</td>\n",
       "      <td>0</td>\n",
       "      <td>0</td>\n",
       "      <td>0</td>\n",
       "      <td>0</td>\n",
       "      <td>0</td>\n",
       "      <td>0</td>\n",
       "      <td>43</td>\n",
       "    </tr>\n",
       "    <tr>\n",
       "      <th>1993</th>\n",
       "      <td>0</td>\n",
       "      <td>0</td>\n",
       "      <td>0</td>\n",
       "      <td>0</td>\n",
       "      <td>0</td>\n",
       "      <td>0</td>\n",
       "      <td>0</td>\n",
       "      <td>0</td>\n",
       "      <td>7</td>\n",
       "      <td>0</td>\n",
       "      <td>...</td>\n",
       "      <td>1</td>\n",
       "      <td>46</td>\n",
       "      <td>0</td>\n",
       "      <td>0</td>\n",
       "      <td>0</td>\n",
       "      <td>0</td>\n",
       "      <td>0</td>\n",
       "      <td>0</td>\n",
       "      <td>0</td>\n",
       "      <td>60</td>\n",
       "    </tr>\n",
       "    <tr>\n",
       "      <th>1994</th>\n",
       "      <td>0</td>\n",
       "      <td>1</td>\n",
       "      <td>0</td>\n",
       "      <td>0</td>\n",
       "      <td>0</td>\n",
       "      <td>3</td>\n",
       "      <td>0</td>\n",
       "      <td>0</td>\n",
       "      <td>12</td>\n",
       "      <td>0</td>\n",
       "      <td>...</td>\n",
       "      <td>5</td>\n",
       "      <td>53</td>\n",
       "      <td>0</td>\n",
       "      <td>0</td>\n",
       "      <td>0</td>\n",
       "      <td>0</td>\n",
       "      <td>0</td>\n",
       "      <td>0</td>\n",
       "      <td>0</td>\n",
       "      <td>121</td>\n",
       "    </tr>\n",
       "    <tr>\n",
       "      <th>1995</th>\n",
       "      <td>0</td>\n",
       "      <td>2</td>\n",
       "      <td>0</td>\n",
       "      <td>0</td>\n",
       "      <td>0</td>\n",
       "      <td>4</td>\n",
       "      <td>0</td>\n",
       "      <td>0</td>\n",
       "      <td>0</td>\n",
       "      <td>0</td>\n",
       "      <td>...</td>\n",
       "      <td>0</td>\n",
       "      <td>54</td>\n",
       "      <td>2</td>\n",
       "      <td>0</td>\n",
       "      <td>0</td>\n",
       "      <td>0</td>\n",
       "      <td>0</td>\n",
       "      <td>0</td>\n",
       "      <td>0</td>\n",
       "      <td>219</td>\n",
       "    </tr>\n",
       "    <tr>\n",
       "      <th>1996</th>\n",
       "      <td>0</td>\n",
       "      <td>0</td>\n",
       "      <td>0</td>\n",
       "      <td>0</td>\n",
       "      <td>0</td>\n",
       "      <td>6</td>\n",
       "      <td>0</td>\n",
       "      <td>0</td>\n",
       "      <td>0</td>\n",
       "      <td>0</td>\n",
       "      <td>...</td>\n",
       "      <td>0</td>\n",
       "      <td>30</td>\n",
       "      <td>0</td>\n",
       "      <td>0</td>\n",
       "      <td>0</td>\n",
       "      <td>0</td>\n",
       "      <td>0</td>\n",
       "      <td>0</td>\n",
       "      <td>0</td>\n",
       "      <td>263</td>\n",
       "    </tr>\n",
       "    <tr>\n",
       "      <th>1997</th>\n",
       "      <td>0</td>\n",
       "      <td>0</td>\n",
       "      <td>0</td>\n",
       "      <td>0</td>\n",
       "      <td>0</td>\n",
       "      <td>8</td>\n",
       "      <td>0</td>\n",
       "      <td>0</td>\n",
       "      <td>0</td>\n",
       "      <td>0</td>\n",
       "      <td>...</td>\n",
       "      <td>0</td>\n",
       "      <td>4</td>\n",
       "      <td>0</td>\n",
       "      <td>0</td>\n",
       "      <td>0</td>\n",
       "      <td>0</td>\n",
       "      <td>0</td>\n",
       "      <td>0</td>\n",
       "      <td>0</td>\n",
       "      <td>289</td>\n",
       "    </tr>\n",
       "    <tr>\n",
       "      <th>1998</th>\n",
       "      <td>0</td>\n",
       "      <td>0</td>\n",
       "      <td>0</td>\n",
       "      <td>7</td>\n",
       "      <td>0</td>\n",
       "      <td>8</td>\n",
       "      <td>0</td>\n",
       "      <td>0</td>\n",
       "      <td>0</td>\n",
       "      <td>0</td>\n",
       "      <td>...</td>\n",
       "      <td>0</td>\n",
       "      <td>2</td>\n",
       "      <td>0</td>\n",
       "      <td>0</td>\n",
       "      <td>0</td>\n",
       "      <td>0</td>\n",
       "      <td>0</td>\n",
       "      <td>0</td>\n",
       "      <td>0</td>\n",
       "      <td>379</td>\n",
       "    </tr>\n",
       "    <tr>\n",
       "      <th>1999</th>\n",
       "      <td>0</td>\n",
       "      <td>0</td>\n",
       "      <td>0</td>\n",
       "      <td>14</td>\n",
       "      <td>0</td>\n",
       "      <td>11</td>\n",
       "      <td>0</td>\n",
       "      <td>0</td>\n",
       "      <td>0</td>\n",
       "      <td>0</td>\n",
       "      <td>...</td>\n",
       "      <td>0</td>\n",
       "      <td>1</td>\n",
       "      <td>0</td>\n",
       "      <td>2</td>\n",
       "      <td>0</td>\n",
       "      <td>0</td>\n",
       "      <td>0</td>\n",
       "      <td>0</td>\n",
       "      <td>0</td>\n",
       "      <td>338</td>\n",
       "    </tr>\n",
       "    <tr>\n",
       "      <th>2000</th>\n",
       "      <td>0</td>\n",
       "      <td>0</td>\n",
       "      <td>0</td>\n",
       "      <td>20</td>\n",
       "      <td>0</td>\n",
       "      <td>17</td>\n",
       "      <td>1</td>\n",
       "      <td>0</td>\n",
       "      <td>0</td>\n",
       "      <td>0</td>\n",
       "      <td>...</td>\n",
       "      <td>0</td>\n",
       "      <td>0</td>\n",
       "      <td>0</td>\n",
       "      <td>2</td>\n",
       "      <td>0</td>\n",
       "      <td>0</td>\n",
       "      <td>0</td>\n",
       "      <td>1</td>\n",
       "      <td>0</td>\n",
       "      <td>349</td>\n",
       "    </tr>\n",
       "    <tr>\n",
       "      <th>2001</th>\n",
       "      <td>0</td>\n",
       "      <td>0</td>\n",
       "      <td>0</td>\n",
       "      <td>8</td>\n",
       "      <td>0</td>\n",
       "      <td>10</td>\n",
       "      <td>107</td>\n",
       "      <td>22</td>\n",
       "      <td>0</td>\n",
       "      <td>0</td>\n",
       "      <td>...</td>\n",
       "      <td>0</td>\n",
       "      <td>0</td>\n",
       "      <td>0</td>\n",
       "      <td>2</td>\n",
       "      <td>0</td>\n",
       "      <td>0</td>\n",
       "      <td>0</td>\n",
       "      <td>33</td>\n",
       "      <td>0</td>\n",
       "      <td>482</td>\n",
       "    </tr>\n",
       "    <tr>\n",
       "      <th>2002</th>\n",
       "      <td>0</td>\n",
       "      <td>0</td>\n",
       "      <td>0</td>\n",
       "      <td>1</td>\n",
       "      <td>0</td>\n",
       "      <td>0</td>\n",
       "      <td>198</td>\n",
       "      <td>152</td>\n",
       "      <td>0</td>\n",
       "      <td>0</td>\n",
       "      <td>...</td>\n",
       "      <td>0</td>\n",
       "      <td>0</td>\n",
       "      <td>0</td>\n",
       "      <td>0</td>\n",
       "      <td>0</td>\n",
       "      <td>0</td>\n",
       "      <td>0</td>\n",
       "      <td>158</td>\n",
       "      <td>0</td>\n",
       "      <td>829</td>\n",
       "    </tr>\n",
       "    <tr>\n",
       "      <th>2003</th>\n",
       "      <td>0</td>\n",
       "      <td>0</td>\n",
       "      <td>0</td>\n",
       "      <td>0</td>\n",
       "      <td>0</td>\n",
       "      <td>0</td>\n",
       "      <td>150</td>\n",
       "      <td>144</td>\n",
       "      <td>0</td>\n",
       "      <td>0</td>\n",
       "      <td>...</td>\n",
       "      <td>0</td>\n",
       "      <td>0</td>\n",
       "      <td>0</td>\n",
       "      <td>0</td>\n",
       "      <td>0</td>\n",
       "      <td>0</td>\n",
       "      <td>0</td>\n",
       "      <td>189</td>\n",
       "      <td>0</td>\n",
       "      <td>775</td>\n",
       "    </tr>\n",
       "    <tr>\n",
       "      <th>2004</th>\n",
       "      <td>0</td>\n",
       "      <td>0</td>\n",
       "      <td>0</td>\n",
       "      <td>0</td>\n",
       "      <td>23</td>\n",
       "      <td>0</td>\n",
       "      <td>175</td>\n",
       "      <td>83</td>\n",
       "      <td>0</td>\n",
       "      <td>0</td>\n",
       "      <td>...</td>\n",
       "      <td>0</td>\n",
       "      <td>0</td>\n",
       "      <td>0</td>\n",
       "      <td>0</td>\n",
       "      <td>0</td>\n",
       "      <td>0</td>\n",
       "      <td>0</td>\n",
       "      <td>177</td>\n",
       "      <td>0</td>\n",
       "      <td>763</td>\n",
       "    </tr>\n",
       "    <tr>\n",
       "      <th>2005</th>\n",
       "      <td>0</td>\n",
       "      <td>0</td>\n",
       "      <td>0</td>\n",
       "      <td>0</td>\n",
       "      <td>118</td>\n",
       "      <td>0</td>\n",
       "      <td>135</td>\n",
       "      <td>97</td>\n",
       "      <td>0</td>\n",
       "      <td>0</td>\n",
       "      <td>...</td>\n",
       "      <td>0</td>\n",
       "      <td>0</td>\n",
       "      <td>0</td>\n",
       "      <td>0</td>\n",
       "      <td>0</td>\n",
       "      <td>0</td>\n",
       "      <td>18</td>\n",
       "      <td>179</td>\n",
       "      <td>0</td>\n",
       "      <td>941</td>\n",
       "    </tr>\n",
       "    <tr>\n",
       "      <th>2006</th>\n",
       "      <td>0</td>\n",
       "      <td>0</td>\n",
       "      <td>0</td>\n",
       "      <td>0</td>\n",
       "      <td>202</td>\n",
       "      <td>0</td>\n",
       "      <td>39</td>\n",
       "      <td>40</td>\n",
       "      <td>0</td>\n",
       "      <td>0</td>\n",
       "      <td>...</td>\n",
       "      <td>0</td>\n",
       "      <td>0</td>\n",
       "      <td>0</td>\n",
       "      <td>0</td>\n",
       "      <td>44</td>\n",
       "      <td>0</td>\n",
       "      <td>93</td>\n",
       "      <td>62</td>\n",
       "      <td>0</td>\n",
       "      <td>1008</td>\n",
       "    </tr>\n",
       "    <tr>\n",
       "      <th>2007</th>\n",
       "      <td>0</td>\n",
       "      <td>0</td>\n",
       "      <td>0</td>\n",
       "      <td>1</td>\n",
       "      <td>377</td>\n",
       "      <td>0</td>\n",
       "      <td>6</td>\n",
       "      <td>4</td>\n",
       "      <td>0</td>\n",
       "      <td>0</td>\n",
       "      <td>...</td>\n",
       "      <td>0</td>\n",
       "      <td>0</td>\n",
       "      <td>0</td>\n",
       "      <td>0</td>\n",
       "      <td>187</td>\n",
       "      <td>0</td>\n",
       "      <td>123</td>\n",
       "      <td>3</td>\n",
       "      <td>0</td>\n",
       "      <td>1202</td>\n",
       "    </tr>\n",
       "    <tr>\n",
       "      <th>2008</th>\n",
       "      <td>0</td>\n",
       "      <td>0</td>\n",
       "      <td>0</td>\n",
       "      <td>1</td>\n",
       "      <td>492</td>\n",
       "      <td>0</td>\n",
       "      <td>0</td>\n",
       "      <td>0</td>\n",
       "      <td>0</td>\n",
       "      <td>0</td>\n",
       "      <td>...</td>\n",
       "      <td>0</td>\n",
       "      <td>0</td>\n",
       "      <td>0</td>\n",
       "      <td>0</td>\n",
       "      <td>282</td>\n",
       "      <td>0</td>\n",
       "      <td>146</td>\n",
       "      <td>1</td>\n",
       "      <td>0</td>\n",
       "      <td>1428</td>\n",
       "    </tr>\n",
       "    <tr>\n",
       "      <th>2009</th>\n",
       "      <td>0</td>\n",
       "      <td>0</td>\n",
       "      <td>0</td>\n",
       "      <td>0</td>\n",
       "      <td>405</td>\n",
       "      <td>0</td>\n",
       "      <td>0</td>\n",
       "      <td>0</td>\n",
       "      <td>0</td>\n",
       "      <td>0</td>\n",
       "      <td>...</td>\n",
       "      <td>0</td>\n",
       "      <td>0</td>\n",
       "      <td>0</td>\n",
       "      <td>0</td>\n",
       "      <td>325</td>\n",
       "      <td>0</td>\n",
       "      <td>173</td>\n",
       "      <td>0</td>\n",
       "      <td>0</td>\n",
       "      <td>1431</td>\n",
       "    </tr>\n",
       "    <tr>\n",
       "      <th>2010</th>\n",
       "      <td>0</td>\n",
       "      <td>0</td>\n",
       "      <td>0</td>\n",
       "      <td>0</td>\n",
       "      <td>326</td>\n",
       "      <td>0</td>\n",
       "      <td>0</td>\n",
       "      <td>0</td>\n",
       "      <td>0</td>\n",
       "      <td>0</td>\n",
       "      <td>...</td>\n",
       "      <td>0</td>\n",
       "      <td>0</td>\n",
       "      <td>0</td>\n",
       "      <td>0</td>\n",
       "      <td>254</td>\n",
       "      <td>0</td>\n",
       "      <td>182</td>\n",
       "      <td>0</td>\n",
       "      <td>0</td>\n",
       "      <td>1259</td>\n",
       "    </tr>\n",
       "    <tr>\n",
       "      <th>2011</th>\n",
       "      <td>0</td>\n",
       "      <td>0</td>\n",
       "      <td>116</td>\n",
       "      <td>0</td>\n",
       "      <td>153</td>\n",
       "      <td>0</td>\n",
       "      <td>0</td>\n",
       "      <td>0</td>\n",
       "      <td>0</td>\n",
       "      <td>0</td>\n",
       "      <td>...</td>\n",
       "      <td>0</td>\n",
       "      <td>0</td>\n",
       "      <td>0</td>\n",
       "      <td>0</td>\n",
       "      <td>144</td>\n",
       "      <td>0</td>\n",
       "      <td>206</td>\n",
       "      <td>0</td>\n",
       "      <td>0</td>\n",
       "      <td>1139</td>\n",
       "    </tr>\n",
       "    <tr>\n",
       "      <th>2012</th>\n",
       "      <td>0</td>\n",
       "      <td>0</td>\n",
       "      <td>93</td>\n",
       "      <td>0</td>\n",
       "      <td>25</td>\n",
       "      <td>0</td>\n",
       "      <td>0</td>\n",
       "      <td>0</td>\n",
       "      <td>0</td>\n",
       "      <td>0</td>\n",
       "      <td>...</td>\n",
       "      <td>0</td>\n",
       "      <td>0</td>\n",
       "      <td>0</td>\n",
       "      <td>0</td>\n",
       "      <td>32</td>\n",
       "      <td>32</td>\n",
       "      <td>106</td>\n",
       "      <td>0</td>\n",
       "      <td>0</td>\n",
       "      <td>657</td>\n",
       "    </tr>\n",
       "    <tr>\n",
       "      <th>2013</th>\n",
       "      <td>0</td>\n",
       "      <td>0</td>\n",
       "      <td>91</td>\n",
       "      <td>0</td>\n",
       "      <td>9</td>\n",
       "      <td>0</td>\n",
       "      <td>0</td>\n",
       "      <td>0</td>\n",
       "      <td>0</td>\n",
       "      <td>0</td>\n",
       "      <td>...</td>\n",
       "      <td>0</td>\n",
       "      <td>0</td>\n",
       "      <td>0</td>\n",
       "      <td>0</td>\n",
       "      <td>12</td>\n",
       "      <td>42</td>\n",
       "      <td>75</td>\n",
       "      <td>0</td>\n",
       "      <td>19</td>\n",
       "      <td>546</td>\n",
       "    </tr>\n",
       "    <tr>\n",
       "      <th>2014</th>\n",
       "      <td>0</td>\n",
       "      <td>0</td>\n",
       "      <td>79</td>\n",
       "      <td>0</td>\n",
       "      <td>1</td>\n",
       "      <td>0</td>\n",
       "      <td>0</td>\n",
       "      <td>0</td>\n",
       "      <td>0</td>\n",
       "      <td>0</td>\n",
       "      <td>...</td>\n",
       "      <td>0</td>\n",
       "      <td>0</td>\n",
       "      <td>0</td>\n",
       "      <td>0</td>\n",
       "      <td>6</td>\n",
       "      <td>31</td>\n",
       "      <td>65</td>\n",
       "      <td>0</td>\n",
       "      <td>61</td>\n",
       "      <td>582</td>\n",
       "    </tr>\n",
       "    <tr>\n",
       "      <th>2015</th>\n",
       "      <td>0</td>\n",
       "      <td>0</td>\n",
       "      <td>86</td>\n",
       "      <td>0</td>\n",
       "      <td>0</td>\n",
       "      <td>0</td>\n",
       "      <td>0</td>\n",
       "      <td>0</td>\n",
       "      <td>0</td>\n",
       "      <td>0</td>\n",
       "      <td>...</td>\n",
       "      <td>0</td>\n",
       "      <td>0</td>\n",
       "      <td>0</td>\n",
       "      <td>0</td>\n",
       "      <td>4</td>\n",
       "      <td>28</td>\n",
       "      <td>40</td>\n",
       "      <td>0</td>\n",
       "      <td>79</td>\n",
       "      <td>614</td>\n",
       "    </tr>\n",
       "    <tr>\n",
       "      <th>2016</th>\n",
       "      <td>0</td>\n",
       "      <td>0</td>\n",
       "      <td>35</td>\n",
       "      <td>0</td>\n",
       "      <td>0</td>\n",
       "      <td>0</td>\n",
       "      <td>0</td>\n",
       "      <td>0</td>\n",
       "      <td>0</td>\n",
       "      <td>0</td>\n",
       "      <td>...</td>\n",
       "      <td>0</td>\n",
       "      <td>0</td>\n",
       "      <td>0</td>\n",
       "      <td>0</td>\n",
       "      <td>0</td>\n",
       "      <td>10</td>\n",
       "      <td>8</td>\n",
       "      <td>0</td>\n",
       "      <td>54</td>\n",
       "      <td>344</td>\n",
       "    </tr>\n",
       "    <tr>\n",
       "      <th>2017</th>\n",
       "      <td>0</td>\n",
       "      <td>0</td>\n",
       "      <td>0</td>\n",
       "      <td>0</td>\n",
       "      <td>0</td>\n",
       "      <td>0</td>\n",
       "      <td>0</td>\n",
       "      <td>0</td>\n",
       "      <td>0</td>\n",
       "      <td>0</td>\n",
       "      <td>...</td>\n",
       "      <td>0</td>\n",
       "      <td>0</td>\n",
       "      <td>0</td>\n",
       "      <td>0</td>\n",
       "      <td>0</td>\n",
       "      <td>0</td>\n",
       "      <td>0</td>\n",
       "      <td>0</td>\n",
       "      <td>0</td>\n",
       "      <td>3</td>\n",
       "    </tr>\n",
       "    <tr>\n",
       "      <th>2020</th>\n",
       "      <td>0</td>\n",
       "      <td>0</td>\n",
       "      <td>0</td>\n",
       "      <td>0</td>\n",
       "      <td>1</td>\n",
       "      <td>0</td>\n",
       "      <td>0</td>\n",
       "      <td>0</td>\n",
       "      <td>0</td>\n",
       "      <td>0</td>\n",
       "      <td>...</td>\n",
       "      <td>0</td>\n",
       "      <td>0</td>\n",
       "      <td>0</td>\n",
       "      <td>0</td>\n",
       "      <td>0</td>\n",
       "      <td>0</td>\n",
       "      <td>0</td>\n",
       "      <td>0</td>\n",
       "      <td>0</td>\n",
       "      <td>1</td>\n",
       "    </tr>\n",
       "    <tr>\n",
       "      <th>Total</th>\n",
       "      <td>116</td>\n",
       "      <td>3</td>\n",
       "      <td>500</td>\n",
       "      <td>52</td>\n",
       "      <td>2133</td>\n",
       "      <td>97</td>\n",
       "      <td>811</td>\n",
       "      <td>542</td>\n",
       "      <td>27</td>\n",
       "      <td>1</td>\n",
       "      <td>...</td>\n",
       "      <td>6</td>\n",
       "      <td>239</td>\n",
       "      <td>2</td>\n",
       "      <td>6</td>\n",
       "      <td>1290</td>\n",
       "      <td>143</td>\n",
       "      <td>1235</td>\n",
       "      <td>803</td>\n",
       "      <td>213</td>\n",
       "      <td>16327</td>\n",
       "    </tr>\n",
       "  </tbody>\n",
       "</table>\n",
       "<p>40 rows × 32 columns</p>\n",
       "</div>"
      ],
      "text/plain": [
       "platform  2600  3DO  3DS  DC    DS  GB  GBA   GC  GEN  GG  ...  SCD  SNES  \\\n",
       "year                                                       ...              \n",
       "1980         9    0    0   0     0   0    0    0    0   0  ...    0     0   \n",
       "1981        46    0    0   0     0   0    0    0    0   0  ...    0     0   \n",
       "1982        36    0    0   0     0   0    0    0    0   0  ...    0     0   \n",
       "1983        11    0    0   0     0   0    0    0    0   0  ...    0     0   \n",
       "1984         1    0    0   0     0   0    0    0    0   0  ...    0     0   \n",
       "1985         1    0    0   0     1   0    0    0    0   0  ...    0     0   \n",
       "1986         2    0    0   0     0   0    0    0    0   0  ...    0     0   \n",
       "1987         6    0    0   0     0   0    0    0    0   0  ...    0     0   \n",
       "1988         2    0    0   0     0   1    0    0    0   0  ...    0     0   \n",
       "1989         2    0    0   0     0  10    0    0    0   0  ...    0     0   \n",
       "1990         0    0    0   0     0   3    0    0    1   0  ...    0     4   \n",
       "1991         0    0    0   0     0   9    0    0    1   0  ...    0    24   \n",
       "1992         0    0    0   0     0   7    0    0    6   1  ...    0    21   \n",
       "1993         0    0    0   0     0   0    0    0    7   0  ...    1    46   \n",
       "1994         0    1    0   0     0   3    0    0   12   0  ...    5    53   \n",
       "1995         0    2    0   0     0   4    0    0    0   0  ...    0    54   \n",
       "1996         0    0    0   0     0   6    0    0    0   0  ...    0    30   \n",
       "1997         0    0    0   0     0   8    0    0    0   0  ...    0     4   \n",
       "1998         0    0    0   7     0   8    0    0    0   0  ...    0     2   \n",
       "1999         0    0    0  14     0  11    0    0    0   0  ...    0     1   \n",
       "2000         0    0    0  20     0  17    1    0    0   0  ...    0     0   \n",
       "2001         0    0    0   8     0  10  107   22    0   0  ...    0     0   \n",
       "2002         0    0    0   1     0   0  198  152    0   0  ...    0     0   \n",
       "2003         0    0    0   0     0   0  150  144    0   0  ...    0     0   \n",
       "2004         0    0    0   0    23   0  175   83    0   0  ...    0     0   \n",
       "2005         0    0    0   0   118   0  135   97    0   0  ...    0     0   \n",
       "2006         0    0    0   0   202   0   39   40    0   0  ...    0     0   \n",
       "2007         0    0    0   1   377   0    6    4    0   0  ...    0     0   \n",
       "2008         0    0    0   1   492   0    0    0    0   0  ...    0     0   \n",
       "2009         0    0    0   0   405   0    0    0    0   0  ...    0     0   \n",
       "2010         0    0    0   0   326   0    0    0    0   0  ...    0     0   \n",
       "2011         0    0  116   0   153   0    0    0    0   0  ...    0     0   \n",
       "2012         0    0   93   0    25   0    0    0    0   0  ...    0     0   \n",
       "2013         0    0   91   0     9   0    0    0    0   0  ...    0     0   \n",
       "2014         0    0   79   0     1   0    0    0    0   0  ...    0     0   \n",
       "2015         0    0   86   0     0   0    0    0    0   0  ...    0     0   \n",
       "2016         0    0   35   0     0   0    0    0    0   0  ...    0     0   \n",
       "2017         0    0    0   0     0   0    0    0    0   0  ...    0     0   \n",
       "2020         0    0    0   0     1   0    0    0    0   0  ...    0     0   \n",
       "Total      116    3  500  52  2133  97  811  542   27   1  ...    6   239   \n",
       "\n",
       "platform  TG16  WS   Wii  WiiU  X360   XB  XOne  Total  \n",
       "year                                                    \n",
       "1980         0   0     0     0     0    0     0      9  \n",
       "1981         0   0     0     0     0    0     0     46  \n",
       "1982         0   0     0     0     0    0     0     36  \n",
       "1983         0   0     0     0     0    0     0     17  \n",
       "1984         0   0     0     0     0    0     0     14  \n",
       "1985         0   0     0     0     0    0     0     14  \n",
       "1986         0   0     0     0     0    0     0     21  \n",
       "1987         0   0     0     0     0    0     0     16  \n",
       "1988         0   0     0     0     0    0     0     15  \n",
       "1989         0   0     0     0     0    0     0     17  \n",
       "1990         0   0     0     0     0    0     0     16  \n",
       "1991         0   0     0     0     0    0     0     41  \n",
       "1992         0   0     0     0     0    0     0     43  \n",
       "1993         0   0     0     0     0    0     0     60  \n",
       "1994         0   0     0     0     0    0     0    121  \n",
       "1995         2   0     0     0     0    0     0    219  \n",
       "1996         0   0     0     0     0    0     0    263  \n",
       "1997         0   0     0     0     0    0     0    289  \n",
       "1998         0   0     0     0     0    0     0    379  \n",
       "1999         0   2     0     0     0    0     0    338  \n",
       "2000         0   2     0     0     0    1     0    349  \n",
       "2001         0   2     0     0     0   33     0    482  \n",
       "2002         0   0     0     0     0  158     0    829  \n",
       "2003         0   0     0     0     0  189     0    775  \n",
       "2004         0   0     0     0     0  177     0    763  \n",
       "2005         0   0     0     0    18  179     0    941  \n",
       "2006         0   0    44     0    93   62     0   1008  \n",
       "2007         0   0   187     0   123    3     0   1202  \n",
       "2008         0   0   282     0   146    1     0   1428  \n",
       "2009         0   0   325     0   173    0     0   1431  \n",
       "2010         0   0   254     0   182    0     0   1259  \n",
       "2011         0   0   144     0   206    0     0   1139  \n",
       "2012         0   0    32    32   106    0     0    657  \n",
       "2013         0   0    12    42    75    0    19    546  \n",
       "2014         0   0     6    31    65    0    61    582  \n",
       "2015         0   0     4    28    40    0    79    614  \n",
       "2016         0   0     0    10     8    0    54    344  \n",
       "2017         0   0     0     0     0    0     0      3  \n",
       "2020         0   0     0     0     0    0     0      1  \n",
       "Total        2   6  1290   143  1235  803   213  16327  \n",
       "\n",
       "[40 rows x 32 columns]"
      ]
     },
     "execution_count": 22,
     "metadata": {},
     "output_type": "execute_result"
    }
   ],
   "source": [
    "\n",
    "game_cross = pd.crosstab(game_df_upd['platform'], \n",
    "            game_df_upd['year'], margins=True, \n",
    "            margins_name=\"Total\", \n",
    "           ).T\n",
    "game_cross"
   ]
  },
  {
   "cell_type": "markdown",
   "id": "cosmetic-soldier",
   "metadata": {
    "id": "piZZ8zXiRILW",
    "papermill": {
     "duration": 0.069311,
     "end_time": "2021-04-28T14:30:47.427810",
     "exception": false,
     "start_time": "2021-04-28T14:30:47.358499",
     "status": "completed"
    },
    "tags": []
   },
   "source": [
    "If we look at the `Total` column, we see that the gaming industry has been actively developing since 1994.  \n",
    "\n",
    "The peaks are in 2006 - 2011, then we see a decline and some leveling off since 2012 (from 500 to 652 games per year - close to the level of 2001 - 2006). This may be due to the development of games on mobile devices for Android or iOS - * mobile phones *, which are not in the list of platforms.\n",
    "\n",
    "To simplify perception, we present a histogram grouped by name:"
   ]
  },
  {
   "cell_type": "code",
   "execution_count": 23,
   "id": "vocal-romance",
   "metadata": {
    "execution": {
     "iopub.execute_input": "2021-04-28T14:30:47.583338Z",
     "iopub.status.busy": "2021-04-28T14:30:47.582647Z",
     "iopub.status.idle": "2021-04-28T14:30:48.150996Z",
     "shell.execute_reply": "2021-04-28T14:30:48.151630Z"
    },
    "id": "Xm3iKy5WRILW",
    "outputId": "77d70b1f-0c81-4ff5-d396-7d5860ffe13f",
    "papermill": {
     "duration": 0.654281,
     "end_time": "2021-04-28T14:30:48.151808",
     "exception": false,
     "start_time": "2021-04-28T14:30:47.497527",
     "status": "completed"
    },
    "tags": []
   },
   "outputs": [
    {
     "data": {
      "image/png": "[encoded data removed]",
      "text/plain": [
       "<Figure size 1080x360 with 1 Axes>"
      ]
     },
     "metadata": {},
     "output_type": "display_data"
    }
   ],
   "source": [
    "game_df_upd.groupby('year')['name'].count().plot(\n",
    "            kind='bar', y='name', figsize=(15,5), edgecolor='black'\n",
    ")\n",
    "plt.title('Number of games released from 1980 to 2016')\n",
    "plt.xticks(rotation=42)\n",
    "plt.xlabel('')\n",
    "plt.show()\n",
    "    "
   ]
  },
  {
   "cell_type": "markdown",
   "id": "opposed-corrections",
   "metadata": {
    "id": "fp5feRg6RILW",
    "papermill": {
     "duration": 0.071972,
     "end_time": "2021-04-28T14:30:48.300852",
     "exception": false,
     "start_time": "2021-04-28T14:30:48.228880",
     "status": "completed"
    },
    "tags": []
   },
   "source": [
    "Let's look at the sales of games on various platforms in the period under review."
   ]
  },
  {
   "cell_type": "code",
   "execution_count": 24,
   "id": "passive-refund",
   "metadata": {
    "execution": {
     "iopub.execute_input": "2021-04-28T14:30:48.450632Z",
     "iopub.status.busy": "2021-04-28T14:30:48.449688Z",
     "iopub.status.idle": "2021-04-28T14:30:48.830477Z",
     "shell.execute_reply": "2021-04-28T14:30:48.831012Z"
    },
    "id": "Unl8tN-aRILX",
    "outputId": "79c47ee1-e598-46ca-ccb6-9672419f4b04",
    "papermill": {
     "duration": 0.455565,
     "end_time": "2021-04-28T14:30:48.831176",
     "exception": false,
     "start_time": "2021-04-28T14:30:48.375611",
     "status": "completed"
    },
    "tags": []
   },
   "outputs": [
    {
     "data": {
      "image/png": "[encoded data removed]",
      "text/plain": [
       "<Figure size 1080x720 with 1 Axes>"
      ]
     },
     "metadata": {},
     "output_type": "display_data"
    }
   ],
   "source": [
    "game_df_upd.groupby('platform')['total_sales'].sum().sort_values(ascending=True).plot(\n",
    "            kind='barh', y='total_sales', figsize=(15,10), edgecolor='black'\n",
    ")\n",
    "plt.title('General sales of games on different platforms')\n",
    "plt.xticks(rotation=42)\n",
    "plt.xlabel('')\n",
    "plt.ylabel('')\n",
    "plt.show()\n",
    "    "
   ]
  },
  {
   "cell_type": "markdown",
   "id": "peripheral-executive",
   "metadata": {
    "id": "D-S7yOW4RILX",
    "papermill": {
     "duration": 0.072881,
     "end_time": "2021-04-28T14:30:48.977443",
     "exception": false,
     "start_time": "2021-04-28T14:30:48.904562",
     "status": "completed"
    },
    "tags": []
   },
   "source": [
    "For convenience, let's highlight the top 10 sales platforms:"
   ]
  },
  {
   "cell_type": "code",
   "execution_count": 25,
   "id": "protective-cooperative",
   "metadata": {
    "execution": {
     "iopub.execute_input": "2021-04-28T14:30:49.129347Z",
     "iopub.status.busy": "2021-04-28T14:30:49.128331Z",
     "iopub.status.idle": "2021-04-28T14:30:49.143319Z",
     "shell.execute_reply": "2021-04-28T14:30:49.143849Z"
    },
    "id": "6HwAN5U4RILX",
    "outputId": "56f6e914-f4d5-4ddb-d326-492f901a692e",
    "papermill": {
     "duration": 0.092322,
     "end_time": "2021-04-28T14:30:49.144025",
     "exception": false,
     "start_time": "2021-04-28T14:30:49.051703",
     "status": "completed"
    },
    "tags": []
   },
   "outputs": [
    {
     "data": {
      "text/html": [
       "<div>\n",
       "<style scoped>\n",
       "    .dataframe tbody tr th:only-of-type {\n",
       "        vertical-align: middle;\n",
       "    }\n",
       "\n",
       "    .dataframe tbody tr th {\n",
       "        vertical-align: top;\n",
       "    }\n",
       "\n",
       "    .dataframe thead th {\n",
       "        text-align: right;\n",
       "    }\n",
       "</style>\n",
       "<table border=\"1\" class=\"dataframe\">\n",
       "  <thead>\n",
       "    <tr style=\"text-align: right;\">\n",
       "      <th></th>\n",
       "      <th>total_sales</th>\n",
       "    </tr>\n",
       "    <tr>\n",
       "      <th>platform</th>\n",
       "      <th></th>\n",
       "    </tr>\n",
       "  </thead>\n",
       "  <tbody>\n",
       "    <tr>\n",
       "      <th>PS2</th>\n",
       "      <td>1233.56</td>\n",
       "    </tr>\n",
       "    <tr>\n",
       "      <th>X360</th>\n",
       "      <td>969.31</td>\n",
       "    </tr>\n",
       "    <tr>\n",
       "      <th>PS3</th>\n",
       "      <td>949.39</td>\n",
       "    </tr>\n",
       "    <tr>\n",
       "      <th>Wii</th>\n",
       "      <td>909.20</td>\n",
       "    </tr>\n",
       "    <tr>\n",
       "      <th>DS</th>\n",
       "      <td>817.94</td>\n",
       "    </tr>\n",
       "    <tr>\n",
       "      <th>PS</th>\n",
       "      <td>727.56</td>\n",
       "    </tr>\n",
       "    <tr>\n",
       "      <th>GBA</th>\n",
       "      <td>312.88</td>\n",
       "    </tr>\n",
       "    <tr>\n",
       "      <th>PSP</th>\n",
       "      <td>291.66</td>\n",
       "    </tr>\n",
       "    <tr>\n",
       "      <th>PS4</th>\n",
       "      <td>278.16</td>\n",
       "    </tr>\n",
       "    <tr>\n",
       "      <th>GB</th>\n",
       "      <td>254.43</td>\n",
       "    </tr>\n",
       "  </tbody>\n",
       "</table>\n",
       "</div>"
      ],
      "text/plain": [
       "          total_sales\n",
       "platform             \n",
       "PS2           1233.56\n",
       "X360           969.31\n",
       "PS3            949.39\n",
       "Wii            909.20\n",
       "DS             817.94\n",
       "PS             727.56\n",
       "GBA            312.88\n",
       "PSP            291.66\n",
       "PS4            278.16\n",
       "GB             254.43"
      ]
     },
     "execution_count": 25,
     "metadata": {},
     "output_type": "execute_result"
    }
   ],
   "source": [
    "game_df_upd.groupby('platform')['total_sales'].sum().to_frame(\n",
    "                                                        'total_sales').sort_values(\n",
    "                                                        by='total_sales', ascending=False\n",
    "                                                        ).head(10)"
   ]
  },
  {
   "cell_type": "markdown",
   "id": "greatest-houston",
   "metadata": {
    "id": "J3n9UA-FRILX",
    "papermill": {
     "duration": 0.073523,
     "end_time": "2021-04-28T14:30:49.291368",
     "exception": false,
     "start_time": "2021-04-28T14:30:49.217845",
     "status": "completed"
    },
    "tags": []
   },
   "source": [
    "The leaders are PS2, PS3 and Xbox360. Wii and DS are also not far behind. \n",
    "Let us find life of time of each platform"
   ]
  },
  {
   "cell_type": "code",
   "execution_count": 26,
   "id": "quarterly-mistake",
   "metadata": {
    "execution": {
     "iopub.execute_input": "2021-04-28T14:30:49.442529Z",
     "iopub.status.busy": "2021-04-28T14:30:49.441579Z",
     "iopub.status.idle": "2021-04-28T14:30:49.597914Z",
     "shell.execute_reply": "2021-04-28T14:30:49.597313Z"
    },
    "id": "LjrCHo-GRILX",
    "outputId": "e3cd7bd9-1cc9-44ae-f950-5deb88af4901",
    "papermill": {
     "duration": 0.232933,
     "end_time": "2021-04-28T14:30:49.598055",
     "exception": false,
     "start_time": "2021-04-28T14:30:49.365122",
     "status": "completed"
    },
    "tags": []
   },
   "outputs": [
    {
     "data": {
      "text/html": [
       "<div>\n",
       "<style scoped>\n",
       "    .dataframe tbody tr th:only-of-type {\n",
       "        vertical-align: middle;\n",
       "    }\n",
       "\n",
       "    .dataframe tbody tr th {\n",
       "        vertical-align: top;\n",
       "    }\n",
       "\n",
       "    .dataframe thead th {\n",
       "        text-align: right;\n",
       "    }\n",
       "</style>\n",
       "<table border=\"1\" class=\"dataframe\">\n",
       "  <thead>\n",
       "    <tr style=\"text-align: right;\">\n",
       "      <th></th>\n",
       "      <th>rank</th>\n",
       "      <th>name</th>\n",
       "      <th>platform</th>\n",
       "      <th>year</th>\n",
       "      <th>genre</th>\n",
       "      <th>publisher</th>\n",
       "      <th>na_sales</th>\n",
       "      <th>eu_sales</th>\n",
       "      <th>jp_sales</th>\n",
       "      <th>other_sales</th>\n",
       "      <th>global_sales</th>\n",
       "      <th>total_sales</th>\n",
       "      <th>life_time</th>\n",
       "    </tr>\n",
       "  </thead>\n",
       "  <tbody>\n",
       "    <tr>\n",
       "      <th>0</th>\n",
       "      <td>1</td>\n",
       "      <td>Wii Sports</td>\n",
       "      <td>Wii</td>\n",
       "      <td>2006</td>\n",
       "      <td>Sports</td>\n",
       "      <td>Nintendo</td>\n",
       "      <td>41.49</td>\n",
       "      <td>29.02</td>\n",
       "      <td>3.77</td>\n",
       "      <td>8.46</td>\n",
       "      <td>82.74</td>\n",
       "      <td>82.74</td>\n",
       "      <td>9</td>\n",
       "    </tr>\n",
       "    <tr>\n",
       "      <th>1</th>\n",
       "      <td>2</td>\n",
       "      <td>Super Mario Bros.</td>\n",
       "      <td>NES</td>\n",
       "      <td>1985</td>\n",
       "      <td>Platform</td>\n",
       "      <td>Nintendo</td>\n",
       "      <td>29.08</td>\n",
       "      <td>3.58</td>\n",
       "      <td>6.81</td>\n",
       "      <td>0.77</td>\n",
       "      <td>40.24</td>\n",
       "      <td>40.24</td>\n",
       "      <td>11</td>\n",
       "    </tr>\n",
       "    <tr>\n",
       "      <th>2</th>\n",
       "      <td>3</td>\n",
       "      <td>Mario Kart Wii</td>\n",
       "      <td>Wii</td>\n",
       "      <td>2008</td>\n",
       "      <td>Racing</td>\n",
       "      <td>Nintendo</td>\n",
       "      <td>15.85</td>\n",
       "      <td>12.88</td>\n",
       "      <td>3.79</td>\n",
       "      <td>3.31</td>\n",
       "      <td>35.82</td>\n",
       "      <td>35.83</td>\n",
       "      <td>9</td>\n",
       "    </tr>\n",
       "    <tr>\n",
       "      <th>3</th>\n",
       "      <td>4</td>\n",
       "      <td>Wii Sports Resort</td>\n",
       "      <td>Wii</td>\n",
       "      <td>2009</td>\n",
       "      <td>Sports</td>\n",
       "      <td>Nintendo</td>\n",
       "      <td>15.75</td>\n",
       "      <td>11.01</td>\n",
       "      <td>3.28</td>\n",
       "      <td>2.96</td>\n",
       "      <td>33.00</td>\n",
       "      <td>33.00</td>\n",
       "      <td>9</td>\n",
       "    </tr>\n",
       "    <tr>\n",
       "      <th>4</th>\n",
       "      <td>5</td>\n",
       "      <td>Pokemon Red/Pokemon Blue</td>\n",
       "      <td>GB</td>\n",
       "      <td>1996</td>\n",
       "      <td>Role-Playing</td>\n",
       "      <td>Nintendo</td>\n",
       "      <td>11.27</td>\n",
       "      <td>8.89</td>\n",
       "      <td>10.22</td>\n",
       "      <td>1.00</td>\n",
       "      <td>31.37</td>\n",
       "      <td>31.38</td>\n",
       "      <td>13</td>\n",
       "    </tr>\n",
       "  </tbody>\n",
       "</table>\n",
       "</div>"
      ],
      "text/plain": [
       "   rank                      name platform  year         genre publisher  \\\n",
       "0     1                Wii Sports      Wii  2006        Sports  Nintendo   \n",
       "1     2         Super Mario Bros.      NES  1985      Platform  Nintendo   \n",
       "2     3            Mario Kart Wii      Wii  2008        Racing  Nintendo   \n",
       "3     4         Wii Sports Resort      Wii  2009        Sports  Nintendo   \n",
       "4     5  Pokemon Red/Pokemon Blue       GB  1996  Role-Playing  Nintendo   \n",
       "\n",
       "   na_sales  eu_sales  jp_sales  other_sales  global_sales  total_sales  \\\n",
       "0     41.49     29.02      3.77         8.46         82.74        82.74   \n",
       "1     29.08      3.58      6.81         0.77         40.24        40.24   \n",
       "2     15.85     12.88      3.79         3.31         35.82        35.83   \n",
       "3     15.75     11.01      3.28         2.96         33.00        33.00   \n",
       "4     11.27      8.89     10.22         1.00         31.37        31.38   \n",
       "\n",
       "   life_time  \n",
       "0          9  \n",
       "1         11  \n",
       "2          9  \n",
       "3          9  \n",
       "4         13  "
      ]
     },
     "execution_count": 26,
     "metadata": {},
     "output_type": "execute_result"
    }
   ],
   "source": [
    "list_of_platform = ['PS4', 'PC', '3DS', 'XOne']\n",
    "games_not_new = game_df_upd.query('platform not in @list_of_platform').copy()\n",
    "born_year = games_not_new.groupby('platform')['year'].agg(min)\n",
    "deadline = games_not_new.groupby('platform')['year'].agg(max)\n",
    "life_time = deadline - born_year\n",
    "life_time.to_dict()\n",
    "games_not_new['life_time'] = games_not_new['platform'].map(life_time)\n",
    "games_not_new.head()\n"
   ]
  },
  {
   "cell_type": "code",
   "execution_count": 27,
   "id": "significant-character",
   "metadata": {
    "execution": {
     "iopub.execute_input": "2021-04-28T14:30:49.754290Z",
     "iopub.status.busy": "2021-04-28T14:30:49.753613Z",
     "iopub.status.idle": "2021-04-28T14:30:49.949614Z",
     "shell.execute_reply": "2021-04-28T14:30:49.950085Z"
    },
    "id": "ieKMrOp3RILY",
    "outputId": "e22d29d3-2da9-409d-9182-ced753de483f",
    "papermill": {
     "duration": 0.278002,
     "end_time": "2021-04-28T14:30:49.950294",
     "exception": false,
     "start_time": "2021-04-28T14:30:49.672292",
     "status": "completed"
    },
    "tags": []
   },
   "outputs": [
    {
     "data": {
      "image/png": "[encoded data removed]",
      "text/plain": [
       "<Figure size 1080x360 with 1 Axes>"
      ]
     },
     "metadata": {},
     "output_type": "display_data"
    }
   ],
   "source": [
    "q75 = games_not_new['life_time'].quantile([.75])\n",
    "q25 = games_not_new['life_time'].quantile([.25])\n",
    "iqr = q75 - q25\n",
    "low_range = q25 - (1.5 * iqr)\n",
    "high_range = q75 + (1.5 * iqr)\n",
    "plt.figure(figsize=(15, 5))\n",
    "sns.boxplot(games_not_new['life_time'], color='steelblue')\n",
    "plt.xlim = (low_range, high_range)\n",
    "plt.title('The spread of the values ​​of the year of life of the gaming platform')\n",
    "plt.xlabel('')\n",
    "plt.show()\n"
   ]
  },
  {
   "cell_type": "markdown",
   "id": "technological-indonesia",
   "metadata": {
    "id": "_AdCg013RILY",
    "papermill": {
     "duration": 0.076781,
     "end_time": "2021-04-28T14:30:50.104972",
     "exception": false,
     "start_time": "2021-04-28T14:30:50.028191",
     "status": "completed"
    },
    "tags": []
   },
   "source": [
    "Eliminate outliers and look at the mean and median."
   ]
  },
  {
   "cell_type": "code",
   "execution_count": 28,
   "id": "enhanced-compression",
   "metadata": {
    "execution": {
     "iopub.execute_input": "2021-04-28T14:30:50.266944Z",
     "iopub.status.busy": "2021-04-28T14:30:50.266229Z",
     "iopub.status.idle": "2021-04-28T14:30:50.284598Z",
     "shell.execute_reply": "2021-04-28T14:30:50.283954Z"
    },
    "id": "o32pNoxuRILY",
    "outputId": "a650af6f-4825-49a2-bf20-219c713a8f91",
    "papermill": {
     "duration": 0.102788,
     "end_time": "2021-04-28T14:30:50.284738",
     "exception": false,
     "start_time": "2021-04-28T14:30:50.181950",
     "status": "completed"
    },
    "tags": []
   },
   "outputs": [
    {
     "data": {
      "text/html": [
       "<div>\n",
       "<style scoped>\n",
       "    .dataframe tbody tr th:only-of-type {\n",
       "        vertical-align: middle;\n",
       "    }\n",
       "\n",
       "    .dataframe tbody tr th {\n",
       "        vertical-align: top;\n",
       "    }\n",
       "\n",
       "    .dataframe thead th {\n",
       "        text-align: right;\n",
       "    }\n",
       "</style>\n",
       "<table border=\"1\" class=\"dataframe\">\n",
       "  <thead>\n",
       "    <tr style=\"text-align: right;\">\n",
       "      <th></th>\n",
       "      <th>life_time</th>\n",
       "    </tr>\n",
       "    <tr>\n",
       "      <th>platform</th>\n",
       "      <th></th>\n",
       "    </tr>\n",
       "  </thead>\n",
       "  <tbody>\n",
       "    <tr>\n",
       "      <th>GB</th>\n",
       "      <td>13</td>\n",
       "    </tr>\n",
       "    <tr>\n",
       "      <th>PS2</th>\n",
       "      <td>11</td>\n",
       "    </tr>\n",
       "    <tr>\n",
       "      <th>X360</th>\n",
       "      <td>11</td>\n",
       "    </tr>\n",
       "    <tr>\n",
       "      <th>NES</th>\n",
       "      <td>11</td>\n",
       "    </tr>\n",
       "    <tr>\n",
       "      <th>PSP</th>\n",
       "      <td>11</td>\n",
       "    </tr>\n",
       "    <tr>\n",
       "      <th>PS3</th>\n",
       "      <td>10</td>\n",
       "    </tr>\n",
       "    <tr>\n",
       "      <th>DC</th>\n",
       "      <td>10</td>\n",
       "    </tr>\n",
       "    <tr>\n",
       "      <th>Wii</th>\n",
       "      <td>9</td>\n",
       "    </tr>\n",
       "    <tr>\n",
       "      <th>SNES</th>\n",
       "      <td>9</td>\n",
       "    </tr>\n",
       "    <tr>\n",
       "      <th>2600</th>\n",
       "      <td>9</td>\n",
       "    </tr>\n",
       "  </tbody>\n",
       "</table>\n",
       "</div>"
      ],
      "text/plain": [
       "          life_time\n",
       "platform           \n",
       "GB               13\n",
       "PS2              11\n",
       "X360             11\n",
       "NES              11\n",
       "PSP              11\n",
       "PS3              10\n",
       "DC               10\n",
       "Wii               9\n",
       "SNES              9\n",
       "2600              9"
      ]
     },
     "execution_count": 28,
     "metadata": {},
     "output_type": "execute_result"
    }
   ],
   "source": [
    "games_pivot = games_not_new.query('5 <= life_time <=15 ').pivot_table(index='platform', \n",
    "                         values='life_time').sort_values(\n",
    "                         by='life_time', ascending=False\n",
    "                        )\n",
    "games_pivot.head(10)"
   ]
  },
  {
   "cell_type": "code",
   "execution_count": 29,
   "id": "social-float",
   "metadata": {
    "execution": {
     "iopub.execute_input": "2021-04-28T14:30:50.443474Z",
     "iopub.status.busy": "2021-04-28T14:30:50.442725Z",
     "iopub.status.idle": "2021-04-28T14:30:50.448277Z",
     "shell.execute_reply": "2021-04-28T14:30:50.447708Z"
    },
    "id": "qxYd7Nx5RILY",
    "outputId": "a17c6419-bb70-4279-917e-ae990c4d1135",
    "papermill": {
     "duration": 0.087309,
     "end_time": "2021-04-28T14:30:50.448412",
     "exception": false,
     "start_time": "2021-04-28T14:30:50.361103",
     "status": "completed"
    },
    "tags": []
   },
   "outputs": [
    {
     "name": "stdout",
     "output_type": "stream",
     "text": [
      "Median life of time:  9.0 years\n",
      "Mean life of time: 8.9 years\n"
     ]
    }
   ],
   "source": [
    "print('Median life of time: ', games_pivot['life_time'].median(), 'years')\n",
    "print('Mean life of time: {:.1f}'.format(games_pivot['life_time'].mean()), 'years')\n"
   ]
  },
  {
   "cell_type": "markdown",
   "id": "acoustic-westminster",
   "metadata": {
    "id": "FZhIAlwURILY",
    "papermill": {
     "duration": 0.075965,
     "end_time": "2021-04-28T14:30:50.600829",
     "exception": false,
     "start_time": "2021-04-28T14:30:50.524864",
     "status": "completed"
    },
    "tags": []
   },
   "source": [
    "Long-lived platforms include DS, Xbox360, PS2 and PS3, Wii. The lifespan of the platform is 9 years based on this estimate. At the same time, it should be understood that this does not mean a period of release of new [generations of consoles](https://ru.wikipedia.org/wiki/%D0%98%D0%B3%D1%80%D0%BE%D0%B2%D0%B0%D1%8F_%D0%BF%D1%80%D0%B8%D1%81%D1%82%D0%B0%D0%B2%D0%BA%D0%B0)- it means release time games for these platforms. On average, generations change once every 7 years.\n",
    "\n",
    "DS wins over with its mobility and possibly plays on the nostalgia of grown-up gamers. When calculating, we excluded PCs and modern consoles such as PS4, Xbox One, 3DS. The PC as a platform exists independently - the only difference is in the system requirements for games.\n",
    "\n",
    "Let's see how sales have changed in relation to the number of games released."
   ]
  },
  {
   "cell_type": "code",
   "execution_count": 30,
   "id": "restricted-coating",
   "metadata": {
    "execution": {
     "iopub.execute_input": "2021-04-28T14:30:50.783543Z",
     "iopub.status.busy": "2021-04-28T14:30:50.778178Z",
     "iopub.status.idle": "2021-04-28T14:30:51.056469Z",
     "shell.execute_reply": "2021-04-28T14:30:51.055927Z"
    },
    "id": "MiIJYDy2RILc",
    "outputId": "5a193205-2038-4946-ef98-cf917c6b689b",
    "papermill": {
     "duration": 0.379202,
     "end_time": "2021-04-28T14:30:51.056601",
     "exception": false,
     "start_time": "2021-04-28T14:30:50.677399",
     "status": "completed"
    },
    "tags": []
   },
   "outputs": [
    {
     "data": {
      "image/png": "[encoded data removed]",
      "text/plain": [
       "<Figure size 1080x360 with 1 Axes>"
      ]
     },
     "metadata": {},
     "output_type": "display_data"
    }
   ],
   "source": [
    "plt.figure(figsize=(15, 5))\n",
    "ax = plt.gca()\n",
    "games_not_new.groupby('year')['total_sales'].sum().plot(\n",
    "                                                                 legend=True, \n",
    "                                                                 title='Sales and number of releases by year'\n",
    "                                                                 )\n",
    "games_not_new.groupby('year')['name'].count().plot(legend=True, grid=True)\n",
    "\n",
    "plt.ylabel('Number of games released / Sales, mln $')\n",
    "ax.vlines(x=2012, linestyle='--', color='black', ymin=0, ymax=1600)\n",
    "plt.xticks(rotation=42)\n",
    "plt.xlabel('')\n",
    "plt.show()"
   ]
  },
  {
   "cell_type": "markdown",
   "id": "vietnamese-logic",
   "metadata": {
    "id": "7z8hFHzbRILc",
    "papermill": {
     "duration": 0.092288,
     "end_time": "2021-04-28T14:30:51.227326",
     "exception": false,
     "start_time": "2021-04-28T14:30:51.135038",
     "status": "completed"
    },
    "tags": []
   },
   "source": [
    "#### Conclusion\n",
    "We see that modern game production has been actively developing since 2001, and this affects the revenue. We assume that this is due to the active development of console platforms, an increase in the performance of gaming hardware, which causes an increased demand for video entertainment.\n",
    "\n",
    "Let's take the period from 2012 to 2016 - from the moment of a sharp drop in sales and the trend of a decrease in the number of games produced - in the year of the appearance of the first consoles [eighth generation](https://ru.wikipedia.org/wiki/%D0%A1%D0%BF%D0%B8%D1%81%D0%BE%D0%BA_%D0%B8%D0%B3%D1%80%D0%BE%D0%B2%D1%8B%D1%85_%D0%BA%D0%BE%D0%BD%D1%81%D0%BE%D0%BB%D0%B5%D0%B9#%D0%92%D0%BE%D1%81%D1%8C%D0%BC%D0%BE%D0%B5_%D0%BF%D0%BE%D0%BA%D0%BE%D0%BB%D0%B5%D0%BD%D0%B8%D0%B5_(%D1%81_2012))\n",
    "\n"
   ]
  },
  {
   "cell_type": "markdown",
   "id": "inside-headset",
   "metadata": {
    "id": "yxKjbaBPRILc",
    "papermill": {
     "duration": 0.07828,
     "end_time": "2021-04-28T14:30:51.396953",
     "exception": false,
     "start_time": "2021-04-28T14:30:51.318673",
     "status": "completed"
    },
    "tags": []
   },
   "source": [
    "### Analysis of the number and sales of released games for 2012-2016 (2017 - 2020 have many NaNs...not interesting for us)"
   ]
  },
  {
   "cell_type": "code",
   "execution_count": 31,
   "id": "awful-maine",
   "metadata": {
    "execution": {
     "iopub.execute_input": "2021-04-28T14:30:51.563481Z",
     "iopub.status.busy": "2021-04-28T14:30:51.562386Z",
     "iopub.status.idle": "2021-04-28T14:30:51.582527Z",
     "shell.execute_reply": "2021-04-28T14:30:51.583004Z"
    },
    "id": "MhqNX6P0RILc",
    "outputId": "eb8ef7dc-0c27-4424-fbbc-857a69b79307",
    "papermill": {
     "duration": 0.107912,
     "end_time": "2021-04-28T14:30:51.583184",
     "exception": false,
     "start_time": "2021-04-28T14:30:51.475272",
     "status": "completed"
    },
    "tags": []
   },
   "outputs": [
    {
     "data": {
      "text/html": [
       "<div>\n",
       "<style scoped>\n",
       "    .dataframe tbody tr th:only-of-type {\n",
       "        vertical-align: middle;\n",
       "    }\n",
       "\n",
       "    .dataframe tbody tr th {\n",
       "        vertical-align: top;\n",
       "    }\n",
       "\n",
       "    .dataframe thead th {\n",
       "        text-align: right;\n",
       "    }\n",
       "</style>\n",
       "<table border=\"1\" class=\"dataframe\">\n",
       "  <thead>\n",
       "    <tr style=\"text-align: right;\">\n",
       "      <th></th>\n",
       "      <th>rank</th>\n",
       "      <th>name</th>\n",
       "      <th>platform</th>\n",
       "      <th>year</th>\n",
       "      <th>genre</th>\n",
       "      <th>publisher</th>\n",
       "      <th>na_sales</th>\n",
       "      <th>eu_sales</th>\n",
       "      <th>jp_sales</th>\n",
       "      <th>other_sales</th>\n",
       "      <th>global_sales</th>\n",
       "      <th>total_sales</th>\n",
       "    </tr>\n",
       "  </thead>\n",
       "  <tbody>\n",
       "    <tr>\n",
       "      <th>0</th>\n",
       "      <td>17</td>\n",
       "      <td>Grand Theft Auto V</td>\n",
       "      <td>PS3</td>\n",
       "      <td>2013</td>\n",
       "      <td>Action</td>\n",
       "      <td>Take-Two Interactive</td>\n",
       "      <td>7.01</td>\n",
       "      <td>9.27</td>\n",
       "      <td>0.97</td>\n",
       "      <td>4.14</td>\n",
       "      <td>21.40</td>\n",
       "      <td>21.39</td>\n",
       "    </tr>\n",
       "    <tr>\n",
       "      <th>1</th>\n",
       "      <td>24</td>\n",
       "      <td>Grand Theft Auto V</td>\n",
       "      <td>X360</td>\n",
       "      <td>2013</td>\n",
       "      <td>Action</td>\n",
       "      <td>Take-Two Interactive</td>\n",
       "      <td>9.63</td>\n",
       "      <td>5.31</td>\n",
       "      <td>0.06</td>\n",
       "      <td>1.38</td>\n",
       "      <td>16.38</td>\n",
       "      <td>16.38</td>\n",
       "    </tr>\n",
       "    <tr>\n",
       "      <th>2</th>\n",
       "      <td>33</td>\n",
       "      <td>Pokemon X/Pokemon Y</td>\n",
       "      <td>3DS</td>\n",
       "      <td>2013</td>\n",
       "      <td>Role-Playing</td>\n",
       "      <td>Nintendo</td>\n",
       "      <td>5.17</td>\n",
       "      <td>4.05</td>\n",
       "      <td>4.34</td>\n",
       "      <td>0.79</td>\n",
       "      <td>14.35</td>\n",
       "      <td>14.35</td>\n",
       "    </tr>\n",
       "    <tr>\n",
       "      <th>3</th>\n",
       "      <td>34</td>\n",
       "      <td>Call of Duty: Black Ops 3</td>\n",
       "      <td>PS4</td>\n",
       "      <td>2015</td>\n",
       "      <td>Shooter</td>\n",
       "      <td>Activision</td>\n",
       "      <td>5.77</td>\n",
       "      <td>5.81</td>\n",
       "      <td>0.35</td>\n",
       "      <td>2.31</td>\n",
       "      <td>14.24</td>\n",
       "      <td>14.24</td>\n",
       "    </tr>\n",
       "    <tr>\n",
       "      <th>4</th>\n",
       "      <td>35</td>\n",
       "      <td>Call of Duty: Black Ops II</td>\n",
       "      <td>PS3</td>\n",
       "      <td>2012</td>\n",
       "      <td>Shooter</td>\n",
       "      <td>Activision</td>\n",
       "      <td>4.99</td>\n",
       "      <td>5.88</td>\n",
       "      <td>0.65</td>\n",
       "      <td>2.52</td>\n",
       "      <td>14.03</td>\n",
       "      <td>14.04</td>\n",
       "    </tr>\n",
       "  </tbody>\n",
       "</table>\n",
       "</div>"
      ],
      "text/plain": [
       "   rank                        name platform  year         genre  \\\n",
       "0    17          Grand Theft Auto V      PS3  2013        Action   \n",
       "1    24          Grand Theft Auto V     X360  2013        Action   \n",
       "2    33         Pokemon X/Pokemon Y      3DS  2013  Role-Playing   \n",
       "3    34   Call of Duty: Black Ops 3      PS4  2015       Shooter   \n",
       "4    35  Call of Duty: Black Ops II      PS3  2012       Shooter   \n",
       "\n",
       "              publisher  na_sales  eu_sales  jp_sales  other_sales  \\\n",
       "0  Take-Two Interactive      7.01      9.27      0.97         4.14   \n",
       "1  Take-Two Interactive      9.63      5.31      0.06         1.38   \n",
       "2              Nintendo      5.17      4.05      4.34         0.79   \n",
       "3            Activision      5.77      5.81      0.35         2.31   \n",
       "4            Activision      4.99      5.88      0.65         2.52   \n",
       "\n",
       "   global_sales  total_sales  \n",
       "0         21.40        21.39  \n",
       "1         16.38        16.38  \n",
       "2         14.35        14.35  \n",
       "3         14.24        14.24  \n",
       "4         14.03        14.04  "
      ]
     },
     "execution_count": 31,
     "metadata": {},
     "output_type": "execute_result"
    }
   ],
   "source": [
    "games_12_16 = game_df_upd.query('2012 <=year <=2016').reset_index(drop=True)\n",
    "games_12_16.head()"
   ]
  },
  {
   "cell_type": "code",
   "execution_count": 32,
   "id": "patient-aside",
   "metadata": {
    "execution": {
     "iopub.execute_input": "2021-04-28T14:30:51.744220Z",
     "iopub.status.busy": "2021-04-28T14:30:51.743553Z",
     "iopub.status.idle": "2021-04-28T14:30:51.758341Z",
     "shell.execute_reply": "2021-04-28T14:30:51.758833Z"
    },
    "id": "_57pd8iRRILd",
    "outputId": "0def90ae-b2c3-46f0-d8e2-6109b3c01f2f",
    "papermill": {
     "duration": 0.096841,
     "end_time": "2021-04-28T14:30:51.759023",
     "exception": false,
     "start_time": "2021-04-28T14:30:51.662182",
     "status": "completed"
    },
    "tags": []
   },
   "outputs": [
    {
     "name": "stdout",
     "output_type": "stream",
     "text": [
      "<class 'pandas.core.frame.DataFrame'>\n",
      "RangeIndex: 2743 entries, 0 to 2742\n",
      "Data columns (total 12 columns):\n",
      " #   Column        Non-Null Count  Dtype  \n",
      "---  ------        --------------  -----  \n",
      " 0   rank          2743 non-null   int64  \n",
      " 1   name          2743 non-null   object \n",
      " 2   platform      2743 non-null   object \n",
      " 3   year          2743 non-null   int64  \n",
      " 4   genre         2743 non-null   object \n",
      " 5   publisher     2743 non-null   object \n",
      " 6   na_sales      2743 non-null   float64\n",
      " 7   eu_sales      2743 non-null   float64\n",
      " 8   jp_sales      2743 non-null   float64\n",
      " 9   other_sales   2743 non-null   float64\n",
      " 10  global_sales  2743 non-null   float64\n",
      " 11  total_sales   2743 non-null   float64\n",
      "dtypes: float64(6), int64(2), object(4)\n",
      "memory usage: 257.3+ KB\n"
     ]
    }
   ],
   "source": [
    "games_12_16.info()"
   ]
  },
  {
   "cell_type": "code",
   "execution_count": 33,
   "id": "convinced-vancouver",
   "metadata": {
    "execution": {
     "iopub.execute_input": "2021-04-28T14:30:51.922304Z",
     "iopub.status.busy": "2021-04-28T14:30:51.921686Z",
     "iopub.status.idle": "2021-04-28T14:30:51.975305Z",
     "shell.execute_reply": "2021-04-28T14:30:51.975829Z"
    },
    "id": "usDPgHdqRILd",
    "outputId": "e7cf99dd-e071-467e-8207-3890c18f1c2c",
    "papermill": {
     "duration": 0.136076,
     "end_time": "2021-04-28T14:30:51.976009",
     "exception": false,
     "start_time": "2021-04-28T14:30:51.839933",
     "status": "completed"
    },
    "tags": []
   },
   "outputs": [
    {
     "data": {
      "text/html": [
       "<div>\n",
       "<style scoped>\n",
       "    .dataframe tbody tr th:only-of-type {\n",
       "        vertical-align: middle;\n",
       "    }\n",
       "\n",
       "    .dataframe tbody tr th {\n",
       "        vertical-align: top;\n",
       "    }\n",
       "\n",
       "    .dataframe thead th {\n",
       "        text-align: right;\n",
       "    }\n",
       "</style>\n",
       "<table border=\"1\" class=\"dataframe\">\n",
       "  <thead>\n",
       "    <tr style=\"text-align: right;\">\n",
       "      <th>year</th>\n",
       "      <th>2012</th>\n",
       "      <th>2013</th>\n",
       "      <th>2014</th>\n",
       "      <th>2015</th>\n",
       "      <th>2016</th>\n",
       "      <th>total</th>\n",
       "    </tr>\n",
       "    <tr>\n",
       "      <th>platform</th>\n",
       "      <th></th>\n",
       "      <th></th>\n",
       "      <th></th>\n",
       "      <th></th>\n",
       "      <th></th>\n",
       "      <th></th>\n",
       "    </tr>\n",
       "  </thead>\n",
       "  <tbody>\n",
       "    <tr>\n",
       "      <th>total</th>\n",
       "      <td>657</td>\n",
       "      <td>546</td>\n",
       "      <td>582</td>\n",
       "      <td>614</td>\n",
       "      <td>344</td>\n",
       "      <td>2743</td>\n",
       "    </tr>\n",
       "    <tr>\n",
       "      <th>PS3</th>\n",
       "      <td>148</td>\n",
       "      <td>127</td>\n",
       "      <td>108</td>\n",
       "      <td>74</td>\n",
       "      <td>32</td>\n",
       "      <td>489</td>\n",
       "    </tr>\n",
       "    <tr>\n",
       "      <th>PSV</th>\n",
       "      <td>54</td>\n",
       "      <td>63</td>\n",
       "      <td>102</td>\n",
       "      <td>113</td>\n",
       "      <td>60</td>\n",
       "      <td>392</td>\n",
       "    </tr>\n",
       "    <tr>\n",
       "      <th>3DS</th>\n",
       "      <td>93</td>\n",
       "      <td>91</td>\n",
       "      <td>79</td>\n",
       "      <td>86</td>\n",
       "      <td>35</td>\n",
       "      <td>384</td>\n",
       "    </tr>\n",
       "    <tr>\n",
       "      <th>PS4</th>\n",
       "      <td>0</td>\n",
       "      <td>16</td>\n",
       "      <td>75</td>\n",
       "      <td>137</td>\n",
       "      <td>107</td>\n",
       "      <td>335</td>\n",
       "    </tr>\n",
       "    <tr>\n",
       "      <th>X360</th>\n",
       "      <td>106</td>\n",
       "      <td>75</td>\n",
       "      <td>65</td>\n",
       "      <td>40</td>\n",
       "      <td>8</td>\n",
       "      <td>294</td>\n",
       "    </tr>\n",
       "    <tr>\n",
       "      <th>PC</th>\n",
       "      <td>61</td>\n",
       "      <td>38</td>\n",
       "      <td>44</td>\n",
       "      <td>50</td>\n",
       "      <td>38</td>\n",
       "      <td>231</td>\n",
       "    </tr>\n",
       "    <tr>\n",
       "      <th>XOne</th>\n",
       "      <td>0</td>\n",
       "      <td>19</td>\n",
       "      <td>61</td>\n",
       "      <td>79</td>\n",
       "      <td>54</td>\n",
       "      <td>213</td>\n",
       "    </tr>\n",
       "    <tr>\n",
       "      <th>PSP</th>\n",
       "      <td>106</td>\n",
       "      <td>54</td>\n",
       "      <td>10</td>\n",
       "      <td>3</td>\n",
       "      <td>0</td>\n",
       "      <td>173</td>\n",
       "    </tr>\n",
       "    <tr>\n",
       "      <th>WiiU</th>\n",
       "      <td>32</td>\n",
       "      <td>42</td>\n",
       "      <td>31</td>\n",
       "      <td>28</td>\n",
       "      <td>10</td>\n",
       "      <td>143</td>\n",
       "    </tr>\n",
       "    <tr>\n",
       "      <th>Wii</th>\n",
       "      <td>32</td>\n",
       "      <td>12</td>\n",
       "      <td>6</td>\n",
       "      <td>4</td>\n",
       "      <td>0</td>\n",
       "      <td>54</td>\n",
       "    </tr>\n",
       "    <tr>\n",
       "      <th>DS</th>\n",
       "      <td>25</td>\n",
       "      <td>9</td>\n",
       "      <td>1</td>\n",
       "      <td>0</td>\n",
       "      <td>0</td>\n",
       "      <td>35</td>\n",
       "    </tr>\n",
       "  </tbody>\n",
       "</table>\n",
       "</div>"
      ],
      "text/plain": [
       "year      2012  2013  2014  2015  2016  total\n",
       "platform                                     \n",
       "total      657   546   582   614   344   2743\n",
       "PS3        148   127   108    74    32    489\n",
       "PSV         54    63   102   113    60    392\n",
       "3DS         93    91    79    86    35    384\n",
       "PS4          0    16    75   137   107    335\n",
       "X360       106    75    65    40     8    294\n",
       "PC          61    38    44    50    38    231\n",
       "XOne         0    19    61    79    54    213\n",
       "PSP        106    54    10     3     0    173\n",
       "WiiU        32    42    31    28    10    143\n",
       "Wii         32    12     6     4     0     54\n",
       "DS          25     9     1     0     0     35"
      ]
     },
     "execution_count": 33,
     "metadata": {},
     "output_type": "execute_result"
    }
   ],
   "source": [
    "pd.crosstab(games_12_16['platform'], \n",
    "            games_12_16['year'],\n",
    "            margins=True, margins_name=\"total\"\n",
    "           ).sort_values(by='total', ascending=False)"
   ]
  },
  {
   "cell_type": "markdown",
   "id": "ruled-rates",
   "metadata": {
    "id": "dasBdmJ5RILd",
    "papermill": {
     "duration": 0.079731,
     "end_time": "2021-04-28T14:30:52.135463",
     "exception": false,
     "start_time": "2021-04-28T14:30:52.055732",
     "status": "completed"
    },
    "tags": []
   },
   "source": [
    "We see a decrease in the number of games created on the old generation consoles and an increase in production for new consoles: PS4, XOne, WiiU.\n",
    "\n",
    "Among the portable consoles, the 3DS can be distinguished.\n",
    "PS vita (PSV), PSP - we are seeing a decline"
   ]
  },
  {
   "cell_type": "code",
   "execution_count": 34,
   "id": "sound-utilization",
   "metadata": {
    "execution": {
     "iopub.execute_input": "2021-04-28T14:30:52.300483Z",
     "iopub.status.busy": "2021-04-28T14:30:52.299885Z",
     "iopub.status.idle": "2021-04-28T14:30:52.308808Z",
     "shell.execute_reply": "2021-04-28T14:30:52.308223Z"
    },
    "id": "kSqnMiXFRILd",
    "papermill": {
     "duration": 0.092575,
     "end_time": "2021-04-28T14:30:52.308949",
     "exception": false,
     "start_time": "2021-04-28T14:30:52.216374",
     "status": "completed"
    },
    "tags": []
   },
   "outputs": [],
   "source": [
    "lead_platforms = ['PS4', 'PC', 'XOne', '3DS']\n",
    "lead_games = games_12_16.query('platform in @lead_platforms')"
   ]
  },
  {
   "cell_type": "code",
   "execution_count": 35,
   "id": "unnecessary-soldier",
   "metadata": {
    "execution": {
     "iopub.execute_input": "2021-04-28T14:30:52.476830Z",
     "iopub.status.busy": "2021-04-28T14:30:52.476153Z",
     "iopub.status.idle": "2021-04-28T14:30:53.349927Z",
     "shell.execute_reply": "2021-04-28T14:30:53.350503Z"
    },
    "id": "YVf7qXUDRILd",
    "outputId": "52c27358-da6f-4417-d9f9-3190573363b3",
    "papermill": {
     "duration": 0.961619,
     "end_time": "2021-04-28T14:30:53.350671",
     "exception": false,
     "start_time": "2021-04-28T14:30:52.389052",
     "status": "completed"
    },
    "tags": []
   },
   "outputs": [
    {
     "data": {
      "image/png": "[encoded data removed]",
      "text/plain": [
       "<Figure size 1080x360 with 1 Axes>"
      ]
     },
     "metadata": {},
     "output_type": "display_data"
    }
   ],
   "source": [
    "plt.figure(figsize=(15, 5))\n",
    "sns.barplot(y='total_sales', \n",
    "            x='year', \n",
    "            hue='platform', \n",
    "            data = lead_games,\n",
    "            hue_order = lead_platforms\n",
    "           )\n",
    "\n",
    "plt.title('Sales of games of potentially profitable platforms, mln $ ')\n",
    "plt.xticks(rotation=42)\n",
    "plt.xlabel('')\n",
    "plt.ylabel('')\n",
    "plt.show()"
   ]
  },
  {
   "cell_type": "code",
   "execution_count": 36,
   "id": "missing-landscape",
   "metadata": {
    "execution": {
     "iopub.execute_input": "2021-04-28T14:30:53.515901Z",
     "iopub.status.busy": "2021-04-28T14:30:53.515286Z",
     "iopub.status.idle": "2021-04-28T14:30:53.788063Z",
     "shell.execute_reply": "2021-04-28T14:30:53.788557Z"
    },
    "id": "WovEf9XTRILe",
    "outputId": "2c308542-66ac-4e4e-e05d-9cb806c590e1",
    "papermill": {
     "duration": 0.357134,
     "end_time": "2021-04-28T14:30:53.788735",
     "exception": false,
     "start_time": "2021-04-28T14:30:53.431601",
     "status": "completed"
    },
    "tags": []
   },
   "outputs": [
    {
     "data": {
      "image/png": "[encoded data removed]",
      "text/plain": [
       "<Figure size 1080x720 with 1 Axes>"
      ]
     },
     "metadata": {},
     "output_type": "display_data"
    }
   ],
   "source": [
    "plt.figure(figsize=(15,10))\n",
    "\n",
    "sns.boxplot(y='platform', x='total_sales',\n",
    "            data = lead_games.query('total_sales < 4')\n",
    "            ,order=lead_platforms, orient='h', \n",
    "           )\n",
    "plt.title('Spread of global sales of potentially profitable platforms, mln $ ')\n",
    "plt.xlabel('')\n",
    "plt.ylabel('')\n",
    "plt.show()"
   ]
  },
  {
   "cell_type": "markdown",
   "id": "tender-yellow",
   "metadata": {
    "id": "K3Y3iEsYRILe",
    "papermill": {
     "duration": 0.084239,
     "end_time": "2021-04-28T14:30:53.956721",
     "exception": false,
     "start_time": "2021-04-28T14:30:53.872482",
     "status": "completed"
    },
    "tags": []
   },
   "source": [
    "#### Colnclusion\n",
    "\n",
    "Promising platforms are PS4, XOne, 3DS and PC. Despite the fact that we see a general decline - the leaders and the distribution of profits do not change. The PS4 and XOne are developing in about the same way, with the PS4 selling slightly better due to the availability of exclusive games, while Miscrosoft's policy is to play on the PC as well. The 3DS platform is also selling well, the PC is inferior to the console versions, which is associated with the need to update the *hardware* of the computer, which is much more expensive than buying a console\n",
    "\n",
    "To eliminate outliers, when selecting values ​​for each platform, we will limit the total sales"
   ]
  },
  {
   "cell_type": "markdown",
   "id": "metropolitan-roulette",
   "metadata": {
    "id": "rjXp2eEERILi",
    "papermill": {
     "duration": 0.082368,
     "end_time": "2021-04-28T14:30:54.122013",
     "exception": false,
     "start_time": "2021-04-28T14:30:54.039645",
     "status": "completed"
    },
    "tags": []
   },
   "source": [
    "### Analysis of games by genre"
   ]
  },
  {
   "cell_type": "code",
   "execution_count": 37,
   "id": "answering-policy",
   "metadata": {
    "execution": {
     "iopub.execute_input": "2021-04-28T14:30:54.291566Z",
     "iopub.status.busy": "2021-04-28T14:30:54.290830Z",
     "iopub.status.idle": "2021-04-28T14:30:54.317893Z",
     "shell.execute_reply": "2021-04-28T14:30:54.317289Z"
    },
    "id": "iHYbtXbszwgF",
    "outputId": "f9befc2a-565e-4867-e162-2dea69e3ee5a",
    "papermill": {
     "duration": 0.112239,
     "end_time": "2021-04-28T14:30:54.318047",
     "exception": false,
     "start_time": "2021-04-28T14:30:54.205808",
     "status": "completed"
    },
    "tags": []
   },
   "outputs": [
    {
     "data": {
      "text/html": [
       "<div>\n",
       "<style scoped>\n",
       "    .dataframe tbody tr th:only-of-type {\n",
       "        vertical-align: middle;\n",
       "    }\n",
       "\n",
       "    .dataframe tbody tr th {\n",
       "        vertical-align: top;\n",
       "    }\n",
       "\n",
       "    .dataframe thead th {\n",
       "        text-align: right;\n",
       "    }\n",
       "</style>\n",
       "<table border=\"1\" class=\"dataframe\">\n",
       "  <thead>\n",
       "    <tr style=\"text-align: right;\">\n",
       "      <th></th>\n",
       "      <th>rank</th>\n",
       "      <th>name</th>\n",
       "      <th>platform</th>\n",
       "      <th>year</th>\n",
       "      <th>genre</th>\n",
       "      <th>publisher</th>\n",
       "      <th>na_sales</th>\n",
       "      <th>eu_sales</th>\n",
       "      <th>jp_sales</th>\n",
       "      <th>other_sales</th>\n",
       "      <th>global_sales</th>\n",
       "      <th>total_sales</th>\n",
       "    </tr>\n",
       "  </thead>\n",
       "  <tbody>\n",
       "    <tr>\n",
       "      <th>0</th>\n",
       "      <td>17</td>\n",
       "      <td>Grand Theft Auto V</td>\n",
       "      <td>PS3</td>\n",
       "      <td>2013</td>\n",
       "      <td>Action</td>\n",
       "      <td>Take-Two Interactive</td>\n",
       "      <td>7.01</td>\n",
       "      <td>9.27</td>\n",
       "      <td>0.97</td>\n",
       "      <td>4.14</td>\n",
       "      <td>21.40</td>\n",
       "      <td>21.39</td>\n",
       "    </tr>\n",
       "    <tr>\n",
       "      <th>1</th>\n",
       "      <td>24</td>\n",
       "      <td>Grand Theft Auto V</td>\n",
       "      <td>X360</td>\n",
       "      <td>2013</td>\n",
       "      <td>Action</td>\n",
       "      <td>Take-Two Interactive</td>\n",
       "      <td>9.63</td>\n",
       "      <td>5.31</td>\n",
       "      <td>0.06</td>\n",
       "      <td>1.38</td>\n",
       "      <td>16.38</td>\n",
       "      <td>16.38</td>\n",
       "    </tr>\n",
       "    <tr>\n",
       "      <th>2</th>\n",
       "      <td>33</td>\n",
       "      <td>Pokemon X/Pokemon Y</td>\n",
       "      <td>3DS</td>\n",
       "      <td>2013</td>\n",
       "      <td>Role-Playing</td>\n",
       "      <td>Nintendo</td>\n",
       "      <td>5.17</td>\n",
       "      <td>4.05</td>\n",
       "      <td>4.34</td>\n",
       "      <td>0.79</td>\n",
       "      <td>14.35</td>\n",
       "      <td>14.35</td>\n",
       "    </tr>\n",
       "    <tr>\n",
       "      <th>3</th>\n",
       "      <td>34</td>\n",
       "      <td>Call of Duty: Black Ops 3</td>\n",
       "      <td>PS4</td>\n",
       "      <td>2015</td>\n",
       "      <td>Shooter</td>\n",
       "      <td>Activision</td>\n",
       "      <td>5.77</td>\n",
       "      <td>5.81</td>\n",
       "      <td>0.35</td>\n",
       "      <td>2.31</td>\n",
       "      <td>14.24</td>\n",
       "      <td>14.24</td>\n",
       "    </tr>\n",
       "    <tr>\n",
       "      <th>4</th>\n",
       "      <td>35</td>\n",
       "      <td>Call of Duty: Black Ops II</td>\n",
       "      <td>PS3</td>\n",
       "      <td>2012</td>\n",
       "      <td>Shooter</td>\n",
       "      <td>Activision</td>\n",
       "      <td>4.99</td>\n",
       "      <td>5.88</td>\n",
       "      <td>0.65</td>\n",
       "      <td>2.52</td>\n",
       "      <td>14.03</td>\n",
       "      <td>14.04</td>\n",
       "    </tr>\n",
       "    <tr>\n",
       "      <th>...</th>\n",
       "      <td>...</td>\n",
       "      <td>...</td>\n",
       "      <td>...</td>\n",
       "      <td>...</td>\n",
       "      <td>...</td>\n",
       "      <td>...</td>\n",
       "      <td>...</td>\n",
       "      <td>...</td>\n",
       "      <td>...</td>\n",
       "      <td>...</td>\n",
       "      <td>...</td>\n",
       "      <td>...</td>\n",
       "    </tr>\n",
       "    <tr>\n",
       "      <th>2738</th>\n",
       "      <td>16572</td>\n",
       "      <td>Resident Evil 4 HD</td>\n",
       "      <td>XOne</td>\n",
       "      <td>2016</td>\n",
       "      <td>Shooter</td>\n",
       "      <td>Capcom</td>\n",
       "      <td>0.01</td>\n",
       "      <td>0.00</td>\n",
       "      <td>0.00</td>\n",
       "      <td>0.00</td>\n",
       "      <td>0.01</td>\n",
       "      <td>0.01</td>\n",
       "    </tr>\n",
       "    <tr>\n",
       "      <th>2739</th>\n",
       "      <td>16573</td>\n",
       "      <td>Farming 2017 - The Simulation</td>\n",
       "      <td>PS4</td>\n",
       "      <td>2016</td>\n",
       "      <td>Simulation</td>\n",
       "      <td>UIG Entertainment</td>\n",
       "      <td>0.00</td>\n",
       "      <td>0.01</td>\n",
       "      <td>0.00</td>\n",
       "      <td>0.00</td>\n",
       "      <td>0.01</td>\n",
       "      <td>0.01</td>\n",
       "    </tr>\n",
       "    <tr>\n",
       "      <th>2740</th>\n",
       "      <td>16574</td>\n",
       "      <td>Grisaia no Kajitsu: La Fruit de la Grisaia</td>\n",
       "      <td>PSP</td>\n",
       "      <td>2013</td>\n",
       "      <td>Adventure</td>\n",
       "      <td>Prototype</td>\n",
       "      <td>0.00</td>\n",
       "      <td>0.00</td>\n",
       "      <td>0.01</td>\n",
       "      <td>0.00</td>\n",
       "      <td>0.01</td>\n",
       "      <td>0.01</td>\n",
       "    </tr>\n",
       "    <tr>\n",
       "      <th>2741</th>\n",
       "      <td>16579</td>\n",
       "      <td>Rugby Challenge 3</td>\n",
       "      <td>XOne</td>\n",
       "      <td>2016</td>\n",
       "      <td>Sports</td>\n",
       "      <td>Alternative Software</td>\n",
       "      <td>0.00</td>\n",
       "      <td>0.01</td>\n",
       "      <td>0.00</td>\n",
       "      <td>0.00</td>\n",
       "      <td>0.01</td>\n",
       "      <td>0.01</td>\n",
       "    </tr>\n",
       "    <tr>\n",
       "      <th>2742</th>\n",
       "      <td>16592</td>\n",
       "      <td>Chou Ezaru wa Akai Hana: Koi wa Tsuki ni Shiru...</td>\n",
       "      <td>PSV</td>\n",
       "      <td>2016</td>\n",
       "      <td>Action</td>\n",
       "      <td>dramatic create</td>\n",
       "      <td>0.00</td>\n",
       "      <td>0.00</td>\n",
       "      <td>0.01</td>\n",
       "      <td>0.00</td>\n",
       "      <td>0.01</td>\n",
       "      <td>0.01</td>\n",
       "    </tr>\n",
       "  </tbody>\n",
       "</table>\n",
       "<p>2743 rows × 12 columns</p>\n",
       "</div>"
      ],
      "text/plain": [
       "       rank                                               name platform  year  \\\n",
       "0        17                                 Grand Theft Auto V      PS3  2013   \n",
       "1        24                                 Grand Theft Auto V     X360  2013   \n",
       "2        33                                Pokemon X/Pokemon Y      3DS  2013   \n",
       "3        34                          Call of Duty: Black Ops 3      PS4  2015   \n",
       "4        35                         Call of Duty: Black Ops II      PS3  2012   \n",
       "...     ...                                                ...      ...   ...   \n",
       "2738  16572                                 Resident Evil 4 HD     XOne  2016   \n",
       "2739  16573                      Farming 2017 - The Simulation      PS4  2016   \n",
       "2740  16574         Grisaia no Kajitsu: La Fruit de la Grisaia      PSP  2013   \n",
       "2741  16579                                  Rugby Challenge 3     XOne  2016   \n",
       "2742  16592  Chou Ezaru wa Akai Hana: Koi wa Tsuki ni Shiru...      PSV  2016   \n",
       "\n",
       "             genre             publisher  na_sales  eu_sales  jp_sales  \\\n",
       "0           Action  Take-Two Interactive      7.01      9.27      0.97   \n",
       "1           Action  Take-Two Interactive      9.63      5.31      0.06   \n",
       "2     Role-Playing              Nintendo      5.17      4.05      4.34   \n",
       "3          Shooter            Activision      5.77      5.81      0.35   \n",
       "4          Shooter            Activision      4.99      5.88      0.65   \n",
       "...            ...                   ...       ...       ...       ...   \n",
       "2738       Shooter                Capcom      0.01      0.00      0.00   \n",
       "2739    Simulation     UIG Entertainment      0.00      0.01      0.00   \n",
       "2740     Adventure             Prototype      0.00      0.00      0.01   \n",
       "2741        Sports  Alternative Software      0.00      0.01      0.00   \n",
       "2742        Action       dramatic create      0.00      0.00      0.01   \n",
       "\n",
       "      other_sales  global_sales  total_sales  \n",
       "0            4.14         21.40        21.39  \n",
       "1            1.38         16.38        16.38  \n",
       "2            0.79         14.35        14.35  \n",
       "3            2.31         14.24        14.24  \n",
       "4            2.52         14.03        14.04  \n",
       "...           ...           ...          ...  \n",
       "2738         0.00          0.01         0.01  \n",
       "2739         0.00          0.01         0.01  \n",
       "2740         0.00          0.01         0.01  \n",
       "2741         0.00          0.01         0.01  \n",
       "2742         0.00          0.01         0.01  \n",
       "\n",
       "[2743 rows x 12 columns]"
      ]
     },
     "execution_count": 37,
     "metadata": {},
     "output_type": "execute_result"
    }
   ],
   "source": [
    "games_12_16"
   ]
  },
  {
   "cell_type": "code",
   "execution_count": 38,
   "id": "decreased-table",
   "metadata": {
    "execution": {
     "iopub.execute_input": "2021-04-28T14:30:54.492037Z",
     "iopub.status.busy": "2021-04-28T14:30:54.491057Z",
     "iopub.status.idle": "2021-04-28T14:30:54.544033Z",
     "shell.execute_reply": "2021-04-28T14:30:54.544545Z"
    },
    "id": "CW-yhEh_RILi",
    "outputId": "da557355-8191-4f28-d6c6-28a560b501ce",
    "papermill": {
     "duration": 0.142666,
     "end_time": "2021-04-28T14:30:54.544712",
     "exception": false,
     "start_time": "2021-04-28T14:30:54.402046",
     "status": "completed"
    },
    "tags": []
   },
   "outputs": [
    {
     "data": {
      "text/html": [
       "<div>\n",
       "<style scoped>\n",
       "    .dataframe tbody tr th:only-of-type {\n",
       "        vertical-align: middle;\n",
       "    }\n",
       "\n",
       "    .dataframe tbody tr th {\n",
       "        vertical-align: top;\n",
       "    }\n",
       "\n",
       "    .dataframe thead th {\n",
       "        text-align: right;\n",
       "    }\n",
       "</style>\n",
       "<table border=\"1\" class=\"dataframe\">\n",
       "  <thead>\n",
       "    <tr style=\"text-align: right;\">\n",
       "      <th>year</th>\n",
       "      <th>2012</th>\n",
       "      <th>2013</th>\n",
       "      <th>2014</th>\n",
       "      <th>2015</th>\n",
       "      <th>2016</th>\n",
       "      <th>All</th>\n",
       "    </tr>\n",
       "    <tr>\n",
       "      <th>genre</th>\n",
       "      <th></th>\n",
       "      <th></th>\n",
       "      <th></th>\n",
       "      <th></th>\n",
       "      <th></th>\n",
       "      <th></th>\n",
       "    </tr>\n",
       "  </thead>\n",
       "  <tbody>\n",
       "    <tr>\n",
       "      <th>All</th>\n",
       "      <td>363.30</td>\n",
       "      <td>367.98</td>\n",
       "      <td>337.10</td>\n",
       "      <td>264.26</td>\n",
       "      <td>70.87</td>\n",
       "      <td>1403.51</td>\n",
       "    </tr>\n",
       "    <tr>\n",
       "      <th>Action</th>\n",
       "      <td>121.95</td>\n",
       "      <td>125.21</td>\n",
       "      <td>99.01</td>\n",
       "      <td>70.66</td>\n",
       "      <td>19.85</td>\n",
       "      <td>436.68</td>\n",
       "    </tr>\n",
       "    <tr>\n",
       "      <th>Shooter</th>\n",
       "      <td>72.84</td>\n",
       "      <td>62.73</td>\n",
       "      <td>65.99</td>\n",
       "      <td>66.12</td>\n",
       "      <td>18.17</td>\n",
       "      <td>285.85</td>\n",
       "    </tr>\n",
       "    <tr>\n",
       "      <th>Role-Playing</th>\n",
       "      <td>47.77</td>\n",
       "      <td>44.89</td>\n",
       "      <td>45.89</td>\n",
       "      <td>36.43</td>\n",
       "      <td>6.75</td>\n",
       "      <td>181.73</td>\n",
       "    </tr>\n",
       "    <tr>\n",
       "      <th>Sports</th>\n",
       "      <td>30.90</td>\n",
       "      <td>41.54</td>\n",
       "      <td>46.64</td>\n",
       "      <td>41.49</td>\n",
       "      <td>14.63</td>\n",
       "      <td>175.20</td>\n",
       "    </tr>\n",
       "    <tr>\n",
       "      <th>Misc</th>\n",
       "      <td>22.93</td>\n",
       "      <td>25.66</td>\n",
       "      <td>23.73</td>\n",
       "      <td>11.66</td>\n",
       "      <td>1.15</td>\n",
       "      <td>85.13</td>\n",
       "    </tr>\n",
       "    <tr>\n",
       "      <th>Platform</th>\n",
       "      <td>18.56</td>\n",
       "      <td>25.09</td>\n",
       "      <td>8.87</td>\n",
       "      <td>6.05</td>\n",
       "      <td>2.08</td>\n",
       "      <td>60.65</td>\n",
       "    </tr>\n",
       "    <tr>\n",
       "      <th>Racing</th>\n",
       "      <td>14.43</td>\n",
       "      <td>13.02</td>\n",
       "      <td>16.71</td>\n",
       "      <td>7.92</td>\n",
       "      <td>1.67</td>\n",
       "      <td>53.75</td>\n",
       "    </tr>\n",
       "    <tr>\n",
       "      <th>Fighting</th>\n",
       "      <td>9.53</td>\n",
       "      <td>7.23</td>\n",
       "      <td>16.15</td>\n",
       "      <td>7.78</td>\n",
       "      <td>3.85</td>\n",
       "      <td>44.54</td>\n",
       "    </tr>\n",
       "    <tr>\n",
       "      <th>Simulation</th>\n",
       "      <td>13.37</td>\n",
       "      <td>8.68</td>\n",
       "      <td>5.54</td>\n",
       "      <td>5.61</td>\n",
       "      <td>0.39</td>\n",
       "      <td>33.59</td>\n",
       "    </tr>\n",
       "    <tr>\n",
       "      <th>Adventure</th>\n",
       "      <td>5.95</td>\n",
       "      <td>6.61</td>\n",
       "      <td>6.09</td>\n",
       "      <td>8.03</td>\n",
       "      <td>1.81</td>\n",
       "      <td>28.49</td>\n",
       "    </tr>\n",
       "    <tr>\n",
       "      <th>Strategy</th>\n",
       "      <td>3.33</td>\n",
       "      <td>6.32</td>\n",
       "      <td>0.97</td>\n",
       "      <td>1.82</td>\n",
       "      <td>0.52</td>\n",
       "      <td>12.96</td>\n",
       "    </tr>\n",
       "    <tr>\n",
       "      <th>Puzzle</th>\n",
       "      <td>1.74</td>\n",
       "      <td>1.00</td>\n",
       "      <td>1.51</td>\n",
       "      <td>0.69</td>\n",
       "      <td>NaN</td>\n",
       "      <td>4.94</td>\n",
       "    </tr>\n",
       "  </tbody>\n",
       "</table>\n",
       "</div>"
      ],
      "text/plain": [
       "year            2012    2013    2014    2015   2016      All\n",
       "genre                                                       \n",
       "All           363.30  367.98  337.10  264.26  70.87  1403.51\n",
       "Action        121.95  125.21   99.01   70.66  19.85   436.68\n",
       "Shooter        72.84   62.73   65.99   66.12  18.17   285.85\n",
       "Role-Playing   47.77   44.89   45.89   36.43   6.75   181.73\n",
       "Sports         30.90   41.54   46.64   41.49  14.63   175.20\n",
       "Misc           22.93   25.66   23.73   11.66   1.15    85.13\n",
       "Platform       18.56   25.09    8.87    6.05   2.08    60.65\n",
       "Racing         14.43   13.02   16.71    7.92   1.67    53.75\n",
       "Fighting        9.53    7.23   16.15    7.78   3.85    44.54\n",
       "Simulation     13.37    8.68    5.54    5.61   0.39    33.59\n",
       "Adventure       5.95    6.61    6.09    8.03   1.81    28.49\n",
       "Strategy        3.33    6.32    0.97    1.82   0.52    12.96\n",
       "Puzzle          1.74    1.00    1.51    0.69    NaN     4.94"
      ]
     },
     "execution_count": 38,
     "metadata": {},
     "output_type": "execute_result"
    }
   ],
   "source": [
    "top_games = games_12_16.pivot_table(index='genre', columns='year'\n",
    "                        ,values='total_sales',aggfunc='sum', margins=True).copy()\n",
    "top_games.sort_values(by='All', ascending=False)"
   ]
  },
  {
   "cell_type": "markdown",
   "id": "abstract-entertainment",
   "metadata": {
    "id": "a2fKJIjWRILj",
    "papermill": {
     "duration": 0.084252,
     "end_time": "2021-04-28T14:30:54.713118",
     "exception": false,
     "start_time": "2021-04-28T14:30:54.628866",
     "status": "completed"
    },
    "tags": []
   },
   "source": [
    "The most popular genres are action and shooter, but puzzle is disappearing completely. Also, the popular genres include RPG, platform and sports. The largest drop in revenue was received by the action genre, shooter and RPG are developing more steadily"
   ]
  },
  {
   "cell_type": "markdown",
   "id": "local-treaty",
   "metadata": {
    "id": "0B9uQfQNRILj",
    "papermill": {
     "duration": 0.084645,
     "end_time": "2021-04-28T14:30:54.882274",
     "exception": false,
     "start_time": "2021-04-28T14:30:54.797629",
     "status": "completed"
    },
    "tags": []
   },
   "source": [
    "### Colnclusion"
   ]
  },
  {
   "cell_type": "markdown",
   "id": "posted-connecticut",
   "metadata": {
    "id": "sVzTx2loRILj",
    "papermill": {
     "duration": 0.08548,
     "end_time": "2021-04-28T14:30:55.054077",
     "exception": false,
     "start_time": "2021-04-28T14:30:54.968597",
     "status": "completed"
    },
    "tags": []
   },
   "source": [
    "The gaming industry has been actively developing since 1994. It should be noted that the ESRP rating has been used since 1993. The peaks are in 2006 - 2011, then we see a decline and some leveling off since 2012 (from 500 to 652 games per year - close to the level of 2001 - 2006). This may be due to the development of games on mobile devices for Android or iOs. Over the past years, the rate of development has been falling, and profits have been falling.\n",
    "\n",
    "The median lifespan of the platform is 10 years, while the time cycle for the announcement of a new console is approximately 6-7 years\n",
    "\n",
    "\n",
    "Promising platforms are PS4, XOne, 3DS and PC. Despite the fact that we see a general decline - the leaders and the distribution of profits do not change. PS4 and XOne are developing in a similar fashion, with PS4 selling slightly better due to the availability of exclusive games, while Miscrosoft's policy is to play on PC as well. The 3DS platform is also selling well, the PC is inferior to the console versions, which is associated with the need to update the hardware of the computer, which is much more expensive than buying a console\n",
    "\n",
    "The biggest drop in revenue was seen in the action genre, shooter and RPG are developing more steadily. At the moment, shooter is among the best sellers, but approximately equal to action. Thus - users are interested in action, RPG and shooter"
   ]
  },
  {
   "cell_type": "markdown",
   "id": "better-desert",
   "metadata": {
    "id": "RmoZWjbhRILk",
    "papermill": {
     "duration": 0.083794,
     "end_time": "2021-04-28T14:30:55.222405",
     "exception": false,
     "start_time": "2021-04-28T14:30:55.138611",
     "status": "completed"
    },
    "tags": []
   },
   "source": [
    "## Exploring video game users by region"
   ]
  },
  {
   "cell_type": "markdown",
   "id": "dutch-custody",
   "metadata": {
    "id": "hzhdker5RILk",
    "papermill": {
     "duration": 0.083826,
     "end_time": "2021-04-28T14:30:55.390264",
     "exception": false,
     "start_time": "2021-04-28T14:30:55.306438",
     "status": "completed"
    },
    "tags": []
   },
   "source": [
    "\n",
    "For convenience, let's display our dataframe"
   ]
  },
  {
   "cell_type": "code",
   "execution_count": 39,
   "id": "disabled-makeup",
   "metadata": {
    "execution": {
     "iopub.execute_input": "2021-04-28T14:30:55.576732Z",
     "iopub.status.busy": "2021-04-28T14:30:55.575728Z",
     "iopub.status.idle": "2021-04-28T14:30:55.581178Z",
     "shell.execute_reply": "2021-04-28T14:30:55.580678Z"
    },
    "id": "XdCyUSOERILk",
    "outputId": "206ac88c-c205-437f-a8f4-f8e8ece66ac4",
    "papermill": {
     "duration": 0.107094,
     "end_time": "2021-04-28T14:30:55.581363",
     "exception": false,
     "start_time": "2021-04-28T14:30:55.474269",
     "status": "completed"
    },
    "tags": []
   },
   "outputs": [
    {
     "data": {
      "text/html": [
       "<div>\n",
       "<style scoped>\n",
       "    .dataframe tbody tr th:only-of-type {\n",
       "        vertical-align: middle;\n",
       "    }\n",
       "\n",
       "    .dataframe tbody tr th {\n",
       "        vertical-align: top;\n",
       "    }\n",
       "\n",
       "    .dataframe thead th {\n",
       "        text-align: right;\n",
       "    }\n",
       "</style>\n",
       "<table border=\"1\" class=\"dataframe\">\n",
       "  <thead>\n",
       "    <tr style=\"text-align: right;\">\n",
       "      <th></th>\n",
       "      <th>rank</th>\n",
       "      <th>name</th>\n",
       "      <th>platform</th>\n",
       "      <th>year</th>\n",
       "      <th>genre</th>\n",
       "      <th>publisher</th>\n",
       "      <th>na_sales</th>\n",
       "      <th>eu_sales</th>\n",
       "      <th>jp_sales</th>\n",
       "      <th>other_sales</th>\n",
       "      <th>global_sales</th>\n",
       "      <th>total_sales</th>\n",
       "    </tr>\n",
       "  </thead>\n",
       "  <tbody>\n",
       "    <tr>\n",
       "      <th>0</th>\n",
       "      <td>17</td>\n",
       "      <td>Grand Theft Auto V</td>\n",
       "      <td>PS3</td>\n",
       "      <td>2013</td>\n",
       "      <td>Action</td>\n",
       "      <td>Take-Two Interactive</td>\n",
       "      <td>7.01</td>\n",
       "      <td>9.27</td>\n",
       "      <td>0.97</td>\n",
       "      <td>4.14</td>\n",
       "      <td>21.40</td>\n",
       "      <td>21.39</td>\n",
       "    </tr>\n",
       "    <tr>\n",
       "      <th>1</th>\n",
       "      <td>24</td>\n",
       "      <td>Grand Theft Auto V</td>\n",
       "      <td>X360</td>\n",
       "      <td>2013</td>\n",
       "      <td>Action</td>\n",
       "      <td>Take-Two Interactive</td>\n",
       "      <td>9.63</td>\n",
       "      <td>5.31</td>\n",
       "      <td>0.06</td>\n",
       "      <td>1.38</td>\n",
       "      <td>16.38</td>\n",
       "      <td>16.38</td>\n",
       "    </tr>\n",
       "    <tr>\n",
       "      <th>2</th>\n",
       "      <td>33</td>\n",
       "      <td>Pokemon X/Pokemon Y</td>\n",
       "      <td>3DS</td>\n",
       "      <td>2013</td>\n",
       "      <td>Role-Playing</td>\n",
       "      <td>Nintendo</td>\n",
       "      <td>5.17</td>\n",
       "      <td>4.05</td>\n",
       "      <td>4.34</td>\n",
       "      <td>0.79</td>\n",
       "      <td>14.35</td>\n",
       "      <td>14.35</td>\n",
       "    </tr>\n",
       "    <tr>\n",
       "      <th>3</th>\n",
       "      <td>34</td>\n",
       "      <td>Call of Duty: Black Ops 3</td>\n",
       "      <td>PS4</td>\n",
       "      <td>2015</td>\n",
       "      <td>Shooter</td>\n",
       "      <td>Activision</td>\n",
       "      <td>5.77</td>\n",
       "      <td>5.81</td>\n",
       "      <td>0.35</td>\n",
       "      <td>2.31</td>\n",
       "      <td>14.24</td>\n",
       "      <td>14.24</td>\n",
       "    </tr>\n",
       "    <tr>\n",
       "      <th>4</th>\n",
       "      <td>35</td>\n",
       "      <td>Call of Duty: Black Ops II</td>\n",
       "      <td>PS3</td>\n",
       "      <td>2012</td>\n",
       "      <td>Shooter</td>\n",
       "      <td>Activision</td>\n",
       "      <td>4.99</td>\n",
       "      <td>5.88</td>\n",
       "      <td>0.65</td>\n",
       "      <td>2.52</td>\n",
       "      <td>14.03</td>\n",
       "      <td>14.04</td>\n",
       "    </tr>\n",
       "  </tbody>\n",
       "</table>\n",
       "</div>"
      ],
      "text/plain": [
       "   rank                        name platform  year         genre  \\\n",
       "0    17          Grand Theft Auto V      PS3  2013        Action   \n",
       "1    24          Grand Theft Auto V     X360  2013        Action   \n",
       "2    33         Pokemon X/Pokemon Y      3DS  2013  Role-Playing   \n",
       "3    34   Call of Duty: Black Ops 3      PS4  2015       Shooter   \n",
       "4    35  Call of Duty: Black Ops II      PS3  2012       Shooter   \n",
       "\n",
       "              publisher  na_sales  eu_sales  jp_sales  other_sales  \\\n",
       "0  Take-Two Interactive      7.01      9.27      0.97         4.14   \n",
       "1  Take-Two Interactive      9.63      5.31      0.06         1.38   \n",
       "2              Nintendo      5.17      4.05      4.34         0.79   \n",
       "3            Activision      5.77      5.81      0.35         2.31   \n",
       "4            Activision      4.99      5.88      0.65         2.52   \n",
       "\n",
       "   global_sales  total_sales  \n",
       "0         21.40        21.39  \n",
       "1         16.38        16.38  \n",
       "2         14.35        14.35  \n",
       "3         14.24        14.24  \n",
       "4         14.03        14.04  "
      ]
     },
     "execution_count": 39,
     "metadata": {},
     "output_type": "execute_result"
    }
   ],
   "source": [
    "games_12_16.head()"
   ]
  },
  {
   "cell_type": "markdown",
   "id": "pleasant-freight",
   "metadata": {
    "id": "nRQAePgiRILk",
    "papermill": {
     "duration": 0.084792,
     "end_time": "2021-04-28T14:30:55.751835",
     "exception": false,
     "start_time": "2021-04-28T14:30:55.667043",
     "status": "completed"
    },
    "tags": []
   },
   "source": [
    "Let's write a charting function for popular genres and platforms by region:"
   ]
  },
  {
   "cell_type": "code",
   "execution_count": 40,
   "id": "established-pension",
   "metadata": {
    "execution": {
     "iopub.execute_input": "2021-04-28T14:30:55.929229Z",
     "iopub.status.busy": "2021-04-28T14:30:55.928593Z",
     "iopub.status.idle": "2021-04-28T14:30:55.930642Z",
     "shell.execute_reply": "2021-04-28T14:30:55.931152Z"
    },
    "id": "c3_lwrS8RILl",
    "papermill": {
     "duration": 0.094448,
     "end_time": "2021-04-28T14:30:55.931344",
     "exception": false,
     "start_time": "2021-04-28T14:30:55.836896",
     "status": "completed"
    },
    "tags": []
   },
   "outputs": [],
   "source": [
    "def diag_plot (data, column, region):\n",
    "    region_data = games_12_16.groupby([column])[region].sum().sort_values(ascending=False).head()\n",
    "    data = region_data\n",
    "    \n",
    "    data.plot(y=column, kind='bar', figsize=(15,5),\n",
    "              color=['red', 'steelblue', 'violet', 'lightgreen', 'lightblue'],\n",
    "              edgecolor='black'\n",
    "             )\n",
    "\n",
    "    \n",
    "    plt.title('Distribution of platforms by revenue')\n",
    "    plt.ylabel('')\n",
    "    plt.xlabel('')\n",
    "    plt.show()"
   ]
  },
  {
   "cell_type": "markdown",
   "id": "external-responsibility",
   "metadata": {
    "id": "wVnpQOy0RILl",
    "papermill": {
     "duration": 0.08491,
     "end_time": "2021-04-28T14:30:56.103894",
     "exception": false,
     "start_time": "2021-04-28T14:30:56.018984",
     "status": "completed"
    },
    "tags": []
   },
   "source": [
    "### Region NA"
   ]
  },
  {
   "cell_type": "code",
   "execution_count": 41,
   "id": "threaded-payroll",
   "metadata": {
    "execution": {
     "iopub.execute_input": "2021-04-28T14:30:56.278184Z",
     "iopub.status.busy": "2021-04-28T14:30:56.277527Z",
     "iopub.status.idle": "2021-04-28T14:30:56.459546Z",
     "shell.execute_reply": "2021-04-28T14:30:56.459015Z"
    },
    "id": "XOggq_9JRILl",
    "outputId": "5473a1f2-0552-4219-cddb-dc844bbe8ac9",
    "papermill": {
     "duration": 0.269791,
     "end_time": "2021-04-28T14:30:56.459689",
     "exception": false,
     "start_time": "2021-04-28T14:30:56.189898",
     "status": "completed"
    },
    "tags": []
   },
   "outputs": [
    {
     "data": {
      "image/png": "[encoded data removed]",
      "text/plain": [
       "<Figure size 1080x360 with 1 Axes>"
      ]
     },
     "metadata": {},
     "output_type": "display_data"
    }
   ],
   "source": [
    "diag_plot(games_12_16, 'platform', 'na_sales')"
   ]
  },
  {
   "cell_type": "markdown",
   "id": "industrial-strap",
   "metadata": {
    "id": "pesoA2ibRILl",
    "papermill": {
     "duration": 0.087501,
     "end_time": "2021-04-28T14:30:56.633617",
     "exception": false,
     "start_time": "2021-04-28T14:30:56.546116",
     "status": "completed"
    },
    "tags": []
   },
   "source": [
    "In North America, the most popular platform is the X360 - where it comes from. At the same time, with the release of a new generation of consoles, the leadership goes to PS4. 3DS is the least popular console among the leaders"
   ]
  },
  {
   "cell_type": "code",
   "execution_count": 42,
   "id": "geological-rendering",
   "metadata": {
    "execution": {
     "iopub.execute_input": "2021-04-28T14:30:56.812040Z",
     "iopub.status.busy": "2021-04-28T14:30:56.811406Z",
     "iopub.status.idle": "2021-04-28T14:30:56.993858Z",
     "shell.execute_reply": "2021-04-28T14:30:56.994472Z"
    },
    "id": "q2SZiNAvRILm",
    "outputId": "16bb6714-baae-44e7-fe48-67c4ee891898",
    "papermill": {
     "duration": 0.27454,
     "end_time": "2021-04-28T14:30:56.994681",
     "exception": false,
     "start_time": "2021-04-28T14:30:56.720141",
     "status": "completed"
    },
    "tags": []
   },
   "outputs": [
    {
     "data": {
      "image/png": "[encoded data removed]",
      "text/plain": [
       "<Figure size 1080x360 with 1 Axes>"
      ]
     },
     "metadata": {},
     "output_type": "display_data"
    }
   ],
   "source": [
    "diag_plot(games_12_16, 'genre', 'na_sales')"
   ]
  },
  {
   "cell_type": "markdown",
   "id": "european-dakota",
   "metadata": {
    "id": "jn1wbH5gRILm",
    "papermill": {
     "duration": 0.087447,
     "end_time": "2021-04-28T14:30:57.170387",
     "exception": false,
     "start_time": "2021-04-28T14:30:57.082940",
     "status": "completed"
    },
    "tags": []
   },
   "source": [
    "As for genres, the most popular are action and shooter, closes the top three in the sport genre."
   ]
  },
  {
   "cell_type": "markdown",
   "id": "ambient-metallic",
   "metadata": {
    "id": "Gg5bMPzQRILm",
    "papermill": {
     "duration": 0.087244,
     "end_time": "2021-04-28T14:30:57.344876",
     "exception": false,
     "start_time": "2021-04-28T14:30:57.257632",
     "status": "completed"
    },
    "tags": []
   },
   "source": [
    "### Region EU"
   ]
  },
  {
   "cell_type": "code",
   "execution_count": 43,
   "id": "increasing-catalog",
   "metadata": {
    "execution": {
     "iopub.execute_input": "2021-04-28T14:30:57.523872Z",
     "iopub.status.busy": "2021-04-28T14:30:57.523134Z",
     "iopub.status.idle": "2021-04-28T14:30:57.693904Z",
     "shell.execute_reply": "2021-04-28T14:30:57.693187Z"
    },
    "id": "aOt0oUlyRILn",
    "outputId": "f6caebf2-2377-4709-a6e0-7c23715985d3",
    "papermill": {
     "duration": 0.260581,
     "end_time": "2021-04-28T14:30:57.694055",
     "exception": false,
     "start_time": "2021-04-28T14:30:57.433474",
     "status": "completed"
    },
    "tags": []
   },
   "outputs": [
    {
     "data": {
      "image/png": "[encoded data removed]",
      "text/plain": [
       "<Figure size 1080x360 with 1 Axes>"
      ]
     },
     "metadata": {},
     "output_type": "display_data"
    }
   ],
   "source": [
    "diag_plot(games_12_16, 'platform', 'eu_sales')"
   ]
  },
  {
   "cell_type": "markdown",
   "id": "cooked-march",
   "metadata": {
    "id": "XvLkHLi_RILn",
    "papermill": {
     "duration": 0.088165,
     "end_time": "2021-04-28T14:30:57.871263",
     "exception": false,
     "start_time": "2021-04-28T14:30:57.783098",
     "status": "completed"
    },
    "tags": []
   },
   "source": [
    "Among European users, PS4 and PS3 are leaders, Microsoft's console is much less successful than in North America"
   ]
  },
  {
   "cell_type": "code",
   "execution_count": 44,
   "id": "adjacent-portrait",
   "metadata": {
    "execution": {
     "iopub.execute_input": "2021-04-28T14:30:58.056374Z",
     "iopub.status.busy": "2021-04-28T14:30:58.055738Z",
     "iopub.status.idle": "2021-04-28T14:30:58.244771Z",
     "shell.execute_reply": "2021-04-28T14:30:58.245319Z"
    },
    "id": "AUto-JMGRILo",
    "outputId": "fb8a0886-f91b-44be-9503-e6ee7c548f82",
    "papermill": {
     "duration": 0.284361,
     "end_time": "2021-04-28T14:30:58.245495",
     "exception": false,
     "start_time": "2021-04-28T14:30:57.961134",
     "status": "completed"
    },
    "tags": []
   },
   "outputs": [
    {
     "data": {
      "image/png": "[encoded data removed]",
      "text/plain": [
       "<Figure size 1080x360 with 1 Axes>"
      ]
     },
     "metadata": {},
     "output_type": "display_data"
    }
   ],
   "source": [
    "diag_plot(games_12_16, 'genre', 'eu_sales')"
   ]
  },
  {
   "cell_type": "markdown",
   "id": "standing-plaza",
   "metadata": {
    "id": "IsEHFxxGRILo",
    "papermill": {
     "duration": 0.089337,
     "end_time": "2021-04-28T14:30:58.425027",
     "exception": false,
     "start_time": "2021-04-28T14:30:58.335690",
     "status": "completed"
    },
    "tags": []
   },
   "source": [
    "### Region JP"
   ]
  },
  {
   "cell_type": "code",
   "execution_count": 45,
   "id": "appointed-psychiatry",
   "metadata": {
    "execution": {
     "iopub.execute_input": "2021-04-28T14:30:58.610332Z",
     "iopub.status.busy": "2021-04-28T14:30:58.609589Z",
     "iopub.status.idle": "2021-04-28T14:30:58.795559Z",
     "shell.execute_reply": "2021-04-28T14:30:58.796035Z"
    },
    "id": "RLW0TP3_RILo",
    "outputId": "1b2669f3-b8ef-4d7d-d0c5-9b935eed84be",
    "papermill": {
     "duration": 0.279007,
     "end_time": "2021-04-28T14:30:58.796209",
     "exception": false,
     "start_time": "2021-04-28T14:30:58.517202",
     "status": "completed"
    },
    "tags": []
   },
   "outputs": [
    {
     "data": {
      "image/png": "[encoded data removed]",
      "text/plain": [
       "<Figure size 1080x360 with 1 Axes>"
      ]
     },
     "metadata": {},
     "output_type": "display_data"
    }
   ],
   "source": [
    "diag_plot(games_12_16, 'platform', 'jp_sales')"
   ]
  },
  {
   "cell_type": "markdown",
   "id": "cosmetic-melbourne",
   "metadata": {
    "id": "DAuq7LhGRILo",
    "papermill": {
     "duration": 0.092166,
     "end_time": "2021-04-28T14:30:58.980473",
     "exception": false,
     "start_time": "2021-04-28T14:30:58.888307",
     "status": "completed"
    },
    "tags": []
   },
   "source": [
    "Japanese users prefer consoles from Nintendo and Sony. At the same time, as many as two portable consoles entered the top 5. Japanese users prefer local console makers"
   ]
  },
  {
   "cell_type": "code",
   "execution_count": 46,
   "id": "absolute-story",
   "metadata": {
    "execution": {
     "iopub.execute_input": "2021-04-28T14:30:59.167176Z",
     "iopub.status.busy": "2021-04-28T14:30:59.166502Z",
     "iopub.status.idle": "2021-04-28T14:30:59.346584Z",
     "shell.execute_reply": "2021-04-28T14:30:59.345971Z"
    },
    "id": "oXSMsa7ARILo",
    "outputId": "757604d8-a864-46c3-8a32-636a21711081",
    "papermill": {
     "duration": 0.273827,
     "end_time": "2021-04-28T14:30:59.346729",
     "exception": false,
     "start_time": "2021-04-28T14:30:59.072902",
     "status": "completed"
    },
    "tags": []
   },
   "outputs": [
    {
     "data": {
      "image/png": "[encoded data removed]",
      "text/plain": [
       "<Figure size 1080x360 with 1 Axes>"
      ]
     },
     "metadata": {},
     "output_type": "display_data"
    }
   ],
   "source": [
    "diag_plot(games_12_16, 'genre', 'jp_sales')"
   ]
  },
  {
   "cell_type": "markdown",
   "id": "breeding-metropolitan",
   "metadata": {
    "id": "GLDxLxR3RILp",
    "papermill": {
     "duration": 0.112527,
     "end_time": "2021-04-28T14:30:59.551193",
     "exception": false,
     "start_time": "2021-04-28T14:30:59.438666",
     "status": "completed"
    },
    "tags": []
   },
   "source": [
    "It is expected that Japanese users prefer RPGs (many famous RPGs originated from Japan, there is a separate subgenre - [jRPG](https://ru.wikipedia.org/wiki/%D0%AF%D0%BF%D0%BE%D0%BD%D1%81%D0%BA%D0%B0%D1%8F_%D1%80%D0%BE%D0%BB%D0%B5%D0%B2%D0%B0%D1%8F_%D0%B8%D0%B3%D1%80%D0%B0)),next comes action.\n",
    "\n",
    "If Europe and America are more or less similar in preference, then Japan clearly stands out at their level.\n",
    "The Japanese often work a lot (over [60](https://rb.ru/story/karoshi/) hours per week) - with this approach - there will be no time for a home stationary console - perhaps that is why portable consoles are in the lead. In addition, Japanese housing is often small in size - choosing a portable platform will save space (there is no need to buy a monitor or TV and the console itself will not take up space)\n",
    "\n",
    "As for RPGs, role-playing games offer the user immersion and passion for a long time, unlike shooters or action games, some immersion and juxtaposition of oneself and the character, which helps to distract from fatigue\n"
   ]
  },
  {
   "cell_type": "markdown",
   "id": "discrete-reminder",
   "metadata": {
    "id": "KQaElVQNRILr",
    "papermill": {
     "duration": 0.092996,
     "end_time": "2021-04-28T14:30:59.738675",
     "exception": false,
     "start_time": "2021-04-28T14:30:59.645679",
     "status": "completed"
    },
    "tags": []
   },
   "source": [
    "### Colnclusion"
   ]
  },
  {
   "cell_type": "markdown",
   "id": "ancient-referral",
   "metadata": {
    "id": "i7BxCQbPRILr",
    "papermill": {
     "duration": 0.091575,
     "end_time": "2021-04-28T14:30:59.923115",
     "exception": false,
     "start_time": "2021-04-28T14:30:59.831540",
     "status": "completed"
    },
    "tags": []
   },
   "source": [
    "In North America, the most popular platform is the X360 - where it comes from. At the same time, with the release of a new generation of consoles, the leadership goes to PS4. 3DS is the least popular console among the leaders.\n",
    "\n",
    "Among European users, PS4 and PS3 are the leaders, Microsoft's console is much less successful than in North America, but both regions are similar in that 3ds is the least popular. \n",
    "\n",
    "\n",
    "Japanese users prefer consoles from Nintendo and Sony. At the same time, as many as two portable consoles entered the top 5. Japanese users prefer local console makers\n",
    "\n",
    "\n",
    "In terms of genres, American and European users preferaction games and shooters, Japanese users prefer 3DS games and RPGs."
   ]
  },
  {
   "cell_type": "markdown",
   "id": "changed-waters",
   "metadata": {
    "id": "7doEDbinRILw",
    "papermill": {
     "duration": 0.092326,
     "end_time": "2021-04-28T14:31:00.110283",
     "exception": false,
     "start_time": "2021-04-28T14:31:00.017957",
     "status": "completed"
    },
    "tags": []
   },
   "source": [
    "## Conclusion"
   ]
  },
  {
   "cell_type": "markdown",
   "id": "superb-inventory",
   "metadata": {
    "id": "tcyQI6I4RILw",
    "papermill": {
     "duration": 0.092165,
     "end_time": "2021-04-28T14:31:00.341807",
     "exception": false,
     "start_time": "2021-04-28T14:31:00.249642",
     "status": "completed"
    },
    "tags": []
   },
   "source": [
    "\n",
    "\n",
    "**Promising platforms for 2017 + are Playstation 4 and Xbox One**. Nintendo's 3DS should only be considered if targeting the Japanese market. For the domestic market, the results of the European study are applicable. Accordingly, action and shooter will be promising genres - such games will most likely be in demand. Sports games are also popular - they should also be considered for marketing.\n",
    "\n",
    "PC is less promising than consoles at the moment, which may be due to the development of online services for buying games - that is, the need for physical media is no longer needed.\n",
    "\n",
    "In this way,\n",
    "\n",
    "you need to focus on the 8th generation PS4 and Xbox One consoles, with the first in priority, and action and shooter games"
   ]
  },
  {
   "cell_type": "code",
   "execution_count": null,
   "id": "visible-tribe",
   "metadata": {
    "papermill": {
     "duration": 0.092265,
     "end_time": "2021-04-28T14:31:00.526008",
     "exception": false,
     "start_time": "2021-04-28T14:31:00.433743",
     "status": "completed"
    },
    "tags": []
   },
   "outputs": [],
   "source": []
  }
 ],
 "metadata": {
  "kernelspec": {
   "display_name": "Python 3",
   "language": "python",
   "name": "python3"
  },
  "language_info": {
   "codemirror_mode": {
    "name": "ipython",
    "version": 3
   },
   "file_extension": ".py",
   "mimetype": "text/x-python",
   "name": "python",
   "nbconvert_exporter": "python",
   "pygments_lexer": "ipython3",
   "version": "3.7.10"
  },
  "papermill": {
   "default_parameters": {},
   "duration": 31.015692,
   "end_time": "2021-04-28T14:31:01.948738",
   "environment_variables": {},
   "exception": null,
   "input_path": "__notebook__.ipynb",
   "output_path": "__notebook__.ipynb",
   "parameters": {},
   "start_time": "2021-04-28T14:30:30.933046",
   "version": "2.3.3"
  }
 },
 "nbformat": 4,
 "nbformat_minor": 5
}
